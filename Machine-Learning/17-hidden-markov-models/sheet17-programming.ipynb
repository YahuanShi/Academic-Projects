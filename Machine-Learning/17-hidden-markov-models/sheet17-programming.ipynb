{
 "cells": [
  {
   "cell_type": "markdown",
   "metadata": {},
   "source": [
    "# Programming Hidden Markov Models (60 P)\n",
    "\n",
    "In this exercise, you will experiment with hidden Markov models, in particular, applying them to modeling character sequences, and analyzing the learned solution. As a starting point, you are provided in the file `hmm.py` with a basic implementation of an HMM and of the Baum-Welch training algorithm. The names of variables used in the code and the references to equations are taken from the HMM paper by Rabiner et al. downloable from ISIS. In addition to the variables described in this paper, we use two additional variables: $Z$ for the emission probabilities of observations $O$, and $\\psi$ (i.e. psi) for collecting the statistics of Equation (40c).\n"
   ]
  },
  {
   "cell_type": "markdown",
   "metadata": {},
   "source": [
    "## Question 1: Analysis of a small HMM (30 P)\n",
    "\n",
    "We first look at a toy example of an HMM trained on a binary sequence. The training procedure below consists of 100 iterations of the Baum-Welch procedure. It runs the HMM learning algorithm for some toy binary data and prints the parameters learned by the HMM (i.e. matrices $A$ and $B$).\n",
    "\n",
    "### Question 1a: Qualitative Analysis (15 P)\n",
    "\n",
    "* *Run* the code several times to check that the behavior is consistent.\n",
    "* *Describe* qualitatively the solution $A,B$ learned by the model.\n",
    "* *Explain* how the solution $\\lambda = (A,B)$ relates to the sequence of observations $O$ that has been modeled.\n"
   ]
  },
  {
   "cell_type": "code",
   "execution_count": 1,
   "metadata": {
    "execution": {
     "iopub.execute_input": "2024-04-25T16:13:32.165851Z",
     "iopub.status.busy": "2024-04-25T16:13:32.165293Z",
     "iopub.status.idle": "2024-04-25T16:13:32.305218Z",
     "shell.execute_reply": "2024-04-25T16:13:32.304334Z"
    }
   },
   "outputs": [
    {
     "name": "stdout",
     "output_type": "stream",
     "text": [
      "A\n",
      "0.000 1.000 0.000 0.000\n",
      "0.000 0.000 0.000 1.000\n",
      "1.000 0.000 0.000 0.000\n",
      "0.000 0.000 1.000 0.000\n",
      " \n",
      "B\n",
      "0.720 0.280\n",
      "0.800 0.200\n",
      "0.000 1.000\n",
      "0.880 0.120\n",
      " \n",
      "Pi\n",
      "0.000\n",
      "0.000\n",
      "1.000\n",
      "0.000\n"
     ]
    }
   ],
   "source": [
    "import numpy,hmm\n",
    "\n",
    "O = numpy.array([1,0,1,0,1,1,0,0,1,0,0,0,1,1,1,0,1,0,0,0,1,1,0,1,1,0,0,1,1,\n",
    "                 0,0,0,1,0,0,0,1,1,0,0,1,0,0,1,1,0,0,0,1,0,1,0,1,0,0,0,1,0,\n",
    "                 0,0,1,0,1,0,1,0,0,0,1,1,1,0,1,0,0,0,1,0,0,0,1,0,1,0,1,0,0,\n",
    "                 0,1,1,1,0,1,0,0,0,1,0,0,0,1,0,0,0,1,0,0,0,1,1,0,0,1,0,1,1,\n",
    "                 1,0,0,0,1,1,0,0,1,0,1,1,1,0,0,1,1,0,0,0,1,1,0,0,1,1,0,0,1,\n",
    "                 0,0,0,1,0,0,0,1,0,0,0,1,0,0,0,1,0,1,0,1,0,0,0,1,0,0,0,1,0,\n",
    "                 0,0,1,0,0,0,1,1,0,0,1,1,0,0,1,1,0,0,1,0,0,0,1,1,0,0])\n",
    "\n",
    "hmmtoy = hmm.HMM(4,2)\n",
    "\n",
    "for k in range(100):\n",
    "    hmmtoy.loaddata(O)\n",
    "    hmmtoy.forward()\n",
    "    hmmtoy.backward()\n",
    "    hmmtoy.learn()\n",
    "\n",
    "print('A')\n",
    "print(\"\\n\".join([\" \".join(['%.3f'%a for a in aa]) for aa in hmmtoy.A]))\n",
    "print(' ')\n",
    "print('B')\n",
    "print(\"\\n\".join([\" \".join(['%.3f'%b for b in bb]) for bb in hmmtoy.B]))\n",
    "print(' ')\n",
    "print('Pi')\n",
    "print(\"\\n\".join(['%.3f'%b for b in hmmtoy.Pi]))"
   ]
  },
  {
   "cell_type": "markdown",
   "metadata": {},
   "source": [
    "### Question 1b: Finding the best number $N$ of hidden states (15 P)\n",
    "\n",
    "For the same sequence of observations as in Question 1a, we would like to determine automatically what is a good number of hidden states $N = \\mathrm{card}(S)$ for the model.\n",
    "\n",
    "* *Split* the sequence of observations into a training and test set (you can assume stationarity).\n",
    "* *Train* the model on the training set for several iteration (e.g. 100 iterations) and for multiple parameter $N$.\n",
    "* *Show* for each choice of parameter $N$ the log-probability $\\log p(O | \\lambda)$ for the test set. (If the results are unstable, perform several trials of the same experiment for each parameter $N$.)\n",
    "* *Explain* in the light of this experiment what is the best parameter $N$."
   ]
  },
  {
   "cell_type": "code",
   "execution_count": 2,
   "metadata": {
    "execution": {
     "iopub.execute_input": "2024-04-25T16:13:32.331234Z",
     "iopub.status.busy": "2024-04-25T16:13:32.330799Z",
     "iopub.status.idle": "2024-04-25T16:13:32.727927Z",
     "shell.execute_reply": "2024-04-25T16:13:32.727709Z"
    }
   },
   "outputs": [
    {
     "name": "stdout",
     "output_type": "stream",
     "text": [
      "\n",
      "N=2\n",
      "trial 0 logptrain=-56.241 logptest=-61.575\n",
      "trial 1 logptrain=-56.241 logptest=-61.575\n",
      "trial 2 logptrain=-56.241 logptest=-61.575\n",
      "trial 3 logptrain=-56.241 logptest=-61.575\n",
      "trial 4 logptrain=-56.241 logptest=-61.575\n",
      "trial 5 logptrain=-56.241 logptest=-61.575\n",
      "trial 6 logptrain=-56.241 logptest=-61.575\n",
      "trial 7 logptrain=-64.965 logptest=-66.308\n",
      "trial 8 logptrain=-56.241 logptest=-61.575\n",
      "trial 9 logptrain=-65.070 logptest=-66.572\n",
      "\n",
      "N=4\n",
      "trial 0 logptrain=-37.774 logptest=-36.301\n",
      "trial 1 logptrain=-37.774 logptest=-36.301\n",
      "trial 2 logptrain=-37.774 logptest=-36.301\n",
      "trial 3 logptrain=-37.774 logptest=-36.301\n",
      "trial 4 logptrain=-37.774 logptest=-36.301\n",
      "trial 5 logptrain=-56.199 logptest=-61.524\n",
      "trial 6 logptrain=-55.214 logptest=-63.074\n",
      "trial 7 logptrain=-37.774 logptest=-36.301\n",
      "trial 8 logptrain=-37.774 logptest=-36.301\n",
      "trial 9 logptrain=-37.774 logptest=-36.301\n",
      "\n",
      "N=8\n",
      "trial 0 logptrain=-37.557 logptest=-71.608\n",
      "trial 1 logptrain=-36.561 logptest=-34.616\n",
      "trial 2 logptrain=-36.711 logptest=-66.243\n",
      "trial 3 logptrain=-35.824 logptest=-59.319\n",
      "trial 4 logptrain=-36.629 logptest=-38.436\n",
      "trial 5 logptrain=-35.825 logptest=-53.674\n",
      "trial 6 logptrain=-34.614 logptest=-51.893\n",
      "trial 7 logptrain=-32.370 logptest=-131.943\n",
      "trial 8 logptrain=-33.727 logptest=-78.625\n",
      "trial 9 logptrain=-32.724 logptest=-63.722\n",
      "\n",
      "N=12\n",
      "trial 0 logptrain=-35.825 logptest=-55.988\n",
      "trial 1 logptrain=-34.362 logptest=-108.545\n",
      "trial 2 logptrain=-28.311 logptest=-249.154\n",
      "trial 3 logptrain=-29.066 logptest=-441.086\n",
      "trial 4 logptrain=-32.363 logptest=-71.559\n",
      "trial 5 logptrain=-34.938 logptest=-48.161\n",
      "trial 6 logptrain=-35.102 logptest=-160.238\n",
      "trial 7 logptrain=-31.396 logptest=-134.368\n",
      "trial 8 logptrain=-36.561 logptest=-34.616\n",
      "trial 9 logptrain=-30.911 logptest=-50.089\n",
      "\n",
      "N=16\n",
      "trial 0 logptrain=-31.026 logptest=-84.462\n",
      "trial 1 logptrain=-25.860 logptest=-270.450\n",
      "trial 2 logptrain=-27.275 logptest=-230.227\n",
      "trial 3 logptrain=-29.089 logptest=-76.853\n",
      "trial 4 logptrain=-30.575 logptest=-82.037\n",
      "trial 5 logptrain=-28.283 logptest=-75.724\n",
      "trial 6 logptrain=-27.879 logptest=-122.742\n",
      "trial 7 logptrain=-26.846 logptest=-359.289\n",
      "trial 8 logptrain=-34.938 logptest=-54.594\n",
      "trial 9 logptrain=-28.636 logptest=-116.900\n"
     ]
    }
   ],
   "source": [
    "N_train = len(O) // 2\n",
    "train = O[:N_train]\n",
    "test = O[N_train:]\n",
    "M = 2 \n",
    "N_states = [2, 4, 8, 12, 16]\n",
    "\n",
    "for N in N_states:\n",
    "    print(f\"\\nN={N}\")\n",
    "\n",
    "    for trial in range(10): \n",
    "        hmmtoy = hmm.HMM(N, M)\n",
    "\n",
    "        for k in range(100):\n",
    "            hmmtoy.loaddata(train)\n",
    "            hmmtoy.forward()\n",
    "            hmmtoy.backward()\n",
    "            hmmtoy.learn()\n",
    "\n",
    "        hmmtoy.loaddata(train)\n",
    "        hmmtoy.forward()\n",
    "        prob_train = numpy.log(hmmtoy.pobs)\n",
    "\n",
    "        hmmtoy.loaddata(test)\n",
    "        hmmtoy.forward()\n",
    "        prob_test = numpy.log(hmmtoy.pobs)\n",
    "\n",
    "        print(f\"trial {trial} logptrain={prob_train:.3f} logptest={prob_test:.3f}\")"
   ]
  },
  {
   "cell_type": "markdown",
   "metadata": {},
   "source": [
    "## Question 2: Text modeling and generation (30 P)\n",
    "\n",
    "We would like to train an HMM on character sequences taken from English text. We use the 20 newsgroups dataset that is accessible via scikits-learn http://scikit-learn.org/stable/datasets/twenty_newsgroups.html. (For this, you need to install scikits-learn if not done already.) Documentation is available on the website. The code below allows you to (1) read the dataset, (2) sample HMM-readable sequences from it, and (3) convert them back into string of characters."
   ]
  },
  {
   "cell_type": "code",
   "execution_count": 3,
   "metadata": {
    "execution": {
     "iopub.execute_input": "2024-04-25T16:13:32.729228Z",
     "iopub.status.busy": "2024-04-25T16:13:32.729157Z",
     "iopub.status.idle": "2024-04-25T16:13:38.657329Z",
     "shell.execute_reply": "2024-04-25T16:13:38.656984Z"
    }
   },
   "outputs": [],
   "source": [
    "from sklearn.datasets import fetch_20newsgroups\n",
    "\n",
    "# Download a subset of the newsgroup dataset\n",
    "newsgroups_train = fetch_20newsgroups(subset='train',categories=['sci.med'])\n",
    "newsgroups_test  = fetch_20newsgroups(subset='test' ,categories=['sci.med'])\n",
    "\n",
    "# Sample a sequence of T characters from the dataset\n",
    "# that the HMM can read (0=whitespace 1-26=A-Z).\n",
    "#\n",
    "# Example of execution:\n",
    "# O = sample(newsgroups_train.data)\n",
    "# O = sample(newsgroups_test.data)\n",
    "#\n",
    "def sample(data,T=50):\n",
    "    i = numpy.random.randint(len(data))\n",
    "    O = data[i].upper().replace('\\n',' ')\n",
    "    O = numpy.array([ord(s) for s in O])\n",
    "    O = numpy.maximum(O[(O>=65)*(O<90)+(O==32)]-64,0)\n",
    "    j = numpy.random.randint(len(O)-T)\n",
    "    return O[j:j+T]\n",
    "\n",
    "# Takes a sequence of integers between 0 and 26 (HMM representation)\n",
    "# and converts it back to a string of characters\n",
    "def tochar(O):\n",
    "    return \"\".join([\"%s\"%chr(o) for o in (O+32*(O==0)+64*(O>0.5))])"
   ]
  },
  {
   "cell_type": "markdown",
   "metadata": {},
   "source": [
    "### Question 2a (15 P)\n",
    "\n",
    "In order to train the HMM, we use a stochastic optimization algorithm where the Baum-Welch procedure is applied to randomly drawn sequences of $T=50$ characters at each iteration. The HMM has 27 visible states (A-Z + whitespace) and 200 hidden states. Because the Baum-Welch procedure optimizes for the sequence taken as input, and no necessarily the full text, it can take fairly large steps in the parameter space, which is inadequate for stochastic optimization. We consider instead for the parameters $\\lambda = (A,B,\\Pi)$ the update rule $\\lambda^{new} = (1-\\gamma) \\lambda + \\gamma \\bar \\lambda$, where $\\bar \\lambda$ contains the candidate parameters obtained from Equations 40a-c. A reasonable value for $\\gamma$ is $0.1$.\n",
    "\n",
    "* *Create* a new class `HMMChar` that extends the class `HMM` provided in `hmm.py`.\n",
    "* *Implement* for this class a new method `HMMchar.learn(self)` that overrides the original methods, and implements the proposed update rule instead.\n",
    "* *Implement* the stochastic training procedure and run it.\n",
    "* *Monitor* $\\log p(O|\\lambda)$ on the test set at multiple iterations for sequences of same length as the one used for training. (Hint: for less noisy log-probability estimates, use several sequences or a moving average.)"
   ]
  },
  {
   "cell_type": "code",
   "execution_count": 6,
   "metadata": {
    "execution": {
     "iopub.execute_input": "2024-04-25T16:13:38.658727Z",
     "iopub.status.busy": "2024-04-25T16:13:38.658629Z",
     "iopub.status.idle": "2024-04-25T16:13:38.661808Z",
     "shell.execute_reply": "2024-04-25T16:13:38.661615Z"
    }
   },
   "outputs": [],
   "source": [
    "class HMMChar(hmm.HMM):\n",
    "\n",
    "    def learn(self):\n",
    "        # Compute gamma\n",
    "        self.gamma = self.alpha * self.beta / self.pobs\n",
    "\n",
    "        # Compute xi and psi\n",
    "        self.xi = self.alpha[:-1,:,None] * self.A[None,:,:] * self.beta[1:,None,:] * self.Z[1:,None,:] / self.pobs\n",
    "        self.psi = self.gamma[:,:,None] * (self.O[:,None,None] == numpy.arange(self.B.shape[1])[None,None,:])\n",
    "\n",
    "        # Update HMM parameters\n",
    "        self.A  = 0.9 * self.A + 0.1 * (self.xi.sum(axis=0)  / self.gamma[:-1].sum(axis=0)[:,None])\n",
    "        self.B  = 0.9 * self.B + 0.1 * (self.psi.sum(axis=0) / self.gamma.sum(axis=0)[:,None])\n",
    "        self.Pi = 0.9 * self.Pi + 0.1 * (self.gamma[0])\n",
    "\n",
    "    def generate(self, l):\n",
    "        # N = len(self.Pi)\n",
    "        N, M = self.B.shape\n",
    "\n",
    "        s = numpy.random.choice(N, p=self.Pi)\n",
    "        O = []\n",
    "\n",
    "        for i in range(l):\n",
    "            O += [numpy.random.choice(M, p=self.B[s])]\n",
    "            s = numpy.random.choice(N, p=self.A[s])\n",
    "\n",
    "        return numpy.array(O)\n",
    "\n",
    "\n",
    "hmmchar = HMMChar(200, 27)\n",
    "\n",
    "trainsample = lambda: sample(newsgroups_train.data)\n",
    "testsample  = lambda: sample(newsgroups_test.data)\n"
   ]
  },
  {
   "cell_type": "markdown",
   "metadata": {},
   "source": [
    "### Question 2b (15 P)\n",
    "\n",
    "In order to visualize what the HMM has learned, we would like to generate random text from it. A well-trained HMM should generate character sequences that have some similarity with the text it has been trained on.\n",
    "\n",
    "* *Implement* a method `generate(self,T)` of the class `HMMChar` that takes as argument the length of the character sequence that has to be generated.\n",
    "* *Test* your method by generating a sequence of 250 characters and comparing it with original text and a purely random sequence.\n",
    "* *Discuss* how the generated sequences compare with written English and what are the advantages and limitations of the HMM for this problem."
   ]
  },
  {
   "cell_type": "code",
   "execution_count": 7,
   "metadata": {
    "execution": {
     "iopub.execute_input": "2024-04-25T16:13:38.662858Z",
     "iopub.status.busy": "2024-04-25T16:13:38.662795Z",
     "iopub.status.idle": "2024-04-25T16:13:48.066654Z",
     "shell.execute_reply": "2024-04-25T16:13:48.066136Z"
    }
   },
   "outputs": [
    {
     "name": "stdout",
     "output_type": "stream",
     "text": [
      "0 -164.47548200185074 -157.19644118288605\n",
      "100 -133.56596044594227 -128.03725541248122\n",
      "200 -131.61339997892102 -121.94670649181472\n",
      "300 -131.52639449567764 -121.26489562382181\n",
      "400 -118.69728173696011 -110.55027342966511\n",
      "500 -126.55249116966147 -113.28856078544095\n",
      "600 -124.811825136084 -112.34685718904888\n",
      "700 -114.63063475530728 -103.74261578756824\n",
      "800 -124.18543575410591 -112.89752942429246\n",
      "900 -116.93596993696111 -106.37172413122572\n"
     ]
    }
   ],
   "source": [
    "for k in range(1000):\n",
    "    \n",
    "    Otrain = trainsample()\n",
    "    Otest = testsample()\n",
    "    hmmchar.loaddata(Otrain)\n",
    "    hmmchar.forward(); pobstrain = hmmchar.pobs\n",
    "    hmmchar.backward()\n",
    "    hmmchar.learn()\n",
    "    hmmchar.loaddata(Otrain)\n",
    "    hmmchar.forward(); pobstest = hmmchar.pobs\n",
    "    \n",
    "    if k%100 == 0: print(k,numpy.log(pobstrain),numpy.log(pobstest))\n",
    "    \n"
   ]
  },
  {
   "cell_type": "code",
   "execution_count": 10,
   "metadata": {
    "execution": {
     "iopub.execute_input": "2024-04-25T16:13:48.069383Z",
     "iopub.status.busy": "2024-04-25T16:13:48.069203Z",
     "iopub.status.idle": "2024-04-25T16:13:48.092203Z",
     "shell.execute_reply": "2024-04-25T16:13:48.091326Z"
    }
   },
   "outputs": [
    {
     "name": "stdout",
     "output_type": "stream",
     "text": [
      "original:\n",
      "VELOCITY OF BLOOD IN AORTA    WE HAVE VARIOUS VALUES FOR FLOW VELOCITY IF YOU HAVE ANY DATA REMEMBER TO GIVE US THE REFERENCES TOO INCLUDE IN OUR REPORT   STUD JAKOB HILMERFAX      HUS  GR A ROSKILDE UNIVERSITY DENMARK POSTBOX  DK ROSKILDE           \n",
      "\n",
      "learned:\n",
      "THE  S LAS WANT  ON  LINSOVEAT DIUSE FURTUSE  WOR DIPY SEANT DOSDSLEMYENESW  NE ON VEN ONSTAD A MOMT E MUYGHEAME  THE E LL DULIS POULL BASDINLIIRPONLR END    TBESVECTE W RES CIFINNL IRVM ONRIFELE CIM DAVES  CUAS NISIN UVE LIDIPBARGIT AN CIN G  ATION \n",
      "\n",
      "random:\n",
      "OCJGACVQJZPGJRBSTOOMYMYPSXJHSFMFZYRZDXGXNFUNVPI FW ZRCDTMWPKQYV SDRTJDZSYXCWKZWOUM XENQVTNLKOZTJIINLXYLDIVEWHLXHLHUAR SRYWLLZVV WPEMEFPODPOQICNGJHYEFFWNXKGYTCTGSKIQPXLHNFHJXNA  UWZMSVMPIGKCQZZVYAYSWJXNOKBZXGVGDKAUNVZGKOHHWKKXRXQEZDLAWGNCWGCNAYRWVR DK\n"
     ]
    }
   ],
   "source": [
    "print(\"original:\\n\" + tochar(sample(newsgroups_test.data, T=250)))\n",
    "print(\"\\nlearned:\\n\" + tochar(hmmchar.generate(250)))\n",
    "print(\"\\nrandom:\\n\" + tochar(HMMChar(200, 27).generate(250)))  # generate a sequence of 250 characters including whitespace"
   ]
  }
 ],
 "metadata": {
  "kernelspec": {
   "display_name": "Python 3",
   "language": "python",
   "name": "python3"
  },
  "language_info": {
   "codemirror_mode": {
    "name": "ipython",
    "version": 3
   },
   "file_extension": ".py",
   "mimetype": "text/x-python",
   "name": "python",
   "nbconvert_exporter": "python",
   "pygments_lexer": "ipython3",
   "version": "3.12.4"
  }
 },
 "nbformat": 4,
 "nbformat_minor": 1
}
