{
 "cells": [
  {
   "cell_type": "markdown",
   "id": "a3359c2e-b3a6-45cf-aa68-5e691354db61",
   "metadata": {},
   "source": [
    "# Case Study Group 20 "
   ]
  },
  {
   "cell_type": "markdown",
   "id": "1f3380a4-ecac-41e2-9f48-4e62f6dcfc9b",
   "metadata": {},
   "source": [
    "| Name | Matr.number | \n",
    "| :-: | :-: |\n",
    "| Caspar Zindler | 383613 | \n",
    "| Charlotte Victoria Lendlein  | 456534 |\n",
    "| Muzaffer Mert Sen | 415064 |\n",
    "| Wei-Shan Chang  | 499263 |\n",
    "| Yahuan Shi | 494877 |"
   ]
  },
  {
   "cell_type": "markdown",
   "id": "006b780b-db49-41c8-9be2-964286ae375f",
   "metadata": {
    "jp-MarkdownHeadingCollapsed": true
   },
   "source": [
    "# Table of content\n",
    "1. [Package imports](#package-import)\n",
    "2. [Importing the data](#Importing)\n",
    "    1. [Importing data OEM1_Type11_Type12](#1112)\n",
    "    2. [Importing data OEM1_Type11_Type12](#2122)\n",
    "4. [Data preperation](#Dataprep)\n",
    "    1. [OEM1](#OEM1)\n",
    "    2. [OEM2](#OEM2)\n",
    "5. [Creation of the final data set](#Creation)\n",
    "    1. [Merging OEM1 Type 11](#Merge11)\n",
    "    2. [Merging OEM1 Type 12](#Merge12)\n",
    "    3. [Merging OEM1 Type 11 and Type 12](#Merge1112)\n",
    "    4. [Merging OEM2 Type 21](#Merge21)\n",
    "    5. [Merging OEM2 Type 22](#Merge22)\n",
    "    6. [Merging OEM2 Type 21 and Type 22](#Merge2122)\n",
    "    7. [Merging OEM1 and OEM2](#MergeOEM1OEM2)\n",
    "6. [Results](#Results)\n",
    "    1. [Subject of investigation and target audience for visual analysis](#Subject)\n",
    "    2. [Type of car with premature rust spots](#Rust)\n",
    "    3. [Production date of vehicles with premature rust spots](#Date)\n",
    "    4. [Production plant location](#Location)\n",
    "    5. [Customer car registration location](#Customer)"
   ]
  },
  {
   "cell_type": "markdown",
   "id": "04e7a2ef-892a-4176-ad58-a8c580b0ec99",
   "metadata": {},
   "source": [
    "# Package imports <a name=\"package-import\"></a>"
   ]
  },
  {
   "cell_type": "code",
   "execution_count": 5,
   "id": "3caa622d",
   "metadata": {
    "scrolled": true
   },
   "outputs": [],
   "source": [
    "import pandas as pd\n",
    "from io import StringIO\n",
    "import numpy as np\n",
    "import seaborn as sns\n",
    "import matplotlib.pyplot as plt\n",
    "import warnings \n",
    "warnings.filterwarnings(\"ignore\")"
   ]
  },
  {
   "cell_type": "markdown",
   "id": "12899c2b-1e91-408c-ba44-df48ee64e177",
   "metadata": {},
   "source": [
    "# Importing the data <a name=\"Importing\"></a>"
   ]
  },
  {
   "cell_type": "markdown",
   "id": "d5ebbc4c-8e38-4621-9ee6-905ef0913c51",
   "metadata": {},
   "source": [
    "\n",
    "To import the data needed for the task, the necessary data has to be identified. This firstly requires an understanding of the task. The task is to identify the cars affected by the faulty components as well as the corresponding customers. The company who produced the faulty sheet metals used in the components is the company 217. The faulty sheet metals were produced in the period from Jun1, 2012 to July 31, 2014. The produced body parts, which were installed in the components were installed in the vehicles Type 11, 12, 21 and 22 of the OEM1 and OEM2 car brands.\n",
    "The next step was to identify which parts were manufactured by the company 217. The first step was to identify the vehicle bodies used for the different cars. These were listed in the “Bestandteile_Fahrzeuge” data. The task specified, that the produced sheet metals were used in the vehicle bodies. Therefore, we can identify the components. The components which resemble the vehicle bodies and the corresponding car types are listed in the table below.\n",
    "\n",
    "\n",
    "| Car type | Component | \n",
    "| :-: | :-: |\n",
    "| 11 | K4 | \n",
    "| 12 | K5 |\n",
    "| 21 | K6 |\n",
    "| 22 | K7 |\n",
    "\n",
    "With these component numbers and the “Bestandteile_Komponente_K” data the different parts used in the components were determined. The parts corresponding to the components are listed in the table below.\n",
    "\n",
    "| K4 | K5 | K6 | K7 |\n",
    "| :-: | :-: |:-: | :-: |\n",
    "| T30 | T30 | T34 | T34 | \n",
    "| T31 | T31 | T35 | T35 | \n",
    "| T32 | T33 | T36 | T38 | \n",
    "|     |     | T37 | T39 | \n",
    "|     |     |     | T40 | \n",
    "\n",
    "Not all the parts T30 to T40 were produced by company 217. To identify which part wasn’t produced by the company 217 the data frames of the single parts were examined using the numpy function numpy.unique(). By using this function, it was found, that the Parts T36, T38, T39 and T40 wasn’t produced by company 217 and are therefore not relevant for the task. To enhance the performance these data frames weren’t loaded into the program. \n",
    "\n",
    "To determine the customers the data “Zulassungen_alle_Fahrzeuge” and “Geodaten_Gemeinden_v1.2_2017-08-22_TrR“ were used. For the identification of the factories of the components the “Tier1_Werke_2017-07-11_v1.2_TrR” data and for the factories of the cars the “OEM_Werke_2017-07-04_TrT” data was used. \r\n",
    "The data about the factories of the single parts wasn’t required for this task, because the goal was to inform the brands and customers. Although this information would be useful for internal investigations of the company 217. \r\n",
    "Finally, the “Fahrzeuge_ OEMX_TypXX” data was used to determine the factories and car IDs of the different car type\n",
    "\n",
    ".The data comes in two different data types. The first one is a .cvs file. These can be easily imported with the pandas function pandas.read_csv(). Using this function, it's important to specify the correct delimiter. \r\n",
    "The second data type were .txt files. Theescan alson be imported using the pandas.read_csv() function. An important aspect to consider is that the function requires a specific format of the .txt file. The .txt file needs a delimiter between the different values and the rows need to be divided by a line break or a character that denotes a line break, which can be defined by the parameter “lineterminator”\n",
    "\n",
    "To achieve this format, the data is imported via .read as a string. Then the single values are split by a delimiter into elements. Often the .txt files had no line separator. To detect if a line had ended, the string was checked for \"\". If this was the case, it meant that two values followed each other with no delimiter and therefore a next line begun. Then the element, which includes the last element of the line and the first element of the next line, was split. Then the two separated elements were appended to their line. The rows are joined to a list and split with a delimiter. The list is then transformed into a data frame via pandas.DataFrame.\r\n",
    " \r\n"
   ]
  },
  {
   "cell_type": "markdown",
   "id": "34469be7",
   "metadata": {},
   "source": [
    "## Importing data OEM1_Type11_Type12 <a name=\"1112\"></a>\n"
   ]
  },
  {
   "cell_type": "code",
   "execution_count": 9,
   "id": "843401c0-a172-47f5-8a43-29a3074ccbd6",
   "metadata": {},
   "outputs": [],
   "source": [
    "#Importing Einzelteil_T30 \n",
    "df_Teil30 = pd.read_csv('Data/Einzelteil/Einzelteil_T30.csv',low_memory=False).drop([\"Unnamed: 0\",\"ID_T30.x\", \"Produktionsdatum.x\",\"Herstellernummer.x\", \"Werksnummer.x\", \"Fehlerhaft.x\", \"Fehlerhaft_Datum.x\", \"Fehlerhaft_Fahrleistung.x\", \"ID_T30\", \"Produktionsdatum\",\"Herstellernummer\", \"Werksnummer\", \"Fehlerhaft\", \"Fehlerhaft_Datum\", \"Fehlerhaft_Fahrleistung\",\"Fehlerhaft.y\",\"Fehlerhaft_Datum.y\",\"Fehlerhaft_Fahrleistung.y\"] ,axis=\"columns\"   )"
   ]
  },
  {
   "cell_type": "code",
   "execution_count": 10,
   "id": "ee4c79aa",
   "metadata": {},
   "outputs": [],
   "source": [
    "#Reading the .txt file\n",
    "with open('Data/Einzelteil/Einzelteil_T31.txt', 'r') as file:\n",
    "    # Importing the data as a string\n",
    "    T31_inhalt = file.read()\n",
    "#Seperating through durch \\x08, joining by \\n, replacing \" with '\n",
    "T31_zeilen = T31_inhalt.split('\\x08')\n",
    "T31_joined = '\\n'.join(T31_zeilen)\n",
    "T31_joined = T31_joined.replace('\"', '')\n",
    "\n",
    "#reading the string into an data frame \n",
    "df_T31 = pd.read_csv(StringIO(T31_joined), sep=r'\\s+', quotechar='\"', engine='python')"
   ]
  },
  {
   "cell_type": "code",
   "execution_count": 11,
   "id": "a9b20fe1",
   "metadata": {},
   "outputs": [],
   "source": [
    "#Importing Einzelteil_T32\n",
    "df_Teil32 = pd.read_csv('Data/Einzelteil/Einzelteil_T32.csv', sep=';',low_memory=False).drop([\"Unnamed: 0\",\"ID_T32.x\", \"Produktionsdatum.x\",\"Herstellernummer.x\", \"Werksnummer.x\", \"Fehlerhaft.x\", \"Fehlerhaft_Datum.x\", \"Fehlerhaft_Fahrleistung.x\",\"Fehlerhaft.y\",\"Fehlerhaft_Datum.y\",\"Fehlerhaft_Fahrleistung.y\"],axis=\"columns\"   )"
   ]
  },
  {
   "cell_type": "code",
   "execution_count": 12,
   "id": "baaf8d92",
   "metadata": {},
   "outputs": [],
   "source": [
    "#importing the Bestanteil_Komponente data\n",
    "df_K4_Bestandteile_Komponente = pd.read_csv('Data/Komponente/Bestandteile_Komponente_K4.csv', delimiter=';')\n",
    "\n",
    "#df_K4_Bestandteile_Komponente.head(-1)"
   ]
  },
  {
   "cell_type": "code",
   "execution_count": 13,
   "id": "2d2d9fcb",
   "metadata": {},
   "outputs": [],
   "source": [
    "#Importing the OEM1_Typ11_Bestandteile data and dropping unnecessary columns\n",
    "df_OEM1_Typ11_Bestandteile = pd.read_csv('Data/Fahrzeug/Bestandteile_Fahrzeuge_OEM1_Typ11.csv', delimiter=';').drop([\"ID_Schaltung\",\"Unnamed: 0\",\"ID_Sitze\",\"ID_Motor\"],axis='columns')\n",
    "\n",
    "#df_OEM1_Typ11_Bestandteile.head(-1)"
   ]
  },
  {
   "cell_type": "code",
   "execution_count": 14,
   "id": "65db37ae",
   "metadata": {},
   "outputs": [],
   "source": [
    "#Importing the Fahrzeuge_OEM1_Typ11 data and dropping unnecessary columns\n",
    "df_OEM1_Typ11 = pd.read_csv('Data/Fahrzeug/Fahrzeuge_OEM1_Typ11.csv').drop(['Unnamed: 0','Fehlerhaft','Fehlerhaft_Datum','Fehlerhaft_Fahrleistung'],axis='columns')\n",
    "\n",
    "#df_OEM1_Typ11.head(-1)"
   ]
  },
  {
   "cell_type": "code",
   "execution_count": 15,
   "id": "ff94d78f-7aac-48b9-b1ec-1e266684481e",
   "metadata": {},
   "outputs": [],
   "source": [
    "# Load CSV into DataFrame with specified encoding and separator\n",
    "df_OEM_Werke= pd.read_csv('Data/Geodaten/OEM_Werke_2017-07-04_TrR.csv', sep=';', encoding='ISO-8859-1',low_memory=False)"
   ]
  },
  {
   "cell_type": "code",
   "execution_count": 16,
   "id": "4e75f2de-2ca9-4663-9f4b-4d3ecf81cb02",
   "metadata": {},
   "outputs": [],
   "source": [
    "# Load CSV into DataFrame and drop unnecessary columns\n",
    "df_KomponenteK4 = pd.read_csv('Data/Komponente/Komponente_K4.csv', sep=';',low_memory=False).drop([\"Unnamed: 0\", \"Fehlerhaft.x\", \"Fehlerhaft_Datum.x\", \"Fehlerhaft_Fahrleistung.x\",\"Fehlerhaft.y\", \"Fehlerhaft_Datum.y\", \"Fehlerhaft_Fahrleistung.y\" ] ,axis=\"columns\"   )"
   ]
  },
  {
   "cell_type": "code",
   "execution_count": 17,
   "id": "a1641530",
   "metadata": {
    "scrolled": true
   },
   "outputs": [],
   "source": [
    "# Load CSV into DataFrame and drop unnecessary columns\n",
    "df_Teil33 = pd.read_csv('Data/Einzelteil/Einzelteil_T33.csv',low_memory=False).drop([\"Unnamed: 0\", \"Fehlerhaft\", \"Fehlerhaft_Datum\", \"Fehlerhaft_Fahrleistung\"],axis=\"columns\"  )"
   ]
  },
  {
   "cell_type": "code",
   "execution_count": 18,
   "id": "cbc518a1-4a09-46df-a3d5-1c2b68afb48c",
   "metadata": {},
   "outputs": [],
   "source": [
    "# Load CSV into DataFrame\n",
    "df_K5_Bestandteile_Komponente = pd.read_csv('Data/Komponente/Bestandteile_Komponente_K5.csv', delimiter=';')"
   ]
  },
  {
   "cell_type": "code",
   "execution_count": 19,
   "id": "939ce334",
   "metadata": {},
   "outputs": [],
   "source": [
    "# Load CSV into DataFrame and drop unnecessary columns\n",
    "df_OEM1_Typ12_Bestandteile = pd.read_csv('Data/Fahrzeug/Bestandteile_Fahrzeuge_OEM1_Typ12.csv', delimiter=';').drop([\"ID_Schaltung\",\"Unnamed: 0\",\"ID_Sitze\",\"ID_Motor\"],axis='columns')\n",
    "\n",
    "#df_OEM1_Typ12_Bestandteile.head(-1)"
   ]
  },
  {
   "cell_type": "code",
   "execution_count": 20,
   "id": "a03f87bd",
   "metadata": {},
   "outputs": [],
   "source": [
    "# Load CSV into DataFrame and drop unnecessary columns\n",
    "df_OEM1_Typ12 = pd.read_csv('Data/Fahrzeug/Fahrzeuge_OEM1_Typ12.csv', sep=';',low_memory=False).drop(['Unnamed: 0','Fehlerhaft','Fehlerhaft_Datum','Fehlerhaft_Fahrleistung'],axis='columns')\n",
    "\n",
    "#df_OEM1_Typ12.head(-1)"
   ]
  },
  {
   "cell_type": "code",
   "execution_count": 21,
   "id": "7b65ce5d-a3b8-4a3b-9d5f-f919257e299b",
   "metadata": {},
   "outputs": [],
   "source": [
    "# Load CSV into DataFrame and drop unnecessary columns\n",
    "df_KomponenteK5 = pd.read_csv('Data/Komponente/Komponente_K5.csv', sep=',',low_memory=False).drop([\"Unnamed: 0\", \"Fehlerhaft.x\", \"Fehlerhaft_Datum.x\", \"Fehlerhaft_Fahrleistung.x\",\"Fehlerhaft.y\", \"Fehlerhaft_Datum.y\", \"Fehlerhaft_Fahrleistung.y\" ] ,axis=\"columns\"   )"
   ]
  },
  {
   "cell_type": "code",
   "execution_count": 22,
   "id": "f6329097-f19f-4b47-8dff-7fdada5a105a",
   "metadata": {},
   "outputs": [],
   "source": [
    "# Load Tier1 Werke data, rename columns, and clean up\n",
    "df_Tier1_Werke= pd.read_csv('Data/Geodaten/Tier1_Werke_2017-07-11_v1.2_TrR.csv', sep=';', encoding='ISO-8859-1',low_memory=False)\n",
    "df_Tier1_Werke.rename(columns={'Werk': 'Werksnummer_Karosserie'}, inplace=True)"
   ]
  },
  {
   "cell_type": "markdown",
   "id": "4d336cf8-6fb5-4be9-86e9-b3d425258b38",
   "metadata": {},
   "source": [
    "## Importing data OEM2_Type21_Type22 <a name=\"2122\"></a>"
   ]
  },
  {
   "cell_type": "code",
   "execution_count": 24,
   "id": "5f9c343e-2d62-4b67-9f63-749700412583",
   "metadata": {},
   "outputs": [],
   "source": [
    "#Loading the Einzelteil as str\n",
    "with open('Data/Einzelteil/Einzelteil_T34.txt', 'r') as file:\n",
    "    data_T34 = file.read()\n",
    "    \n",
    "#Splitting the str by the delimiter '| |'\n",
    "elements_T34 = data_T34.split(' | | ')\n",
    "\n",
    "#Grouping elements into sets \n",
    "lines = []\n",
    "for i in range(0, len(elements_T34), 9):\n",
    "    chunk = elements_T34[i:i+9]\n",
    "\n",
    "#Checking if the last element got 2 \"\"; If so, splitting the element into 2 and appending the first element \n",
    "    if len(chunk) == 9:\n",
    "        last_element = chunk[-1]\n",
    "        if '\"\"' in last_element:\n",
    "            parts = last_element.split('\"\"')\n",
    "            chunk[-1] = parts[0] + '\"'\n",
    "            chunk.append('\"' + parts[1])\n",
    "\n",
    "#Combining into a single line with '\\\\'\n",
    "    lines.append('\\\\'.join(chunk))\n",
    "\n",
    "#Processing each line\n",
    "output_lines = []\n",
    "t = 0\n",
    "X1 = 0\n",
    "for line in lines:\n",
    "    \n",
    "#Finding the last element through quotes\n",
    "    last_quote_index = line.rfind('\"')\n",
    "    second_last_quote_index = line[:last_quote_index].rfind('\"')\n",
    "    \n",
    "#Separating the last element\n",
    "    last_element = line[second_last_quote_index:]\n",
    "    rest_of_line = line[:second_last_quote_index]\n",
    "\n",
    "#Appending the line excluding the last element for indexing \n",
    "    if t==0:\n",
    "        output_lines.append(rest_of_line)\n",
    "        X1 = last_element\n",
    "\n",
    "    if t>=1:\n",
    "        output_lines.append(X1 + '\\\\' + rest_of_line )\n",
    "        X1 = last_element\n",
    "    t=1\n",
    "\n",
    "#Defining the column names through the first row\n",
    "columns_T34 = output_lines[0].split('\\\\')\n",
    "columns_T34=['Leer']+columns_T34\n",
    "\n",
    "#Splitting the remaining rows with '\\\\' and creating a list\n",
    "data_list_T34 = [row.split('\\\\') for row in output_lines[1:]]\n",
    "\n",
    "#Create the DataFrame via pd.DataFrame and the list and defining the column names\n",
    "df_T34 = pd.DataFrame(data_list_T34, columns=columns_T34)"
   ]
  },
  {
   "cell_type": "code",
   "execution_count": 25,
   "id": "4478db89-b534-4584-9539-964f66829b32",
   "metadata": {},
   "outputs": [],
   "source": [
    "#Loading the Einzelteil as str\n",
    "with open('Data/Einzelteil/Einzelteil_T35.txt', 'r') as file:\n",
    "    data = file.read()\n",
    "    \n",
    "#Splitting the str by the delimiter '\\\\'\n",
    "elements = data.split('\\\\')\n",
    "\n",
    "#Grouping elements into sets \n",
    "lines = []\n",
    "for i in range(0, len(elements), 15):\n",
    "    chunk = elements[i:i+15]\n",
    "\n",
    "#Checking if the last element got 2 \"\"; If so, splitting the element into 2 and appending the first element \n",
    "    if len(chunk) == 15:\n",
    "        last_element = chunk[-1]\n",
    "        if '\"\"' in last_element:\n",
    "            parts = last_element.split('\"\"')\n",
    "            chunk[-1] = parts[0] + '\"'\n",
    "            chunk.append('\"' + parts[1])\n",
    "\n",
    "#Combining into a single line with '\\\\'\n",
    "    lines.append('\\\\'.join(chunk))\n",
    "\n",
    "#Processing each line\n",
    "output_lines = []\n",
    "t = 0\n",
    "X1 = 0\n",
    "for line in lines:\n",
    "    \n",
    "#Finding the last element through quotes\n",
    "    last_quote_index = line.rfind('\"')\n",
    "    second_last_quote_index = line[:last_quote_index].rfind('\"')\n",
    "    \n",
    "#Separating the last element\n",
    "    last_element = line[second_last_quote_index:]\n",
    "    rest_of_line = line[:second_last_quote_index]\n",
    "    if t==0:\n",
    "        output_lines.append(rest_of_line)\n",
    "        X1 = last_element\n",
    "\n",
    "#Appending the line excluding the last element\n",
    "    if t>=1:\n",
    "        output_lines.append(X1 + '\\\\' + rest_of_line )\n",
    "        X1 = last_element\n",
    "    t=1\n",
    "\n",
    "#Defining the column names through the first row\n",
    "columns = output_lines[0].split('\\\\')\n",
    "    #Deleting last column name\n",
    "del columns[15]\n",
    "columns= [\"Leer\"]+columns\n",
    "\n",
    "#Splitting the remaining rows with '\\\\' and creating a list\n",
    "data_list = [row.split('\\\\') for row in output_lines[1:]]\n",
    "\n",
    "#Create the DataFrame via pd.DataFrame and the list and defining the column names\n",
    "df_T35 = pd.DataFrame(data_list, columns=columns)"
   ]
  },
  {
   "cell_type": "code",
   "execution_count": 26,
   "id": "ff9b436d-e73a-4c15-aa6b-52d2c80e9d55",
   "metadata": {},
   "outputs": [],
   "source": [
    "#Loading the Einzelteil as str\n",
    "with open('Data/Einzelteil/Einzelteil_T39.txt', 'r') as file:\n",
    "    data = file.read()\n",
    "\n",
    "#Splitting the str by the delimiter '\\\\'\n",
    "elements = data.split('\\\\')\n",
    "\n",
    "#Grouping elements into sets \n",
    "lines = []\n",
    "for i in range(0, len(elements), 15):\n",
    "    chunk = elements[i:i+15]\n",
    "\n",
    "#Checking if the last element got 2 \"\"; If so, splitting the element into 2 and appending the first element \n",
    "    if len(chunk) == 15:\n",
    "        last_element = chunk[-1]\n",
    "        if '\"\"' in last_element:\n",
    "            parts = last_element.split('\"\"')\n",
    "            chunk[-1] = parts[0] + '\"'\n",
    "            chunk.append('\"' + parts[1])\n",
    "\n",
    "#Combining into a single line with '\\\\'\n",
    "    lines.append('\\\\'.join(chunk))\n",
    "\n",
    "#Processing each line\n",
    "output_lines = []\n",
    "t = 0\n",
    "X1 = 0\n",
    "for line in lines:\n",
    "#Finding the last element through quotes\n",
    "    last_quote_index = line.rfind('\"')\n",
    "    second_last_quote_index = line[:last_quote_index].rfind('\"')\n",
    "    \n",
    "#Separating the last element\n",
    "    last_element = line[second_last_quote_index:]\n",
    "    rest_of_line = line[:second_last_quote_index]\n",
    "    if t==0:\n",
    "        output_lines.append(rest_of_line)\n",
    "        X1 = last_element\n",
    "\n",
    "#Appending the line excluding the last element\n",
    "    if t>=1:\n",
    "        output_lines.append(X1 + '\\\\' + rest_of_line )\n",
    "        X1 = last_element\n",
    "    t=1\n",
    "\n",
    "#Defining the column names through the first row\n",
    "columns = output_lines[0].split('\\\\')\n",
    "columns=['Leer']+columns\n",
    "\n",
    "#Splitting the remaining rows with '\\\\' and creating a list\n",
    "data_list = [row.split('\\\\') for row in output_lines[1:]]\n",
    "\n",
    "#Create the DataFrame via pd.DataFrame and the list and defining the column names\n",
    "df_T39 = pd.DataFrame(data_list, columns=columns)\n",
    "\n",
    "#print(df_T39.head(-1))"
   ]
  },
  {
   "cell_type": "code",
   "execution_count": 27,
   "id": "29d61b76-923e-40f1-87dd-36c62e646967",
   "metadata": {},
   "outputs": [
    {
     "name": "stdout",
     "output_type": "stream",
     "text": [
      "=> Einzelteil T36 is only produced by company 218 & 219!\n"
     ]
    }
   ],
   "source": [
    "    #Loading the Einzelteil as str\n",
    "#with open('Data/Einzelteil/Einzelteil_T36.txt', 'r') as file:\n",
    "#    data = file.read()\n",
    "\n",
    "    #Splitting the str by the delimiter '\\\\'\n",
    "#cleaned_string = '\\\\'.join(data.split())\n",
    "#elements = cleaned_string.split('\\\\')\n",
    "\n",
    "    #Defining the column names through the first row\n",
    "#columns = elements[:9]\n",
    "#columns=['Leer']+columns\n",
    "\n",
    "    #The remaining elements are converted into rows \n",
    "#rows = []\n",
    "#for i in range(9, len(elements), 10):\n",
    "#    rows.append(elements[i:i+10])\n",
    "\n",
    "    #Create the DataFrame via pd.DataFrame and the list and defining the column names\n",
    "#df_Teil36 = pd.DataFrame(rows, columns=columns)\n",
    "\n",
    "    #Deleting the redundant \" & '\n",
    "#df_Teil36 = df_Teil36.apply(lambda x: x.str.replace('\"', '').str.replace(\"'\", ''))\n",
    "#df_Teil36 = df_Teil36.rename(columns=lambda x: x.replace('\"', ''))\n",
    "\n",
    "    #Printing out the manufacturer\n",
    "#print(df_Teil36['Herstellernummer'].unique())\n",
    "print(\"=> Einzelteil T36 is only produced by company 218 & 219!\")"
   ]
  },
  {
   "cell_type": "code",
   "execution_count": 28,
   "id": "c7e4dee9-d492-4179-9641-84ecea0fd72d",
   "metadata": {},
   "outputs": [
    {
     "name": "stdout",
     "output_type": "stream",
     "text": [
      "=> Einzelteil T38 is only produced by company 218 and 219!\n"
     ]
    }
   ],
   "source": [
    "#df_Teil38 = pd.read_csv('Data/Einzelteil/Einzelteil_T38.csv',low_memory=False)\n",
    "#einträgeT38_x=df_Teil38['Herstellernummer.x'].unique()\n",
    "#einträgeT38_y=df_Teil38['Herstellernummer.y'].unique()\n",
    "#print(einträgeT38_x)\n",
    "#print(einträgeT38_y)\n",
    "print('=> Einzelteil T38 is only produced by company 218 and 219!')"
   ]
  },
  {
   "cell_type": "code",
   "execution_count": 29,
   "id": "14a5a618-125a-4c9e-98be-60bb4c6b2f5c",
   "metadata": {},
   "outputs": [
    {
     "name": "stdout",
     "output_type": "stream",
     "text": [
      "=> Einzelteil_T39 is only produced by company 218 & 219!\n"
     ]
    }
   ],
   "source": [
    "#with open('Data/Einzelteil/Einzelteil_T39.txt', 'r') as file:\n",
    "#    data = file.read()\n",
    "\n",
    "#elements = data.split('\\\\')\n",
    "\n",
    "#lines = []\n",
    "#for i in range(0, len(elements), 15):\n",
    "#    chunk = elements[i:i+15]\n",
    "\n",
    "#    if len(chunk) == 15:\n",
    "#        last_element = chunk[-1]\n",
    "#        if '\"\"' in last_element:\n",
    "#            parts = last_element.split('\"\"')\n",
    "#            chunk[-1] = parts[0] + '\"'\n",
    "#            chunk.append('\"' + parts[1])\n",
    "\n",
    "#    lines.append('\\\\'.join(chunk))\n",
    "\n",
    "#output_lines = []\n",
    "#t = 0\n",
    "#X1 = 0\n",
    "#for line in lines:\n",
    "    # Find the last quoted element\n",
    "#    last_quote_index = line.rfind('\"')\n",
    "#    second_last_quote_index = line[:last_quote_index].rfind('\"')\n",
    "    \n",
    "    # Separate the last element from the rest of the line\n",
    "#    last_element = line[second_last_quote_index:]\n",
    "#    rest_of_line = line[:second_last_quote_index]\n",
    "#    if t==0:\n",
    "#        output_lines.append(rest_of_line)\n",
    "#        X1 = last_element\n",
    "\n",
    "#    if t>=1:\n",
    "#        output_lines.append(X1 + '\\\\' + rest_of_line )\n",
    "#        X1 = last_element\n",
    "#    t=1\n",
    "\n",
    "\n",
    "#columns = output_lines[0].split('\\\\')\n",
    "#columns=['Leer']+columns\n",
    "   \n",
    "#data_list = [row.split('\\\\') for row in output_lines[1:]]\n",
    "\n",
    "#df_T39 = pd.DataFrame(data_list, columns=columns)\n",
    "#print(df_T39.head(-1))\n",
    "#print(df_T39['\"Herstellernummer.x\"'].unique())\n",
    "#print(df_T39['\"Herstellernummer.y\"'].unique())\n",
    "print('=> Einzelteil_T39 is only produced by company 218 & 219!')"
   ]
  },
  {
   "cell_type": "code",
   "execution_count": 30,
   "id": "d1a7b030-9526-4aef-ac23-9e8ff11cfc82",
   "metadata": {},
   "outputs": [
    {
     "name": "stdout",
     "output_type": "stream",
     "text": [
      "=> Einzelteil T40 is only produced by company 219!\n"
     ]
    }
   ],
   "source": [
    "#df_Teil40 = pd.read_csv('Data/Einzelteil/Einzelteil_T40.csv',sep=';',low_memory=False)\n",
    "#einträgeT40=df_Teil40['Herstellernummer'].unique()\n",
    "#print(einträgeT40)\n",
    "print('=> Einzelteil T40 is only produced by company 219!')"
   ]
  },
  {
   "cell_type": "code",
   "execution_count": 31,
   "id": "1a22f8c4-4f53-49f6-98fb-4d12acf6b5d8",
   "metadata": {},
   "outputs": [],
   "source": [
    "#Importing the data into a data frame and dropping unnecessary columns\n",
    "df_Teil37 = pd.read_csv('Data/Einzelteil/Einzelteil_T37.csv',low_memory=False).drop([\"Unnamed: 0\",\"Fehlerhaft\", \"Fehlerhaft_Datum\", \"Fehlerhaft_Fahrleistung\"] ,axis=\"columns\")"
   ]
  },
  {
   "cell_type": "code",
   "execution_count": 32,
   "id": "f909cc03-2029-42e9-b401-eb4820d65acf",
   "metadata": {},
   "outputs": [],
   "source": [
    "#Importing the component data\n",
    "df_K7_Komponente = pd.read_csv('Data/Komponente/Komponente_K7.txt', delimiter='\\t')"
   ]
  },
  {
   "cell_type": "code",
   "execution_count": 33,
   "id": "2fb03348-02e3-45fa-94b8-a89eeb22962d",
   "metadata": {},
   "outputs": [],
   "source": [
    "#Importing component parts data\n",
    "df_K7_Bestandteile_Komponente = pd.read_csv('Data/Komponente/Bestandteile_Komponente_K7.csv', delimiter=';')"
   ]
  },
  {
   "cell_type": "code",
   "execution_count": 34,
   "id": "eb865a2d-ab77-433f-a25a-0acab7d0a11f",
   "metadata": {},
   "outputs": [],
   "source": [
    "#Importing connection data frames\n",
    "df_OEM2_Typ22_Bestandteile = pd.read_csv('Data/Fahrzeug/Bestandteile_Fahrzeuge_OEM2_Typ22.csv', delimiter=';').drop([\"ID_Schaltung\",\"ID_Sitze\",\"ID_Motor\",'X1'],axis='columns')\n",
    "\n",
    "#df_OEM2_Typ22_Bestandteile.head(-1)"
   ]
  },
  {
   "cell_type": "code",
   "execution_count": 35,
   "id": "599f5f85-9152-4d9d-9539-e0f244b81787",
   "metadata": {},
   "outputs": [],
   "source": [
    "#Importing car data and dropping unnecessary data\n",
    "df_OEM2_Typ22 = pd.read_csv('Data/Fahrzeug/Fahrzeuge_OEM2_Typ22.csv', sep=';').drop(['Fehlerhaft','Fehlerhaft_Datum','Fehlerhaft_Fahrleistung'],axis='columns')"
   ]
  },
  {
   "cell_type": "code",
   "execution_count": 36,
   "id": "4bc06d7e-8a6f-4876-a529-a9f98e60c4f4",
   "metadata": {},
   "outputs": [],
   "source": [
    "#Importing the component data\n",
    "df_K6_Komponente = pd.read_csv('Data/Komponente/Komponente_K6.csv', delimiter=';')"
   ]
  },
  {
   "cell_type": "code",
   "execution_count": 37,
   "id": "4a5f1f67-93a4-4dd6-a756-84cafc239329",
   "metadata": {},
   "outputs": [],
   "source": [
    "#Importing component parts data\n",
    "df_K6_Bestandteile_Komponente = pd.read_csv('Data/Komponente/Bestandteile_Komponente_K6.csv', delimiter=';')\n",
    "\n",
    "#df_K6_Bestandteile_Komponente.head(-1)"
   ]
  },
  {
   "cell_type": "code",
   "execution_count": 38,
   "id": "f3bedd90-08e9-41a4-9bc3-fd540f269b50",
   "metadata": {},
   "outputs": [],
   "source": [
    "#Importing car parts data and dropping unnecessary columns\n",
    "df_OEM2_Typ21_Bestandteile = pd.read_csv('Data/Fahrzeug/Bestandteile_Fahrzeuge_OEM2_Typ21.csv', delimiter=';').drop([\"ID_Schaltung\",\"ID_Sitze\",\"ID_Motor\"],axis='columns')\n",
    "\n",
    "#df_OEM2_Typ21_Bestandteile.head(-1)"
   ]
  },
  {
   "cell_type": "code",
   "execution_count": 39,
   "id": "016f01b2-ef63-47d4-9d7f-dac5c462764a",
   "metadata": {},
   "outputs": [],
   "source": [
    "#Importing car data and dropping unnecessary columns\n",
    "df_OEM2_Typ21 = pd.read_csv('Data/Fahrzeug/Fahrzeuge_OEM2_Typ21.csv', sep=',').drop(['Fehlerhaft','Fehlerhaft_Datum','Fehlerhaft_Fahrleistung'],axis='columns')"
   ]
  },
  {
   "cell_type": "markdown",
   "id": "c1656633-d41f-408c-a873-7892fd866b1d",
   "metadata": {},
   "source": [
    "# Data preperation <a name=\"Dataprep\"></a>\n",
    "\n",
    "While importing the data via pandas.reac_csv() unnecessary columns were dropped using the pandas.DataFrame.drop() function. The columns were renamed to unify the names between data frames. \r\n",
    "Starting with the single the data frames were filtered by the production date defined in the task. Following up the data frames were filtered by the company 217. In some of the data frames, each company had their own columns. For example has the data “Einzelteil_T30.csv” columns ending with “.x” for the company 216 and columns ending with \".y” for the company 217. To check if these columns only contain value for one company the numpy function numpy.unique() was used. This function finds the unique elements of an array. If for example the columns which ended on “.x” didn’t relate to the company 217, they were dropped.\r\n",
    "By doing this only the parts in question remained in the data frames. Based on these parts and their IDs the components which contain these parts were identified. Through these components and their ID the cars in which the components with the faulty parts were installed were identified and isolated. \r\n",
    "This was achieved by merging data frames and defining a filter variable based. This will be discussed in more detail in chapt\"Creation of the final data set\"r 4.\r\n",
    "There could be the case, that one component contains two parts, which were manufactured by company 217 but only one part was manufactured during the given time frame. To identify which of these parts was the faulty one we added a columns name “Problem_TXX”, where “XX” refers to the different part. If for example the column “Problem_T31” got a value of “1”, then the part “T31” installed in this vehicle is faulty. If the column contains the value 0, the part wasn’t manufactured during the given time frame and therefore isn’t faulty. If the column contains no value, the part wasn’t manufactured by the company 27. \r\n"
   ]
  },
  {
   "cell_type": "markdown",
   "id": "ee910e33-e270-464a-bee3-737fa7ea0c09",
   "metadata": {},
   "source": [
    "## OEM1 <a name=\"OEM1\"></a>"
   ]
  },
  {
   "cell_type": "code",
   "execution_count": 42,
   "id": "0c0bb445-74cb-4c4d-a19c-c3a89b293c00",
   "metadata": {},
   "outputs": [],
   "source": [
    "#dropping unnecessary columns and renaming columns\n",
    "df_cleaned_Teil30 = df_Teil30.dropna(subset=[\"Herstellernummer.y\"])\n",
    "df_renamed_Teil30 = df_cleaned_Teil30.rename(columns={'ID_T30.y': 'ID_T30', 'Produktionsdatum.y': 'Produktionsdatum','Herstellernummer.y': 'Herstellernummer','Werksnummer.y': 'Werksnummer'})\n",
    "\n",
    "#Filtering Einzelteil_T30 by the timeframe in question\n",
    "df_filtered_Teil30 = df_renamed_Teil30 [(df_renamed_Teil30 ['Produktionsdatum'] >= '2012-06-12') & (df_renamed_Teil30 ['Produktionsdatum'] <= '2014-07-31')]\n",
    "\n",
    "#df_filtered_Teil30.head(-1)"
   ]
  },
  {
   "cell_type": "code",
   "execution_count": 43,
   "id": "e4bf2b1d-a96a-45c5-beaf-256647957b45",
   "metadata": {},
   "outputs": [],
   "source": [
    "#cleaning and filtering the dataframe by productiondate and manufacturer\n",
    "df_T31_cleaned = df_T31.drop(columns=['Fehlerhaft', 'Fehlerhaft_Datum', 'Fehlerhaft_Fahrleistung'])\n",
    "df_T31_cleaned[\"Produktionsdatum\"]=pd.to_datetime(df_T31_cleaned[\"Produktionsdatum_Origin_01011970\"],unit='D', origin='1970-1-1')\n",
    "df_T31_cleaned = df_T31_cleaned[(df_T31_cleaned['Produktionsdatum'] >= '2012-06-12') & (df_T31_cleaned['Produktionsdatum'] <= '2014-07-31')]\n",
    "df_T31_cleaned= df_T31_cleaned[df_T31_cleaned['Herstellernummer'] == 217]\n",
    "df_T31_cleaned = df_T31_cleaned.drop(columns=['Produktionsdatum_Origin_01011970', 'origin'])\n",
    "\n",
    "#df_T31_cleaned.head(-1)"
   ]
  },
  {
   "cell_type": "code",
   "execution_count": 44,
   "id": "74983998-6d3d-4473-a948-3aa3148069c7",
   "metadata": {},
   "outputs": [],
   "source": [
    "#Dropping columns of other manufacturers\n",
    "df_cleaned_Teil32 = df_Teil32.dropna(subset=[\"Herstellernummer.y\"])\n",
    "\n",
    "#Renaming columns and filtering columns by the timeframe in question\n",
    "df_renamed_Teil32 = df_cleaned_Teil32.rename(columns={'ID_T32.y': 'ID_T32', 'Produktionsdatum.y': 'Produktionsdatum','Herstellernummer.y': 'Herstellernummer','Werksnummer.y': 'Werksnummer'})\n",
    "df_filtered_Teil32 = df_renamed_Teil32 [(df_renamed_Teil32 ['Produktionsdatum'] >= '2012-06-12') & (df_renamed_Teil32 ['Produktionsdatum'] <= '2014-07-31')]\n",
    "\n",
    "#df_filtered_Teil32.head(-1)"
   ]
  },
  {
   "cell_type": "code",
   "execution_count": 45,
   "id": "15a497a7-0c66-45a0-bec5-b13da52b0402",
   "metadata": {},
   "outputs": [],
   "source": [
    "# Rename 'Werk' column to 'Werksnummer'\n",
    "df_OEM_Werke.rename(columns={'Werk': 'Werksnummer'}, inplace=True)\n",
    "# Clean 'Werksnummer' by removing 'O' and converting to float\n",
    "df_OEM_Werke['Werksnummer'] = df_OEM_Werke['Werksnummer'].astype(str).str.replace('O', '').astype(\"float64\")"
   ]
  },
  {
   "cell_type": "code",
   "execution_count": 46,
   "id": "04e9821e-fd68-49a8-9f4e-20d4c47d6e51",
   "metadata": {},
   "outputs": [],
   "source": [
    "#merging the Einzelteil data frames by Einzelteil IDs and dropping duplicates\n",
    "merged_with_Teil30 = df_K4_Bestandteile_Komponente[df_K4_Bestandteile_Komponente['ID_T30'].isin(df_filtered_Teil30['ID_T30'])]\n",
    "merged_with_Teil31 = df_K4_Bestandteile_Komponente[df_K4_Bestandteile_Komponente['ID_T31'].isin(df_T31_cleaned['ID_T31'])]\n",
    "merged_with_Teil32 = df_K4_Bestandteile_Komponente[df_K4_Bestandteile_Komponente['ID_T32'].isin(df_filtered_Teil32['ID_T32'])]\n",
    "df_K4_Bestandteile_Komponente_filtered = pd.concat([merged_with_Teil30, merged_with_Teil31, merged_with_Teil32]).drop_duplicates().reset_index(drop=True)\n",
    "\n",
    "#df_K4_Bestandteile_Komponente_filtered.head(-1)"
   ]
  },
  {
   "cell_type": "code",
   "execution_count": 47,
   "id": "442edcdd-c602-49a7-b1fe-853befe20fa8",
   "metadata": {},
   "outputs": [],
   "source": [
    "# Merge 'ID_Karosserie' columns, then drop original columns\n",
    "df_KomponenteK4['ID_Karosserie'] = df_KomponenteK4['ID_Karosserie.x'].fillna(df_KomponenteK4['ID_Karosserie.y'])\n",
    "df_KomponenteK4 = df_KomponenteK4.drop(columns=['ID_Karosserie.x', 'ID_Karosserie.y'])"
   ]
  },
  {
   "cell_type": "code",
   "execution_count": 48,
   "id": "deeaa8dc-fb58-4bc0-a8c6-1b9233760804",
   "metadata": {},
   "outputs": [],
   "source": [
    "# Convert 'Produktionsdatum_Origin_01011970' to datetime and create 'Produktionsdatum'\n",
    "df_Teil33[\"Produktionsdatum\"]=pd.to_datetime(df_Teil33[\"Produktionsdatum_Origin_01011970\"],unit='D', origin='1970-1-1')\n",
    "# Filter rows by 'Produktionsdatum' within a specific date range\n",
    "df_Teil33 = df_Teil33 [(df_Teil33 ['Produktionsdatum'] >= '2012-06-12') & (df_Teil33['Produktionsdatum'] <= '2014-07-31')]\n",
    "# Drop original date columns\n",
    "df_Teil33=df_Teil33.drop([\"Produktionsdatum_Origin_01011970\", \"origin\"],axis=\"columns\" )\n",
    "\n",
    "#df_Teil33.head(-1)"
   ]
  },
  {
   "cell_type": "markdown",
   "id": "47599c37-7784-4b85-bb91-70c850eebabd",
   "metadata": {},
   "source": [
    "## OEM2 <a name=\"OEM1\"></a>"
   ]
  },
  {
   "cell_type": "code",
   "execution_count": 50,
   "id": "094fb6ab-daa8-4205-b94f-6fe9af1a23ba",
   "metadata": {},
   "outputs": [],
   "source": [
    "#Deleting the redundant \" & '\n",
    "df_T34 = df_T34.apply(lambda x: x.str.replace('\"', '').str.replace(\"'\", ''))\n",
    "\n",
    "#Changing the datatypes of the diffrent columns\n",
    "df_T34_cleaned=df_T34.astype({'\"X1\"': int,'\"ID_T34\"': 'string','\"Herstellernummer\"':int,'\"Werksnummer\"':int,'\"Produktionsdatum_Origin_01011970\"':float,'\"origin\"':'datetime64[ns]'})\n",
    "\n",
    "#Dropping the unecessary columns\n",
    "df_T34_cleaned = df_T34_cleaned.drop(columns=['\"Fehlerhaft\"', '\"Fehlerhaft_Datum\"', '\"Fehlerhaft_Fahrleistung\"',\"Leer\"])\n",
    "df_T34_cleaned = df_T34_cleaned.drop(df_T34_cleaned.columns[6],axis=1)\n",
    "\n",
    "#Calculating the production dates from the origin \n",
    "df_T34_cleaned[\"Produktionsdatum\"]=pd.to_datetime(df_T34_cleaned['\"Produktionsdatum_Origin_01011970\"'],unit='D', origin='1970-1-1')\n",
    "\n",
    "#Filtering by the manufacturer and the time frame of the production date\n",
    "df_T34_cleaned = df_T34_cleaned[(df_T34_cleaned['Produktionsdatum'] >= '2012-06-12') & (df_T34_cleaned['Produktionsdatum'] <= '2014-07-31')]\n",
    "df_T34_cleaned= df_T34_cleaned[df_T34_cleaned['\"Herstellernummer\"'] == 217]\n",
    "df_T34_cleaned = df_T34_cleaned.drop(columns=['\"Produktionsdatum_Origin_01011970\"', '\"origin\"'])\n",
    "\n",
    "#Deleting \" from column names\n",
    "df_T34_cleaned = df_T34_cleaned.rename(columns=lambda x: x.replace('\"', ''))\n",
    "\n",
    "#print(df_T34_cleaned.head(-1))\n",
    "#print(df_T34_cleaned.info())"
   ]
  },
  {
   "cell_type": "code",
   "execution_count": 51,
   "id": "4cf5020c-3fbd-4833-a01e-201feed28bf8",
   "metadata": {},
   "outputs": [],
   "source": [
    "#Deleting the redundant \" & '\n",
    "df_T35 = df_T35.apply(lambda x: x.str.replace('\"', '').str.replace(\"'\", ''))\n",
    "\n",
    "#Dropping the unecessary columns\n",
    "df_T35=df_T35.drop(df_T35.columns[[0,6,7,8,9,10,11,12,13,14,15]],axis=1)\n",
    "df_T35 = df_T35.rename(columns=lambda x: x.replace('\"', ''))\n",
    "\n",
    "#Filtering by the manufacturer and the time frame of the production date\n",
    "df_T35_cleaned= df_T35[df_T35['Herstellernummer.x'] == '217']\n",
    "df_T35_cleaned = df_T35_cleaned[(df_T35_cleaned['Produktionsdatum.x'] >= '2012-06-12') & (df_T35_cleaned['Produktionsdatum.x'] <= '2014-07-31')]\n",
    "                                    \n",
    "\n",
    "#Changing the datatypes of the diffrent columns\n",
    "df_T35_cleaned=df_T35_cleaned.astype({'X1': int,'ID_T35.x': 'string','Herstellernummer.x':int,'Werksnummer.x':int, 'Produktionsdatum.x':'datetime64[ns]'})\n",
    "\n",
    "#print(df_T35_cleaned.head(-1))"
   ]
  },
  {
   "cell_type": "code",
   "execution_count": 52,
   "id": "cee2f003-2493-4a53-af0a-b434520ad309",
   "metadata": {},
   "outputs": [],
   "source": [
    "#Calculating the production dates from the origin \n",
    "df_Teil37[\"Produktionsdatum\"]=pd.to_datetime(df_Teil37[\"Produktionsdatum_Origin_01011970\"],unit='D', origin='1970-1-1')\n",
    "\n",
    "#Filtering by the manufacturer and the time frame of the production date\n",
    "df_filtered_Teil37 = df_Teil37 [(df_Teil37 ['Produktionsdatum'] >= '2012-06-12') & (df_Teil37 ['Produktionsdatum'] <= '2014-07-31')]\n",
    "df_filtered_Teil37 =df_filtered_Teil37.drop(['origin','Produktionsdatum_Origin_01011970'], axis='columns')\n",
    "df_T37_cleaned=df_filtered_Teil37[df_filtered_Teil37['Herstellernummer']==217]\n",
    "\n",
    "#df_T37_cleaned.info()"
   ]
  },
  {
   "cell_type": "code",
   "execution_count": 53,
   "id": "5d57e060-de4c-489e-a0a8-1634d8d076fb",
   "metadata": {},
   "outputs": [],
   "source": [
    "#Calculating the production dates from the origin\n",
    "df_K7_Komponente['Produktionsdatum_Karosserie']=pd.to_datetime(df_K7_Komponente['Produktionsdatum_Origin_01011970'],unit='D', origin='1970-1-1')\n",
    "\n",
    "#Renaming columns and dropping unnecessary columns\n",
    "df_K7_Komponente['Herstellernummer_Karosserie'] = df_K7_Komponente['Herstellernummer']\n",
    "df_K7_Komponente['Werksnummer_Karosserie'] = df_K7_Komponente['Werksnummer']\n",
    "df_K7_Komponente=df_K7_Komponente.drop(['X1','Werksnummer','Herstellernummer','Fehlerhaft','Fehlerhaft_Datum','Fehlerhaft_Fahrleistung','Produktionsdatum_Origin_01011970','origin'],axis='columns')"
   ]
  },
  {
   "cell_type": "code",
   "execution_count": 54,
   "id": "2a4d4795-c7ed-49e7-95a1-007d06d413b4",
   "metadata": {},
   "outputs": [],
   "source": [
    "#Calculating the production dates from the origin\n",
    "df_OEM2_Typ22[\"Produktionsdatum\"]=pd.to_datetime(df_OEM2_Typ22['Produktionsdatum_Origin_01011970'],unit='D', origin='1970-1-1')\n",
    "df_OEM2_Typ22 = df_OEM2_Typ22.drop(columns=['Produktionsdatum_Origin_01011970', 'origin'])\n",
    "\n",
    "#df_OEM2_Typ22.head(-1)"
   ]
  },
  {
   "cell_type": "code",
   "execution_count": 55,
   "id": "2568afe1-069e-4766-aa78-ed4dce862caa",
   "metadata": {},
   "outputs": [],
   "source": [
    "#Calculating the production dates from the origin\n",
    "df_K6_Komponente['Produktionsdatum_Karosserie']=pd.to_datetime(df_K6_Komponente['Produktionsdatum_Origin_01011970'],unit='D', origin='1970-1-1')\n",
    "\n",
    "#Renaming columns\n",
    "df_K6_Komponente['Herstellernummer_Karosserie'] = df_K6_Komponente['Herstellernummer']\n",
    "df_K6_Komponente['Werksnummer_Karosserie'] = df_K6_Komponente['Werksnummer']\n",
    "\n",
    "#Dropping unnecessary columns\n",
    "df_K6_Komponente=df_K6_Komponente.drop(['X1','Werksnummer','Herstellernummer','Fehlerhaft','Fehlerhaft_Datum','Fehlerhaft_Fahrleistung','Produktionsdatum_Origin_01011970','origin'],axis='columns')\n",
    "\n",
    "#df_K6_Komponente.head(-1)"
   ]
  },
  {
   "cell_type": "code",
   "execution_count": 56,
   "id": "ebf28555-7a41-4176-8fb7-f3b8bdfa80a3",
   "metadata": {},
   "outputs": [],
   "source": [
    "#Calculating the production dates from the origin\n",
    "df_OEM2_Typ21[\"Produktionsdatum\"]=pd.to_datetime(df_OEM2_Typ21['Produktionsdatum_Origin_01011970'],unit='D', origin='1970-1-1')\n",
    "df_OEM2_Typ21 = df_OEM2_Typ21.drop(columns=['Produktionsdatum_Origin_01011970', 'origin'])\n",
    "\n",
    "#df_OEM2_Typ22.head(-1)"
   ]
  },
  {
   "cell_type": "markdown",
   "id": "e94aec71-65b1-43dc-921b-3d09539e414f",
   "metadata": {},
   "source": [
    "# Creation of the final data set <a name=\"Creation\"></a>\n",
    "\n",
    "As previously mentioned, the approach was to gather the necessary data for each Type and then combine all of this information to create a large DataFrame.\n",
    "\r\n",
    "First, the body parts associated with each Type were identified, and it was determined which of these were produced by the \"217\" company within the given date range. This was done by filtering the data based on conditions such as production dates and manufacturer identifiers.\r\n",
    "Next, vehicles associated with these body parts were found by performing merging operations using the pd.merge() function. This function was used to combine different datasets based on shared identifiers, such as vehicle IDs and body IDs, ensuring that all relevant information was brought together into a single DataFram\n",
    "\n",
    "As an example, the pd.merge() function used in the final DataFrame created for OEM1_TYP11 can be provided.\r\n",
    "This combines two tables to create a more enriched dataset. The first table, df_filtered_OEM1_Typ11, contains data related to OEM1_TYP11, while the second table, df_filtered_OEM1_Typ11_Bestandteile, holds additional information about specific components. These two tables are merged based on a common column called ID_Fahrzeug. The merge is done using the pd.merge() function as mentioned above, using a left join. This type of join ensures that all rows from the first table are included in the new table, along with matching ID_Karosserie information from the second table. As a result, the new table OEM1_Typ11_Zusammenfassung contains all the data from the first table, along with the additional ID_Karosserie information from the second table\n",
    "\n",
    "\n",
    "e.\r\n",
    "Once the datasets were merged, unnecessary columns were removed using the drop() function to clean up the DataFrame.\r\n",
    "Specific operations were then applied to identify problematic components. The apply() function was used to check if certain component IDs belonged to known problematic sets, and new columns were created to flag these iss\n",
    "ues.\r\n",
    "Finally, the columns were renamed using the rename() function to ensure consistency and clarity in the final DataFrame, where each Brand’s Type was represented with detailed information, including vehicle and body identifiers, production dates, manufacturer numbers, and flags for potential problems with specific components.\r\n"
   ]
  },
  {
   "cell_type": "markdown",
   "id": "dadca94b-ef65-4f29-811f-9b9879604f97",
   "metadata": {},
   "source": [
    "## Merging OEM Type 11 <a name=\"Merge11\"></a>"
   ]
  },
  {
   "cell_type": "code",
   "execution_count": 59,
   "id": "bfdd23ae",
   "metadata": {},
   "outputs": [],
   "source": [
    "#Definig a filter variable with the uniques Component IDs\n",
    "id_karosserie_filter = df_K4_Bestandteile_Komponente_filtered['ID_K4'].unique()\n",
    "\n",
    "# Filtering with the defined filter variable \n",
    "df_filtered_OEM1_Typ11_Bestandteile = df_OEM1_Typ11_Bestandteile[df_OEM1_Typ11_Bestandteile['ID_Karosserie'].isin(id_karosserie_filter)]\n",
    "\n",
    "#df_filtered_OEM1_Typ11_Bestandteile.head(-1)"
   ]
  },
  {
   "cell_type": "code",
   "execution_count": 60,
   "id": "1da4871c",
   "metadata": {
    "scrolled": true
   },
   "outputs": [],
   "source": [
    "#Defining a filter variable based on car IDs\n",
    "id_fahrzeug_filter = df_filtered_OEM1_Typ11_Bestandteile['ID_Fahrzeug'].unique()\n",
    "\n",
    "#Filtering based on filter variable\n",
    "df_filtered_OEM1_Typ11  = df_OEM1_Typ11[df_OEM1_Typ11 ['ID_Fahrzeug'].isin(id_fahrzeug_filter)]\n",
    "\n",
    "#df_filtered_OEM1_Typ11.head(-1)"
   ]
  },
  {
   "cell_type": "code",
   "execution_count": 61,
   "id": "637abff0",
   "metadata": {
    "scrolled": true
   },
   "outputs": [],
   "source": [
    "# Merge filtered DataFrame with 'df_OEM_Werke' on 'Werksnummer'\n",
    "df_merged_Werk_ORT = pd.merge(df_filtered_OEM1_Typ11, df_OEM_Werke, on='Werksnummer', how='left')\n",
    "# Strip leading/trailing spaces from column names and replace incorrect 'Lngengrad' with 'Längengrad'\n",
    "df_merged_Werk_ORT.columns = df_merged_Werk_ORT.columns.str.strip() \n",
    "df_merged_Werk_ORT.columns = df_merged_Werk_ORT.columns.str.replace('Lngengrad', 'Längengrad', regex=False) \n",
    "# Drop unnecessary columns from the merged DataFrame\n",
    "df_filtered_OEM1_Typ11 = df_merged_Werk_ORT.drop(columns=[ 'PLZ', 'Breitengrad', 'Längengrad'])\n",
    "\n",
    "#df_filtered_OEM1_Typ11.head()"
   ]
  },
  {
   "cell_type": "code",
   "execution_count": 62,
   "id": "5cbbd7ad",
   "metadata": {
    "scrolled": true
   },
   "outputs": [],
   "source": [
    "# Merge 'Produktionsdatum' columns, then drop original columns\n",
    "df_KomponenteK4['Produktionsdatum_Karosserie'] = df_KomponenteK4['Produktionsdatum.x'].fillna(df_KomponenteK4['Produktionsdatum.y'])\n",
    "df_KomponenteK4 = df_KomponenteK4.drop(columns=['Produktionsdatum.x', 'Produktionsdatum.y'])\n",
    "# Merge 'Herstellernummer' columns, then drop original columns\n",
    "df_KomponenteK4['Herstellernummer_Karosserie'] = df_KomponenteK4['Herstellernummer.x'].fillna(df_KomponenteK4['Herstellernummer.y'])\n",
    "df_KomponenteK4 = df_KomponenteK4.drop(columns=['Herstellernummer.x', 'Herstellernummer.y'])\n",
    "# Merge 'Werksnummer' columns, then drop original columns\n",
    "df_KomponenteK4['Werksnummer_Karosserie'] = df_KomponenteK4['Werksnummer.x'].fillna(df_KomponenteK4['Werksnummer.y'])\n",
    "df_KomponenteK4 = df_KomponenteK4.drop(columns=['Werksnummer.x', 'Werksnummer.y'])\n",
    "# Load and process Tier1 Werke data\n",
    "df_Tier1_Werke= pd.read_csv('Data/Geodaten/Tier1_Werke_2017-07-11_v1.2_TrR.csv', sep=';', encoding='ISO-8859-1',low_memory=False)\n",
    "df_Tier1_Werke.rename(columns={'Werk': 'Werksnummer_Karosserie'}, inplace=True)\n",
    "# Merge with 'df_Tier1_Werke' on 'Werksnummer_Karosserie'\n",
    "df_merged_Werk = pd.merge(df_KomponenteK4, df_Tier1_Werke, on='Werksnummer_Karosserie', how='left')\n",
    "# Clean column names and remove unnecessary columns\n",
    "df_merged_Werk.columns = df_merged_Werk.columns.str.strip() \n",
    "df_merged_Werk.columns = df_merged_Werk.columns.str.replace('Lngengrad', 'Längengrad', regex=False) \n",
    "df_merged_Werk = df_merged_Werk.drop(columns=['X1', 'PLZ', 'Breitengrad', 'Längengrad'])\n",
    "# Rename 'ORT' column\n",
    "df_merged_Werk.rename(columns={'ORT': 'ORT_Karosserie'}, inplace=True)\n",
    "\n",
    "#df_merged_Werk.head(-1)"
   ]
  },
  {
   "cell_type": "code",
   "execution_count": 63,
   "id": "a7253975",
   "metadata": {
    "scrolled": true
   },
   "outputs": [],
   "source": [
    "# Merge filtered OEM1 Typ11 with its components\n",
    "OEM1_Typ11_Zusammenfassung = pd.merge(df_filtered_OEM1_Typ11, df_filtered_OEM1_Typ11_Bestandteile[['ID_Fahrzeug', 'ID_Karosserie']], on='ID_Fahrzeug', how='left')\n",
    "# Merge with K4 components\n",
    "OEM1_Typ11_Zusammenfassung2 = pd.merge(OEM1_Typ11_Zusammenfassung, df_K4_Bestandteile_Komponente_filtered[['ID_K4', 'ID_T30', 'ID_T31', 'ID_T32']], left_on='ID_Karosserie', right_on='ID_K4', how='left')\n",
    "# Drop 'ID_K4' column\n",
    "OEM1_Typ11_Zusammenfassung2= OEM1_Typ11_Zusammenfassung2.drop([\"ID_K4\"], axis= \"columns\")\n",
    "# Merge with Werk data\n",
    "OEM1_Typ11_Zusammenfassung2 = pd.merge(OEM1_Typ11_Zusammenfassung2, df_merged_Werk, on='ID_Karosserie', how='left')\n",
    "# Create sets for checking problem IDs\n",
    "id_t30_set = set(df_filtered_Teil30['ID_T30'])\n",
    "id_t31_set = set(df_T31_cleaned['ID_T31'])\n",
    "id_t32_set = set(df_filtered_Teil32['ID_T32'])\n",
    "# Add problem flags based on presence in ID sets\n",
    "OEM1_Typ11_Zusammenfassung2['ProblemT30'] = OEM1_Typ11_Zusammenfassung2['ID_T30'].apply(lambda x: '1' if x in id_t30_set else '0')\n",
    "OEM1_Typ11_Zusammenfassung2['ProblemT31'] = OEM1_Typ11_Zusammenfassung2['ID_T31'].apply(lambda x: '1' if x in id_t31_set else '0')\n",
    "OEM1_Typ11_Zusammenfassung2['ProblemT32'] = OEM1_Typ11_Zusammenfassung2['ID_T32'].apply(lambda x: '1' if x in id_t32_set else '0')\n",
    "# Rename columns for clarity\n",
    "OEM1_Typ11_Zusammenfassung2.rename(columns={'Produktionsdatum': 'Produktionsdatum_Fahrzeug', 'Herstellernummer': 'Herstellernummer_Fahrzeug', 'Werksnummer': 'Werksnummer_Fahrzeug', 'Ort': 'ORT_Fahrzeug' }, inplace=True)\n",
    "\n",
    "#OEM1_Typ11_Zusammenfassung2.info()"
   ]
  },
  {
   "cell_type": "markdown",
   "id": "b45a8ae8",
   "metadata": {
    "scrolled": true
   },
   "source": [
    "## Merging OEM Type 12 <a name=\"Merge12\"></a>"
   ]
  },
  {
   "cell_type": "code",
   "execution_count": 65,
   "id": "91e4b1bb",
   "metadata": {},
   "outputs": [],
   "source": [
    "# Filter rows based on 'ID_T30' from 'df_filtered_Teil30'\n",
    "merged_with_Teil30 = df_K5_Bestandteile_Komponente[df_K5_Bestandteile_Komponente['ID_T30'].isin(df_filtered_Teil30['ID_T30'])]\n",
    "\n",
    "# Filter rows based on 'ID_T31' from 'df_T31_cleaned'\n",
    "merged_with_Teil31 = df_K5_Bestandteile_Komponente[df_K5_Bestandteile_Komponente['ID_T31'].isin(df_T31_cleaned['ID_T31'])]\n",
    "\n",
    "# Filter rows based on 'ID_T33' from 'df_Teil33'\n",
    "merged_with_Teil33 = df_K5_Bestandteile_Komponente[df_K5_Bestandteile_Komponente['ID_T33'].isin(df_Teil33['ID_T33'])]\n",
    "\n",
    "# Concatenate filtered DataFrames, remove duplicates, and reset index\n",
    "df_K5_Bestandteile_Komponente_filtered = pd.concat([merged_with_Teil30, merged_with_Teil31, merged_with_Teil33]).drop_duplicates().reset_index(drop=True)\n",
    "\n",
    "#df_K5_Bestandteile_Komponente_filtered.head(-1)"
   ]
  },
  {
   "cell_type": "code",
   "execution_count": 66,
   "id": "562ab88e",
   "metadata": {},
   "outputs": [],
   "source": [
    "# Extract unique 'ID_K5' values from filtered K5 components\n",
    "id_karosserie_filter = df_K5_Bestandteile_Komponente_filtered['ID_K5'].unique()\n",
    "\n",
    "# Filter OEM1 Typ12 components based on 'ID_Karosserie' present in 'id_karosserie_filter'\n",
    "df_filtered_OEM1_Typ12_Bestandteile = df_OEM1_Typ12_Bestandteile[df_OEM1_Typ12_Bestandteile['ID_Karosserie'].isin(id_karosserie_filter)]\n",
    "\n",
    "#df_filtered_OEM1_Typ12_Bestandteile.head(-1)"
   ]
  },
  {
   "cell_type": "code",
   "execution_count": 67,
   "id": "28e5675b",
   "metadata": {},
   "outputs": [],
   "source": [
    "# Extract unique 'ID_Fahrzeug' values from filtered OEM1 Typ12 components\n",
    "id_fahrzeug_filter2 = df_filtered_OEM1_Typ12_Bestandteile['ID_Fahrzeug'].unique()\n",
    "\n",
    "# Filter OEM1 Typ12 vehicles based on 'ID_Fahrzeug' present in 'id_fahrzeug_filter2'\n",
    "df_filtered_OEM1_Typ12  = df_OEM1_Typ12[df_OEM1_Typ12 ['ID_Fahrzeug'].isin(id_fahrzeug_filter2)]\n",
    "\n",
    "#df_filtered_OEM1_Typ12.head(-1)"
   ]
  },
  {
   "cell_type": "code",
   "execution_count": 68,
   "id": "8d6733eb",
   "metadata": {},
   "outputs": [],
   "source": [
    "# Merge filtered OEM1 Typ12 vehicles with Werk data on 'Werksnummer'\n",
    "df_merged_Werk_ORT_Type12 = pd.merge(df_filtered_OEM1_Typ12, df_OEM_Werke, on='Werksnummer', how='left')\n",
    "\n",
    "# Clean column names: remove leading/trailing spaces and fix special characters\n",
    "df_merged_Werk_ORT_Type12.columns = df_merged_Werk_ORT_Type12.columns.str.strip() \n",
    "df_merged_Werk_ORT_Type12.columns = df_merged_Werk_ORT_Type12.columns.str.replace('Lngengrad', 'Längengrad', regex=False)  \n",
    "\n",
    "# Drop unnecessary columns\n",
    "df_filtered_OEM1_Typ12 = df_merged_Werk_ORT_Type12.drop(columns=[ 'PLZ', 'Breitengrad', 'Längengrad'])\n",
    "\n",
    "#df_filtered_OEM1_Typ12.head()"
   ]
  },
  {
   "cell_type": "code",
   "execution_count": 69,
   "id": "714c65bf",
   "metadata": {},
   "outputs": [],
   "source": [
    "# Merge columns with 'fillna' and drop the original columns\n",
    "df_KomponenteK5['ID_Karosserie'] = df_KomponenteK5['ID_Karosserie.x'].fillna(df_KomponenteK5['ID_Karosserie.y'])\n",
    "df_KomponenteK5 = df_KomponenteK5.drop(columns=['ID_Karosserie.x', 'ID_Karosserie.y'])\n",
    "df_KomponenteK5['Produktionsdatum_Karosserie'] = df_KomponenteK5['Produktionsdatum.x'].fillna(df_KomponenteK5['Produktionsdatum.y'])\n",
    "df_KomponenteK5 = df_KomponenteK5.drop(columns=['Produktionsdatum.x', 'Produktionsdatum.y'])\n",
    "df_KomponenteK5['Herstellernummer_Karosserie'] = df_KomponenteK5['Herstellernummer.x'].fillna(df_KomponenteK5['Herstellernummer.y'])\n",
    "df_KomponenteK5 = df_KomponenteK5.drop(columns=['Herstellernummer.x', 'Herstellernummer.y'])\n",
    "df_KomponenteK5['Werksnummer_Karosserie'] = df_KomponenteK5['Werksnummer.x'].fillna(df_KomponenteK5['Werksnummer.y'])\n",
    "df_KomponenteK5 = df_KomponenteK5.drop(columns=['Werksnummer.x', 'Werksnummer.y'])\n",
    "\n",
    "#Merge component data with factory data komponent factory\n",
    "df_merged_Werk = pd.merge(df_KomponenteK5, df_Tier1_Werke, on='Werksnummer_Karosserie', how='left')\n",
    "\n",
    "#Delete redundant spaces\n",
    "df_merged_Werk.columns = df_merged_Werk.columns.str.strip() \n",
    "\n",
    "#Correcting column name\n",
    "df_merged_Werk.columns = df_merged_Werk.columns.str.replace('Lngengrad', 'Längengrad', regex=False) \n",
    "\n",
    "# Drop unnecessary columns and rename 'ORT' column\n",
    "df_merged_Werk_Type12 = df_merged_Werk.drop(columns=['X1', 'PLZ', 'Breitengrad', 'Längengrad'])\n",
    "df_merged_Werk_Type12.rename(columns={'ORT': 'ORT_Karosserie'}, inplace=True)\n",
    "\n",
    "#df_merged_Werk_Type12.head(-1)"
   ]
  },
  {
   "cell_type": "code",
   "execution_count": 70,
   "id": "4f5f32ba",
   "metadata": {},
   "outputs": [],
   "source": [
    "# Merge filtered OEM1 Typ12 vehicles with vehicle parts data on 'ID_Fahrzeug'\n",
    "OEM1_Typ12_Zusammenfassung = pd.merge(df_filtered_OEM1_Typ12, df_filtered_OEM1_Typ12_Bestandteile[['ID_Fahrzeug', 'ID_Karosserie']], on='ID_Fahrzeug', how='left')\n",
    "\n",
    "# Merge with K5 components data on 'ID_Karosserie' and 'ID_K5', drop 'X1' and 'ID_K5' columns\n",
    "OEM1_Typ12_Zusammenfassung2 = pd.merge(OEM1_Typ12_Zusammenfassung, df_K5_Bestandteile_Komponente_filtered[['ID_K5', 'ID_T30', 'ID_T31', 'ID_T33']], left_on='ID_Karosserie', right_on='ID_K5', how='left')\n",
    "OEM1_Typ12_Zusammenfassung2= OEM1_Typ12_Zusammenfassung2.drop([\"X1\", \"ID_K5\"], axis= \"columns\")\n",
    "\n",
    "# Merge with Werk data on 'ID_Karosserie'\n",
    "OEM1_Typ12_Zusammenfassung2 = pd.merge(OEM1_Typ12_Zusammenfassung2, df_merged_Werk_Type12, on='ID_Karosserie', how='left')\n",
    "id_t30_set = set(df_filtered_Teil30['ID_T30'])\n",
    "id_t31_set = set(df_T31_cleaned['ID_T31'])\n",
    "id_t33_set = set(df_Teil33['ID_T33'])\n",
    "\n",
    "# Create columns indicating if there are issues with components\n",
    "OEM1_Typ12_Zusammenfassung2['ProblemT30'] = OEM1_Typ12_Zusammenfassung2['ID_T30'].apply(lambda x: '1' if x in id_t30_set else '0')\n",
    "OEM1_Typ12_Zusammenfassung2['ProblemT31'] = OEM1_Typ12_Zusammenfassung2['ID_T31'].apply(lambda x: '1' if x in id_t31_set else '0')\n",
    "OEM1_Typ12_Zusammenfassung2['ProblemT33'] = OEM1_Typ12_Zusammenfassung2['ID_T33'].apply(lambda x: '1' if x in id_t33_set else '0')\n",
    "\n",
    "# Rename columns for clarity\n",
    "OEM1_Typ12_Zusammenfassung2.rename(columns={'Produktionsdatum': 'Produktionsdatum_Fahrzeug', 'Herstellernummer': 'Herstellernummer_Fahrzeug', 'Werksnummer': 'Werksnummer_Fahrzeug', 'Ort': 'ORT_Fahrzeug' }, inplace=True)\n",
    "\n",
    "#OEM1_Typ12_Zusammenfassung2.head(-1)"
   ]
  },
  {
   "cell_type": "markdown",
   "id": "6bea6bb5",
   "metadata": {},
   "source": [
    "## Merging OEM1 Type11 and Type12 <a name=\"Merge1112\"></a>"
   ]
  },
  {
   "cell_type": "code",
   "execution_count": 72,
   "id": "6064a60e",
   "metadata": {},
   "outputs": [],
   "source": [
    "# Concatenate Type11 and Type12 data into a single DataFrame\n",
    "df_Type11_Type12 = pd.concat([OEM1_Typ11_Zusammenfassung2, OEM1_Typ12_Zusammenfassung2], ignore_index=True)\n",
    "\n",
    "# Rename 'ORT' column to 'ORT_Fahrzeug'\n",
    "df_Type11_Type12.rename(columns={'ORT': 'ORT_Fahrzeug' }, inplace=True)\n",
    "\n",
    "# Extract vehicle type from 'ID_Fahrzeug' and add it as a new column\n",
    "df_Type11_Type12['Type_Fahrzeug'] = df_Type11_Type12['ID_Fahrzeug'].str.split('-').str[0]\n",
    "df_Type11_Type12.insert(2, 'Type_Fahrzeug', df_Type11_Type12.pop('Type_Fahrzeug'))\n",
    "\n",
    "# Reorder columns: move 'ID_T33' to column 11\n",
    "df_Type11_Type12.insert(11, 'ID_T33', df_Type11_Type12.pop('ID_T33'))\n",
    "\n",
    "# Drop 'X1' column\n",
    "df_Type11_Type12 = df_Type11_Type12.drop(columns=['X1'], axis= \"columns\")\n",
    "\n",
    "#df_Type11_Type12.head(-1)"
   ]
  },
  {
   "cell_type": "markdown",
   "id": "f8383ff7-f961-4f1a-aac1-a257026cf5f9",
   "metadata": {},
   "source": [
    "## Merging OEM2 Type 22 <a name=\"Merge22\"></a>"
   ]
  },
  {
   "cell_type": "code",
   "execution_count": 74,
   "id": "fc9e93da-3d80-457d-bf52-6b4653d8dc53",
   "metadata": {},
   "outputs": [],
   "source": [
    "#Merging comopnent and factory data on Werksnummer_Karosserie\n",
    "df_merged_Werk_Typ22= pd.merge(df_K7_Komponente, df_Tier1_Werke, on='Werksnummer_Karosserie', how='left')\n",
    "\n",
    "#Renaming column, replacing 'Lngengrad' with 'Längengrad'\n",
    "df_merged_Werk_Typ22.columns = df_merged_Werk_Typ22.columns.str.replace('Lngengrad', 'Längengrad', regex=False) \n",
    "\n",
    "#Dropping unnecessary columns\n",
    "df_merged_Werk_Typ22 = df_merged_Werk_Typ22.drop(['Breitengrad', 'Längengrad','PLZ '],axis=1)\n",
    "\n",
    "#print(df_merged_Werk_Typ22.head(5))"
   ]
  },
  {
   "cell_type": "code",
   "execution_count": 75,
   "id": "b8c46b62-0973-49c2-b84a-8295835deb00",
   "metadata": {},
   "outputs": [],
   "source": [
    "#Merging with parts data on part IDs\n",
    "merged_with_Teil34 = df_K7_Bestandteile_Komponente[df_K7_Bestandteile_Komponente['ID_T34'].isin(df_T34_cleaned['ID_T34'])]\n",
    "merged_with_Teil35 = df_K7_Bestandteile_Komponente[df_K7_Bestandteile_Komponente['ID_T35'].isin(df_T35_cleaned['ID_T35.x'])]\n",
    "\n",
    "#Joining data frames\n",
    "df_K7_Bestandteile_Komponente_filtered = pd.concat([merged_with_Teil34, merged_with_Teil35]).drop_duplicates().reset_index(drop=True)\n",
    "\n",
    "#df_K7_Bestandteile_Komponente_filtered.head(-1)"
   ]
  },
  {
   "cell_type": "code",
   "execution_count": 76,
   "id": "25955e2d-9520-4dc4-971a-43f7d353e15c",
   "metadata": {},
   "outputs": [],
   "source": [
    "#Defining filter variable\n",
    "id_karosserie_filter = df_K7_Bestandteile_Komponente_filtered['ID_K7'].unique()\n",
    "\n",
    "#Filtering based on the filter variable\n",
    "df_filtered_OEM2_Typ22_Bestandteile = df_OEM2_Typ22_Bestandteile[df_OEM2_Typ22_Bestandteile['ID_Karosserie'].isin(id_karosserie_filter)]\n",
    "\n",
    "#df_filtered_OEM2_Typ22_Bestandteile.head(-1)"
   ]
  },
  {
   "cell_type": "code",
   "execution_count": 77,
   "id": "49323302-3301-4b9e-a4b0-547f770f2613",
   "metadata": {},
   "outputs": [],
   "source": [
    "#Defining filter variable\n",
    "id_fahrzeug_filter = df_filtered_OEM2_Typ22_Bestandteile['ID_Fahrzeug'].unique()\n",
    "\n",
    "#Filtering based on the filter variable (car IDs)\n",
    "df_filtered_OEM2_Typ22  = df_OEM2_Typ22[df_OEM2_Typ22 ['ID_Fahrzeug'].isin(id_fahrzeug_filter)]\n",
    "\n",
    "#df_filtered_OEM2_Typ22.head(-1)"
   ]
  },
  {
   "cell_type": "code",
   "execution_count": 78,
   "id": "9a9915e1-439e-45c1-8454-e5c8a18d1ad3",
   "metadata": {},
   "outputs": [],
   "source": [
    "#Assigning values to places\n",
    "wert_zu_ort = {\n",
    "    11: 'NUERNBERG',\n",
    "    12: 'BONN',\n",
    "    13: 'BIELEFELD',\n",
    "    21: 'GOETTINGEN',\n",
    "    22: 'REGENSBURG'\n",
    "}\n",
    "\n",
    "#Creating a new column with the places regarding the factory number\n",
    "df_filtered_OEM2_Typ22.loc[:, 'Ort'] = df_filtered_OEM2_Typ22['Werksnummer'].map(wert_zu_ort)\n",
    "\n",
    "#df_filtered_OEM2_Typ22.head(-1)"
   ]
  },
  {
   "cell_type": "code",
   "execution_count": 79,
   "id": "278ce2cc-83cd-4941-a452-9556c4c7321b",
   "metadata": {},
   "outputs": [],
   "source": [
    "#Merging the cars and the cars components dataframe on cars IDs\n",
    "OEM2_Typ22_Zusammenfassung = pd.merge(df_filtered_OEM2_Typ22, df_filtered_OEM2_Typ22_Bestandteile[['ID_Fahrzeug', 'ID_Karosserie']], on='ID_Fahrzeug', how='left')\n",
    "\n",
    "#Merging with the component parts on component IDs\n",
    "OEM2_Typ22_Zusammenfassung2 = pd.merge(OEM2_Typ22_Zusammenfassung, df_K7_Bestandteile_Komponente_filtered[['ID_K7', 'ID_T34', 'ID_T35','ID_T38','ID_T39','ID_T40']], left_on='ID_Karosserie', right_on='ID_K7', how='left')\n",
    "\n",
    "#Dropping unnecessary columns\n",
    "OEM2_Typ22_Zusammenfassung2= OEM2_Typ22_Zusammenfassung2.drop([\"X1\", \"ID_K7\"], axis= \"columns\")\n",
    "\n",
    "#Defining columns from T34,T35 cleaned as variables\n",
    "id_t34_set = set(df_T34_cleaned['ID_T34'])\n",
    "id_t35_set = set(df_T35_cleaned['ID_T35.x'])\n",
    "\n",
    "#Dropping unnecessary columns\n",
    "OEM2_Typ22_Zusammenfassung2=OEM2_Typ22_Zusammenfassung2.drop(OEM2_Typ22_Zusammenfassung2.columns[0],axis=1)\n",
    "\n",
    "#Creating columns that indicate if the part was faulty (yes) or not faulty (no)\n",
    "OEM2_Typ22_Zusammenfassung2['ProblemT34'] = OEM2_Typ22_Zusammenfassung2['ID_T34'].apply(lambda x: 'yes' if x in id_t34_set else 'no')\n",
    "OEM2_Typ22_Zusammenfassung2['ProblemT35'] = OEM2_Typ22_Zusammenfassung2['ID_T35'].apply(lambda x: 'yes' if x in id_t35_set else 'no')\n",
    "\n",
    "#Merging with component factory data on component IDs\n",
    "OEM2_Typ22_Zusammenfassung2 = pd.merge(OEM2_Typ22_Zusammenfassung2, df_merged_Werk_Typ22, on='ID_Karosserie', how='left')\n",
    "\n",
    "#Creating new column that indicates the car type \n",
    "OEM2_Typ22_Zusammenfassung2['Type_Fahrzeug']=22\n",
    "\n",
    "#OEM2_Typ22_Zusammenfassung2.head(-1)"
   ]
  },
  {
   "cell_type": "markdown",
   "id": "95f2ea51-927f-40a0-a367-ceb10283b7ce",
   "metadata": {},
   "source": [
    "## Merging OEM Type 21 <a name=\"Merge21\"></a>"
   ]
  },
  {
   "cell_type": "code",
   "execution_count": 81,
   "id": "0b345bf5-d2af-472b-a812-ffd7f875cc7f",
   "metadata": {},
   "outputs": [],
   "source": [
    "#Merging component data with component factory data an factory number\n",
    "df_merged_Werk_Typ21= pd.merge(df_K6_Komponente, df_Tier1_Werke, on='Werksnummer_Karosserie', how='left')\n",
    "\n",
    "#Correcting column name\n",
    "df_merged_Werk_Typ21.columns = df_merged_Werk_Typ21.columns.str.replace('Lngengrad', 'Längengrad', regex=False) \n",
    "\n",
    "#Dropping unnecessary columns\n",
    "df_merged_Werk_Typ21 = df_merged_Werk_Typ21.drop(['Breitengrad', 'Längengrad','PLZ '],axis=1)\n",
    "\n",
    "#print(df_merged_Werk_Typ21.head(5))"
   ]
  },
  {
   "cell_type": "code",
   "execution_count": 82,
   "id": "d17ade18-7752-4e8a-83fa-c31dc053a7e0",
   "metadata": {},
   "outputs": [],
   "source": [
    "#Merging component parts data with the different parts data\n",
    "merged_with_Teil34 = df_K6_Bestandteile_Komponente[df_K6_Bestandteile_Komponente['ID_T34'].isin(df_T34_cleaned['ID_T34'])]\n",
    "merged_with_Teil35 = df_K6_Bestandteile_Komponente[df_K6_Bestandteile_Komponente['ID_T35'].isin(df_T35_cleaned['ID_T35.x'])]\n",
    "merged_with_Teil37 = df_K6_Bestandteile_Komponente[df_K6_Bestandteile_Komponente['ID_T37'].isin(df_T37_cleaned['ID_T37'])]\n",
    "\n",
    "#Joining data frames\n",
    "df_K6_Bestandteile_Komponente_filtered = pd.concat([merged_with_Teil34, merged_with_Teil35,merged_with_Teil37]).drop_duplicates().reset_index(drop=True)\n",
    "\n",
    "#df_K6_Bestandteile_Komponente_filtered.head(-1)"
   ]
  },
  {
   "cell_type": "code",
   "execution_count": 83,
   "id": "60dab80b-a23c-4ec1-b76b-93ef8302e71f",
   "metadata": {},
   "outputs": [],
   "source": [
    "#Defining filter cariable based in components IDs\n",
    "id_karosserie_filter_K6 = df_K6_Bestandteile_Komponente_filtered['ID_K6'].unique()\n",
    "\n",
    "#Filtering the data frame based on component IDs \n",
    "df_filtered_OEM2_Typ21_Bestandteile = df_OEM2_Typ21_Bestandteile[df_OEM2_Typ21_Bestandteile['ID_Karosserie'].isin(id_karosserie_filter_K6)]\n",
    "\n",
    "#df_filtered_OEM2_Typ21_Bestandteile.head(-1)"
   ]
  },
  {
   "cell_type": "code",
   "execution_count": 84,
   "id": "b5f039c9-6f71-4591-8c8b-582494e32247",
   "metadata": {},
   "outputs": [],
   "source": [
    "#Defining a filter variable based on cars ID\n",
    "id_fahrzeug_filter_Typ21 = df_filtered_OEM2_Typ21_Bestandteile['ID_Fahrzeug'].unique()\n",
    "\n",
    "#Filtering the data frame with the filter variable\n",
    "df_filtered_OEM2_Typ21 = df_OEM2_Typ21[df_OEM2_Typ21 ['ID_Fahrzeug'].isin(id_fahrzeug_filter_Typ21)]\n",
    "\n",
    "#df_filtered_OEM2_Typ21.head(-1)"
   ]
  },
  {
   "cell_type": "code",
   "execution_count": 85,
   "id": "02018d5a-5387-476a-a1c3-eb800b8ad5de",
   "metadata": {},
   "outputs": [],
   "source": [
    "#Creating a new column with the places regarding the factory number\n",
    "df_filtered_OEM2_Typ21.loc[:, 'Ort'] = df_filtered_OEM2_Typ21['Werksnummer'].map(wert_zu_ort)\n",
    "\n",
    "#df_filtered_OEM2_Typ21.head(-1)"
   ]
  },
  {
   "cell_type": "code",
   "execution_count": 86,
   "id": "7718ba81-2408-4c25-b070-c67ae7d48ca7",
   "metadata": {},
   "outputs": [],
   "source": [
    "#Merging the cars and the components on cars IDs\n",
    "OEM2_Typ21_Zusammenfassung = pd.merge(df_filtered_OEM2_Typ21, df_filtered_OEM2_Typ21_Bestandteile[['ID_Fahrzeug', 'ID_Karosserie']], on='ID_Fahrzeug', how='left')\n",
    "\n",
    "#Merging with the component parts on component IDs\n",
    "OEM2_Typ21_Zusammenfassung2 = pd.merge(OEM2_Typ21_Zusammenfassung, df_K6_Bestandteile_Komponente_filtered[['ID_K6', 'ID_T34', 'ID_T35','ID_T36','ID_T37']], left_on='ID_Karosserie', right_on='ID_K6', how='left')\n",
    "\n",
    "#Dropping unnecessary columns\n",
    "OEM2_Typ21_Zusammenfassung2= OEM2_Typ21_Zusammenfassung2.drop([\"X1\", \"ID_K6\"], axis= \"columns\")\n",
    "\n",
    "#Defining columns from T34, T35, T37 cleaned as variables\n",
    "id_t34_set = set(df_T34_cleaned['ID_T34'])\n",
    "id_t35_set = set(df_T35_cleaned['ID_T35.x'])\n",
    "id_t37_set = set(df_T37_cleaned['ID_T37'])\n",
    "\n",
    "#Dropping unnecessary columns\n",
    "OEM2_Typ21_Zusammenfassung2=OEM2_Typ21_Zusammenfassung2.drop(OEM2_Typ21_Zusammenfassung2.columns[0],axis=1)\n",
    "\n",
    "#Creating columns that indicate if the part was faulty (yes) or not faulty (no)\n",
    "OEM2_Typ21_Zusammenfassung2['ProblemT34'] = OEM2_Typ21_Zusammenfassung2['ID_T34'].apply(lambda x: 'yes' if x in id_t34_set else 'no')\n",
    "OEM2_Typ21_Zusammenfassung2['ProblemT35'] = OEM2_Typ21_Zusammenfassung2['ID_T35'].apply(lambda x: 'yes' if x in id_t35_set else 'no')\n",
    "OEM2_Typ21_Zusammenfassung2['ProblemT37'] = OEM2_Typ21_Zusammenfassung2['ID_T37'].apply(lambda x: 'yes' if x in id_t37_set else 'no')\n",
    "\n",
    "#Merging with component facroty data on component IDs\n",
    "OEM2_Typ21_Zusammenfassung2 = pd.merge(OEM2_Typ21_Zusammenfassung2, df_merged_Werk_Typ21, on='ID_Karosserie', how='left')\n",
    "\n",
    "#Creating a new column that indicates the car type\n",
    "OEM2_Typ21_Zusammenfassung2['Type_Fahrzeug']=21\n",
    "\n",
    "#OEM2_Typ21_Zusammenfassung2.head(-1)"
   ]
  },
  {
   "cell_type": "markdown",
   "id": "9ad8043b-37ca-4988-96ed-84781230fb85",
   "metadata": {},
   "source": [
    "## Merging OEM2 Type 21 and Type 22 <a name=\"Merge2122\"></a>"
   ]
  },
  {
   "cell_type": "code",
   "execution_count": 88,
   "id": "5f42e018-e26a-47d1-9f70-b55b2cba7fe8",
   "metadata": {},
   "outputs": [],
   "source": [
    "#Joining date frames\n",
    "df_Type21_Type22 = pd.concat([OEM2_Typ21_Zusammenfassung2, OEM2_Typ22_Zusammenfassung2], ignore_index=True)"
   ]
  },
  {
   "cell_type": "code",
   "execution_count": 89,
   "id": "482b0442-b322-4163-a29d-9c978b077a6e",
   "metadata": {},
   "outputs": [],
   "source": [
    "#Dropping unnecessary columns\n",
    "df_Type21_Type22=df_Type21_Type22.drop(['Unnamed: 0'],axis='columns')\n",
    "\n",
    "#df_Type21_Type22.info()"
   ]
  },
  {
   "cell_type": "code",
   "execution_count": 90,
   "id": "5df458ef-bad9-4ad0-b671-30b6f85b772a",
   "metadata": {},
   "outputs": [],
   "source": [
    "#Rearranging and renaming columns \n",
    "df_Type21_Type22.insert(1, 'Type_Fahrzeug', df_Type21_Type22.pop('Type_Fahrzeug'))\n",
    "df_Type21_Type22.insert(2, 'Produktionsdatum_Fahrzeug', df_Type21_Type22.pop('Produktionsdatum'))\n",
    "df_Type21_Type22.rename(columns={'Ort': 'ORT_Fahrzeug','Herstellernummer':'Herstellernummer_Fahrzeug','Werksnummer':'Werksnummer_Fahrzeug'}, inplace=True)\n",
    "df_Type21_Type22.insert(10,'ID_T38', df_Type21_Type22.pop('ID_T38'))\n",
    "df_Type21_Type22.insert(11, 'ID_T39', df_Type21_Type22.pop('ID_T39'))\n",
    "df_Type21_Type22.insert(12, 'ID_T40', df_Type21_Type22.pop('ID_T40'))\n",
    "df_Type21_Type22.insert(20, 'ProblemT34', df_Type21_Type22.pop('ProblemT34'))\n",
    "df_Type21_Type22.insert(20, 'ProblemT35', df_Type21_Type22.pop('ProblemT35'))\n",
    "df_Type21_Type22.insert(20, 'ProblemT37', df_Type21_Type22.pop('ProblemT37'))"
   ]
  },
  {
   "cell_type": "markdown",
   "id": "9aed7102-2afc-4c75-befb-9a3c77951efd",
   "metadata": {},
   "source": [
    "## Merging OEM1 and OEM2 <a name=\"MergeOEM1OEM2\"></a>"
   ]
  },
  {
   "cell_type": "code",
   "execution_count": 92,
   "id": "834ab191-e526-4250-8e80-c8f1f78b4b80",
   "metadata": {},
   "outputs": [],
   "source": [
    "#Joining OEM1 and OEM2 data frames\n",
    "df_gesamt = pd.concat([df_Type21_Type22, df_Type11_Type12], ignore_index=True)\n",
    "\n",
    "#df_gesamt.head(-1)"
   ]
  },
  {
   "cell_type": "code",
   "execution_count": 93,
   "id": "192061c5-85be-4a7a-b9c1-b6d6451fe296",
   "metadata": {},
   "outputs": [],
   "source": [
    "# filter and sort Zulassungen data frame\n",
    "customer = pd.read_csv('Data/Zulassungen/Zulassungen_alle_Fahrzeuge.csv', \n",
    "                        delimiter=';', \n",
    "                        quotechar='\"', \n",
    "                        usecols=[\"IDNummer\", \"Gemeinden\", \"Zulassung\"],on_bad_lines='skip')\n",
    "# convert 'Zulassung'-column in Datetime-Format\n",
    "customer['Zulassung'] = pd.to_datetime(customer['Zulassung'])\n",
    "\n",
    "# filter data for'Zulassung' later than or equal to 2012\n",
    "customer_filtered = customer[customer['Zulassung'] >= '2012-01-01']\n",
    "\n",
    "# merge tables customer_filtered and df_gesamt with column 'Fahrzeug ID' \n",
    "df_gesamt = pd.merge(df_gesamt, \n",
    "                         customer_filtered[['IDNummer', 'Gemeinden', 'Zulassung']], \n",
    "                         left_on='ID_Fahrzeug', \n",
    "                         right_on='IDNummer', \n",
    "                         how='left')\n",
    "#print(df_gesamt.head(-1))\n",
    "\n",
    "df_gesamt.drop(columns=[\"IDNummer\"],inplace=True)\n",
    "#print(df_gesamt.head())\n",
    "\n",
    "#Exporting the final data as a .csv file\n",
    "#df_gesamt.to_csv(\"C:/Users/caspa/Nextcloud/IDA_Case_Study/Submission/20_SoSe24_IDA_CaseStudy/final_data_group_20.csv\")"
   ]
  },
  {
   "cell_type": "code",
   "execution_count": 94,
   "id": "cf085766-a504-40f2-8a86-748c2cb50462",
   "metadata": {},
   "outputs": [],
   "source": [
    "#Renaming the dataframes regarding OEM1 and OEM2\n",
    "OEM1=df_gesamt[df_gesamt['Herstellernummer_Fahrzeug'] == 1]\n",
    "OEM2=df_gesamt[df_gesamt['Herstellernummer_Fahrzeug'] == 2]"
   ]
  },
  {
   "cell_type": "markdown",
   "id": "e829f6de-35fd-440b-b120-d78beca914d4",
   "metadata": {},
   "source": [
    "The meaning of the columns of the final data frame is listed in the table below.\n",
    "\n",
    "| Column| Meaning |\n",
    "| :-: | :-: |\n",
    "|ID_Fahrzeug|Car ID number|\n",
    "|Type_Fahrzeug|Type of the car|\n",
    "|Produktionsdatum_Fahrzeug|Production date of the car|\n",
    "|Herstellernummer_Fahrzeug|Manufacturer of the car|\n",
    "|Werksnummer_Fahrzeug|Factory number of car|\n",
    "|ORT_Fahrzeug|Production place of the car|\n",
    "|ID_Karosserie|Component ID number|\n",
    "|Produktionsdatum_Karosserie|Production date of the component|\n",
    "|Herstellernummer_Karosserie|Manufacturer of the component|\n",
    "|Werksnummer_Karosserie|Factory number of the component|\n",
    "|ORT_Karosserie|Production place of the component|\n",
    "|ID_TXX|Part ID number (XX refers to part number)|\n",
    "|ProblemTXX|Indicator if part is faulty|\n",
    "|ORT|Place of Registration|\n",
    "|Gemeinden_x|Community of registration|\n",
    "|Zulassung_x|Registration|\n",
    "|Gemeinden_y|Community of Registration|\n",
    "|Zulassung_y|Registration|"
   ]
  },
  {
   "cell_type": "markdown",
   "id": "ef92bc26-d096-44c1-bef4-6554e45d9f35",
   "metadata": {},
   "source": [
    "# Results <a name=\"Results\"></a>"
   ]
  },
  {
   "cell_type": "markdown",
   "id": "30e7e4ed-9109-4b62-b755-a143288b24ba",
   "metadata": {},
   "source": [
    "## Subject of investigation and target audience for visual analysis <a name=\"Subject\"></a>\n",
    "\n",
    "The final dataset includes all vehicles in which rust spot affected sheet metal from the company 217 was installed. These vehicles are manufactured by companies OEM1 and OEM2 that should now be informed about critical production quantities. Therefore, in the visualization analysis, there are separate data frames for the manufacturers OEM1 and OEM2 which reduces processing times. Additionally, affected customers should be informed. Therefore, the analyzation of the dataset needs to be targeted at the car manufacturing companies and the customers.\n",
    "\n",
    "\n",
    "For extraction of the relevant factors from the final dataset, a schematic figure below (see fig 1) shows the connections between columns in the final dataset. The sheet metal with rust spots from company 217 is installed in various parts that make up the chassis, which is manufactured into a car by car manufacturers OEM1 and OEM2. The affected customers can be identified via their car’s ID number provided by the car manufacturer. The customers have different car registration locations that can be analyzed visually. For informing the car manufacturers with relevant information, the types of cars manufactured and their production plant and date are analyzed visually. This way, the car manufacturer can improve the testing and control in relevant production plants, so that in the future, premature rust spots can be identified in these locations. \n",
    "\n",
    "![Graph of connections from production of the chassis with faulty part caused by company 217 ](Additional_Files/Connection_Graph.png)\n",
    "\n",
    "This Graph shows the connections from production of the chassis with faulty part caused by company 217 to the vehicle of the part installed in to the customer who buys the car; green: parts highlighted in this color are relevant information for the visual analysis task"
   ]
  },
  {
   "cell_type": "markdown",
   "id": "a21d1f3f-4212-4f68-8ad9-9c719eacacb7",
   "metadata": {},
   "source": [
    "## Type of car with premature rust spots <a name=\"Rust\"></a>\n",
    "\n",
    "In a first step, all cars with premature rust spots that are listed in the data frame “df_gesamt” are categorized according to the type of vehicle. Car manufacturer OEM1 has produced over 400000 cars of the type 11 and over 100000 cars of type 12 that contain parts with rust spots. Car manufacturer OEM2 has produced over 100000 cars of type 21 and over 50000 cars of type 22 with potential rust spots occurring. It can be deduced that car manufacturer OEM1 has a higher total number of customers to inform about this manufacturing error than OEM2. The second type of car of both manufacturers is less likely than their first types of vehicles to be affected by the rust spot issue of company 217. "
   ]
  },
  {
   "cell_type": "code",
   "execution_count": 99,
   "id": "c4f23a81-99d7-42bf-bf7c-0d07f11d6841",
   "metadata": {},
   "outputs": [],
   "source": [
    "# bar plot for the total number of vehicles with premature rust spots for each vehicle type (11, 12, 21, 22)\n",
    "anzahl_typ=df_gesamt['Type_Fahrzeug'].value_counts()"
   ]
  },
  {
   "cell_type": "code",
   "execution_count": 100,
   "id": "082ac306-cd16-4fc5-9c90-83f76686920d",
   "metadata": {},
   "outputs": [
    {
     "data": {
      "image/png": "[encoded data removed]",
      "text/plain": [
       "<Figure size 800x500 with 1 Axes>"
      ]
     },
     "metadata": {},
     "output_type": "display_data"
    }
   ],
   "source": [
    "plt.figure(figsize=(8, 5))\n",
    "sns.barplot(x=anzahl_typ.index, y=anzahl_typ.values, palette='viridis')\n",
    "plt.xlabel('vehicle type')\n",
    "plt.ylabel('number')\n",
    "plt.title('Which vehicle types have parts with premature rust spots?')\n",
    "plt.xticks(rotation=45)\n",
    "plt.grid(axis='y')\n",
    "\n",
    "# display the diagram\n",
    "plt.show()"
   ]
  },
  {
   "cell_type": "markdown",
   "id": "89ef12fc-c6fc-48bb-b42e-9040072f1115",
   "metadata": {},
   "source": [
    "## Production date of vehicles with premature rust spots <a name=\"Date\"></a>\n",
    "\n",
    "For analyzing when the cars with potential rust spots were assembled by the car manufacturers OEM1 and OEM2, the production months and years are displayed in the graphs below for each car manufacturer separately, based on the data frames “OEM1” and “OEM2”, respectively. Each car manufacturer gets their own graph for this analysis, so that they can identify the critical production months and years of their own company and improve control management during the identified critical production times in the future. It can be seen that the production month of July and August are critical in both companies. During these months, a larger number of cars with critical components are produced with a peak occurring in July with a total amount of over 60000 cars with premature rust spots produced by OEM1 and a peak in faulty cars, namely over 17500, produced in August by OEM2.\r\n",
    "Year-wise, most of the cars with premature rust spots are produced in 2013 in both car manufacturing companies OEM1 and OEM2. In 2013, OEM1 produces close to 250000 cars with rust spot issue and OEM2 manufactures over 70000 cars with the same problem. The following year, 2014, the number of cars with potential rust are reduced to about 150000 in OEM1 and 50000 in OEM2. \r\n"
   ]
  },
  {
   "cell_type": "code",
   "execution_count": 102,
   "id": "3fc3fc31-c29d-4b4c-8d4e-86fb69e6b287",
   "metadata": {},
   "outputs": [],
   "source": [
    "# splitting the data frame in tables for each car manufacturer (OEM1 and OEM2) to reduce processing times\n",
    "OEM1['Monat_Fahrzeug']=pd.to_datetime(OEM1['Produktionsdatum_Fahrzeug']).dt.month\n",
    "OEM2['Monat_Fahrzeug']=pd.to_datetime(OEM2['Produktionsdatum_Fahrzeug']).dt.month"
   ]
  },
  {
   "cell_type": "code",
   "execution_count": 103,
   "id": "a42cbcbc-8038-482b-82ff-c27cea760068",
   "metadata": {},
   "outputs": [],
   "source": [
    "anzahl_monat1=OEM1['Monat_Fahrzeug'].value_counts()\n",
    "anzahl_monat2=OEM2['Monat_Fahrzeug'].value_counts()"
   ]
  },
  {
   "cell_type": "code",
   "execution_count": 104,
   "id": "9ced8296-27e6-4950-87a9-5136053e19c3",
   "metadata": {},
   "outputs": [
    {
     "data": {
      "image/png": "[encoded data removed]",
      "text/plain": [
       "<Figure size 1200x500 with 2 Axes>"
      ]
     },
     "metadata": {},
     "output_type": "display_data"
    }
   ],
   "source": [
    "fig, axes = plt.subplots(1, 2, figsize=(12, 5))\n",
    "# bar plot for production month of vehicles with parts from company 217 assembled by OEM1\n",
    "sns.barplot(x=anzahl_monat1.index, y=anzahl_monat1.values, ax=axes[0], palette='viridis')\n",
    "axes[0].set_title('Production month vehicle by OEM1')\n",
    "axes[0].set_xlabel('production month')\n",
    "axes[0].set_ylabel('number')\n",
    "\n",
    "# bar plot for production month of vehicles with parts from company 217 assembled by OEM2\n",
    "sns.barplot(x=anzahl_monat2.index, y=anzahl_monat2.values, ax=axes[1], palette='plasma')\n",
    "axes[1].set_title('Production month vehicle by OEM2')\n",
    "axes[1].set_xlabel('production month')\n",
    "axes[1].set_ylabel('number')\n",
    "\n",
    "# display diagrams\n",
    "plt.tight_layout()\n",
    "plt.show()"
   ]
  },
  {
   "cell_type": "code",
   "execution_count": 105,
   "id": "3deabe90-0827-4986-8e76-3a3f9b7115eb",
   "metadata": {},
   "outputs": [],
   "source": [
    "OEM1['Year_Fahrzeug']=pd.to_datetime(OEM1['Produktionsdatum_Fahrzeug']).dt.year\n",
    "OEM2['Year_Fahrzeug']=pd.to_datetime(OEM2['Produktionsdatum_Fahrzeug']).dt.year"
   ]
  },
  {
   "cell_type": "code",
   "execution_count": 106,
   "id": "53ef25d4-a250-4d10-91dd-7c791c9a251d",
   "metadata": {},
   "outputs": [],
   "source": [
    "anzahl_year1=OEM1['Year_Fahrzeug'].value_counts()\n",
    "anzahl_year2=OEM2['Year_Fahrzeug'].value_counts()"
   ]
  },
  {
   "cell_type": "code",
   "execution_count": 107,
   "id": "0976803a-0f41-4896-a8c0-6596821a3c46",
   "metadata": {},
   "outputs": [
    {
     "data": {
      "image/png": "[encoded data removed]",
      "text/plain": [
       "<Figure size 1200x500 with 2 Axes>"
      ]
     },
     "metadata": {},
     "output_type": "display_data"
    }
   ],
   "source": [
    "fig, axes = plt.subplots(1, 2, figsize=(12, 5))\n",
    "# bar plot for production year of vehicles with parts from company 217 assembled by OEM1\n",
    "sns.barplot(x=anzahl_year1.index, y=anzahl_year1.values, ax=axes[0], palette='viridis')\n",
    "axes[0].set_title('Production year vehicles by OEM1')\n",
    "axes[0].set_xlabel('production year')\n",
    "axes[0].set_ylabel('number')\n",
    "\n",
    "# # bar plot for production year of vehicles with parts from company 217 assembled by OEM2\n",
    "anzahl_year2_filtered = anzahl_year2[~anzahl_year2.index.isin([2015, 2016])]\n",
    "sns.barplot(x=anzahl_year2_filtered.index, y=anzahl_year2_filtered.values, ax=axes[1], palette='plasma')\n",
    "axes[1].set_title('Production year vehicles by OEM2')\n",
    "axes[1].set_xlabel('production year')\n",
    "axes[1].set_ylabel('number')\n",
    "\n",
    "# display diagram\n",
    "plt.tight_layout()\n",
    "plt.show()"
   ]
  },
  {
   "cell_type": "code",
   "execution_count": 108,
   "id": "1383bf9e-fc00-45cd-84f5-67801f5c6bab",
   "metadata": {},
   "outputs": [],
   "source": [
    "year2012_Typ=OEM1[OEM1['Year_Fahrzeug'] == 2012]['Type_Fahrzeug'].value_counts()\n",
    "year2013_Typ=OEM1[OEM1['Year_Fahrzeug'] == 2013]['Type_Fahrzeug'].value_counts()\n",
    "year2014_Typ=OEM1[OEM1['Year_Fahrzeug'] == 2014]['Type_Fahrzeug'].value_counts()\n",
    "OEM1_year_typ=pd.DataFrame( {\n",
    "    'Jahr': [2012, 2013, 2014],\n",
    "    'number type 11': [98868, 195339, 123677],\n",
    "    'number type 12': [25801, 50609, 33019]\n",
    "})"
   ]
  },
  {
   "cell_type": "code",
   "execution_count": 109,
   "id": "64d8506f-e695-4431-affb-a6097a4f6cc4",
   "metadata": {},
   "outputs": [],
   "source": [
    "year2012_Typ=OEM2[OEM2['Year_Fahrzeug'] == 2012]['Type_Fahrzeug'].value_counts()\n",
    "year2013_Typ=OEM2[OEM2['Year_Fahrzeug'] == 2013]['Type_Fahrzeug'].value_counts()\n",
    "year2014_Typ=OEM2[OEM2['Year_Fahrzeug'] == 2014]['Type_Fahrzeug'].value_counts()\n",
    "OEM2_year_typ=pd.DataFrame( {\n",
    "    'Jahr': [2012, 2013, 2014],\n",
    "    'number type 21': [23330, 47847, 32088],\n",
    "    'number type 22': [13909, 27642, 18441]\n",
    "})"
   ]
  },
  {
   "cell_type": "markdown",
   "id": "b9434636-53a0-44ab-9e36-a07e85b596f9",
   "metadata": {},
   "source": [
    "In the graphs below, the production year and type of vehicle are displayed in one visual to identify relations between these two factors for informing production companies OEM1 and OEM2. OEM1 produces higher amounts of vehicles of type 11 than type 12. The ratio of type 11 and type 12 vehicles are consistent over the years with the highest total amount in year 2013, as found before. Car manufacturer OEM2 produces more faulty cars of type 21 than of type 22 with a varying ratio over the years. In year 2012 the difference in vehicle types with rust spots is smaller than that in years 2013 and 2014. The biggest difference can be found in production year 2013 where close to 30000 cars with rust of type 22 and close to 50000 cars of type 21 with the same issue are produced. "
   ]
  },
  {
   "cell_type": "code",
   "execution_count": 111,
   "id": "b9bcd6ef-7f54-4e30-b5a4-f151c62d2544",
   "metadata": {},
   "outputs": [
    {
     "data": {
      "image/png": "[encoded data removed]",
      "text/plain": [
       "<Figure size 640x480 with 1 Axes>"
      ]
     },
     "metadata": {},
     "output_type": "display_data"
    }
   ],
   "source": [
    "x = np.arange(len(OEM1_year_typ['Jahr']))  # position of x-values\n",
    "width = 0.35  # width of the bars\n",
    "fig, ax = plt.subplots()\n",
    "# bars for vehicle type 11\n",
    "bars1 = ax.bar(x - width/2, OEM1_year_typ['number type 11'], width, label='number type 11')\n",
    "# bars for vehicle type 12\n",
    "bars2 = ax.bar(x + width/2, OEM1_year_typ['number type 12'], width, label='number type 12')\n",
    "# axis and label\n",
    "ax.set_xlabel('production year')\n",
    "ax.set_ylabel('number')\n",
    "ax.set_title('production year and type OEM1')\n",
    "ax.set_xticks(x)\n",
    "ax.set_xticklabels(OEM1_year_typ['Jahr'])\n",
    "ax.legend()\n",
    "plt.show()"
   ]
  },
  {
   "cell_type": "code",
   "execution_count": 112,
   "id": "f718bebb-b927-4a92-9a3e-4c80b5ebdb73",
   "metadata": {},
   "outputs": [
    {
     "data": {
      "image/png": "[encoded data removed]",
      "text/plain": [
       "<Figure size 640x480 with 1 Axes>"
      ]
     },
     "metadata": {},
     "output_type": "display_data"
    }
   ],
   "source": [
    "x = np.arange(len(OEM2_year_typ['Jahr']))  # position of x-values\n",
    "width = 0.35  # width of the bars\n",
    "fig, ax = plt.subplots()\n",
    "# bars for vehicle type 21\n",
    "bars1 = ax.bar(x - width/2, OEM2_year_typ['number type 21'], width, label='number type 21')\n",
    "# bars for vehicle type 22\n",
    "bars2 = ax.bar(x + width/2, OEM2_year_typ['number type 22'], width, label='number type 22')\n",
    "# axis and labels\n",
    "ax.set_xlabel('production year')\n",
    "ax.set_ylabel('number')\n",
    "ax.set_title('production year and type OEM2')\n",
    "ax.set_xticks(x)\n",
    "ax.set_xticklabels(OEM2_year_typ['Jahr'])\n",
    "ax.legend()\n",
    "plt.show()"
   ]
  },
  {
   "cell_type": "markdown",
   "id": "92bafb82-d916-49ce-bd40-14d99cfdcd73",
   "metadata": {},
   "source": [
    "It can be concluded that the vehicle types 11 and 21 of the car manufacturers OEM1 and OEM2 are more critical when it comes to rust prone parts installed in the cars. This finding is consistent throughout the years. The peak months of car production where rust prone parts are inserted are July and August in both car manufacturing companies OEM1 and OEM2. One potential reason being that workers are on vacation and more errors in supervision and management of quality control are occurring during this time of year. "
   ]
  },
  {
   "cell_type": "markdown",
   "id": "18079e99-3126-4999-a853-eb1dae100624",
   "metadata": {},
   "source": [
    "## Production plant location <a name=\"Location\"></a>"
   ]
  },
  {
   "cell_type": "markdown",
   "id": "de2c4a44-7bc6-48a9-a183-49bd56a4b430",
   "metadata": {},
   "source": [
    "For identification of the locations where the rust prone parts are installed in vehicles, the pie charts below show the percentage of faulty cars produced in the different production plant locations of car manufacturers OEM1 and OEM2, respectively. It can be found that car manufacturer OEM1 produces 47.7% of faulty cars in the production plant located in Nuernberg and the remaining 52.3% in their plant in Bonn. The company OEM2 mainly produces the cars with premature rust spot parts in their production plant in Goettingen (70.7%) and the remaining 29.3% in Regensburg. Knowing the critical production plan locations, the car manufacturers can install new personnel for quality control in these specific plants to prevent the implementation of rust prone parts in the future."
   ]
  },
  {
   "cell_type": "code",
   "execution_count": 116,
   "id": "f27f334d-ee31-41ae-b1a1-208f85ebf584",
   "metadata": {},
   "outputs": [
    {
     "name": "stdout",
     "output_type": "stream",
     "text": [
      "ORT_Fahrzeug\n",
      "GOETTINGEN    115532\n",
      "REGENSBURG     47988\n",
      "Name: count, dtype: int64\n"
     ]
    }
   ],
   "source": [
    "anzahl_Ort1=OEM1['ORT_Fahrzeug'].value_counts()\n",
    "anzahl_Ort2=OEM2['ORT_Fahrzeug'].value_counts()\n",
    "print(anzahl_Ort2.head())"
   ]
  },
  {
   "cell_type": "code",
   "execution_count": 117,
   "id": "6d7e9658-ad9d-4dd0-87d2-927df26dc788",
   "metadata": {},
   "outputs": [
    {
     "name": "stdout",
     "output_type": "stream",
     "text": [
      "Type_Fahrzeug\n",
      "11    251744\n",
      "Name: count, dtype: int64 Type_Fahrzeug\n",
      "11    166140\n",
      "12    109429\n",
      "Name: count, dtype: int64 Type_Fahrzeug\n",
      "21    103432\n",
      "22     12100\n",
      "Name: count, dtype: int64 Type_Fahrzeug\n",
      "22    47988\n",
      "Name: count, dtype: int64\n"
     ]
    }
   ],
   "source": [
    "# Which vehicle types  that are affected by premature rust spots of comapny 217 are produced in which plants?\n",
    "anzahl_Nuernberg = OEM1[OEM1['ORT_Fahrzeug'] == 'NUERNBERG']['Type_Fahrzeug'].value_counts()\n",
    "anzahl_Bonn = OEM1[OEM1['ORT_Fahrzeug'] == 'BONN']['Type_Fahrzeug'].value_counts()\n",
    "anzahl_Goettingen = OEM2[OEM2['ORT_Fahrzeug'] == 'GOETTINGEN']['Type_Fahrzeug'].value_counts()\n",
    "anzahl_Regensburg = OEM2[OEM2['ORT_Fahrzeug'] == 'REGENSBURG']['Type_Fahrzeug'].value_counts()\n",
    "print(anzahl_Nuernberg.head(),anzahl_Bonn.head(),anzahl_Goettingen,anzahl_Regensburg)"
   ]
  },
  {
   "cell_type": "code",
   "execution_count": 118,
   "id": "7bee44ee-6fc8-4d89-bf23-199850b0d69d",
   "metadata": {},
   "outputs": [
    {
     "data": {
      "image/png": "[encoded data removed]",
      "text/plain": [
       "<Figure size 1000x500 with 2 Axes>"
      ]
     },
     "metadata": {},
     "output_type": "display_data"
    }
   ],
   "source": [
    "# plot 2 diagrams beside each other\n",
    "fig, (ax1, ax2) = plt.subplots(1, 2, figsize=(10, 5))\n",
    "colors1 = ['gold', 'yellowgreen', 'lightcoral', 'lightskyblue']\n",
    "# diagram for car manufacturer OEM1\n",
    "ax1.pie(anzahl_Ort1.values, labels=anzahl_Ort1.index, colors=colors1, autopct='%1.1f%%', startangle=140)\n",
    "ax1.set_title('Production location of vehicles with \\npremature rust spots by OEM1')\n",
    "\n",
    "# diagram for car manufacturer OEM2\n",
    "ax2.pie(anzahl_Ort2.values, labels=anzahl_Ort2.index, colors=colors1, autopct='%1.1f%%', startangle=140)\n",
    "ax2.set_title('Production location of vehicles with \\npremature rust spots by OEM2')\n",
    "\n",
    "# display diagrams\n",
    "plt.show()"
   ]
  },
  {
   "cell_type": "code",
   "execution_count": 119,
   "id": "bc70a63c-8221-4f19-bc22-84ed23c37346",
   "metadata": {},
   "outputs": [],
   "source": [
    "# data frame with absolute figures from pie diagram for OEM1 and OEM2\n",
    "OEM1_Ort_typ=pd.DataFrame( {\n",
    "    'Ort': anzahl_Ort1.index,\n",
    "    'number type 11': [166140,251744],\n",
    "    'number type 12': [109429,0]\n",
    "})\n",
    "OEM2_Ort_typ=pd.DataFrame( {\n",
    "    'Ort': anzahl_Ort2.index,\n",
    "    'number type 21': [103432,0],\n",
    "    'number type 22': [12100,47988]\n",
    "})\n",
    "\n",
    "#print(OEM1_Ort_typ,OEM2_Ort_typ)"
   ]
  },
  {
   "cell_type": "markdown",
   "id": "5f5f1e31-e199-48a5-b30d-c483fa1ee50e",
   "metadata": {},
   "source": [
    "As can be seen in the graph below, the production plant in Nuernberg only produces cars of type 11, whereas in Bonn, both vehicle types of car manufacturer OEM1 are produced. This means that the personnel in Bonn is responsible for faulty installed parts in the vehicle type 12 and Nuernberg personnel produces the higher amount of faulty cars of type 11. In Regensburg, most of faulty cars of type 22 are produced. Goettingen’s personnel is responsible for not recognizing the rusty parts in cars of type 21. Here, a small amount of faulty cars of type 22 are produced. \n",
    "\n",
    "Using this information, car manufacturers OEM1 and OEM2 can install better quality control targeted at specific vehicle types for their different production plants. "
   ]
  },
  {
   "cell_type": "code",
   "execution_count": 121,
   "id": "5b670265-b554-4ec8-a1b5-a27645c73b7c",
   "metadata": {},
   "outputs": [
    {
     "data": {
      "image/png": "[encoded data removed]",
      "text/plain": [
       "<Figure size 640x480 with 1 Axes>"
      ]
     },
     "metadata": {},
     "output_type": "display_data"
    },
    {
     "data": {
      "image/png": "[encoded data removed]",
      "text/plain": [
       "<Figure size 640x480 with 1 Axes>"
      ]
     },
     "metadata": {},
     "output_type": "display_data"
    }
   ],
   "source": [
    "# OEM 1 plant and type of vehicle affected by premature rust spots\n",
    "x = np.arange(len(OEM1_Ort_typ['Ort']))  # position of x values\n",
    "width = 0.35  # width of a bar\n",
    "fig, ax = plt.subplots()\n",
    "# vehicle type 11\n",
    "bars1 = ax.bar(x - width/2, OEM1_Ort_typ['number type 11'], width, label='number type 11')\n",
    "# vehicle type 12\n",
    "bars2 = ax.bar(x + width/2, OEM1_Ort_typ['number type 12'], width, label='number type 12')\n",
    "# axis and labels\n",
    "ax.set_xlabel('production location')\n",
    "ax.set_ylabel('number')\n",
    "ax.set_title('production location and type by OEM1')\n",
    "ax.set_xticks(x)\n",
    "ax.set_xticklabels(OEM1_Ort_typ['Ort'])\n",
    "ax.legend()\n",
    "\n",
    "# OEM 2 plant and type of vehicle affected by premature rust spots\n",
    "x2 = np.arange(len(OEM2_Ort_typ['Ort']))  # position of x values\n",
    "width = 0.35  # width of the bars\n",
    "fig, ax = plt.subplots()\n",
    "# bars for vehicle type 21\n",
    "bars1 = ax.bar(x2 - width/2, OEM2_Ort_typ['number type 21'], width, label='number type 21')\n",
    "# bars for vehicle type 22\n",
    "bars2 = ax.bar(x2 + width/2, OEM2_Ort_typ['number type 22'], width, label='number type 22')\n",
    "# axis and labels\n",
    "ax.set_xlabel('production location')\n",
    "ax.set_ylabel('number')\n",
    "ax.set_title('Production location and type by OEM2')\n",
    "ax.set_xticks(x2)\n",
    "ax.set_xticklabels(OEM2_Ort_typ['Ort'])\n",
    "ax.legend()\n",
    "plt.show()"
   ]
  },
  {
   "cell_type": "markdown",
   "id": "8e757773-d875-405c-a945-3b011c812d42",
   "metadata": {},
   "source": [
    "## Customer car registration location <a name=\"Customer\"></a>"
   ]
  },
  {
   "cell_type": "markdown",
   "id": "6a65e627-199b-423c-9cb8-86abe018ee9e",
   "metadata": {},
   "source": [
    "The customers that possess vehicles with rust issue are identified via identification number of their vehicles. Customers of the car manufacturer OEM1 mainly register their cars in Koeln, Dortmund and Dresden with the highest number of faulty cars registered in Koeln. These three registration locations are the top ones for car registrations of customers that bought their vehicle from the car manufacturer OEM2. "
   ]
  },
  {
   "cell_type": "code",
   "execution_count": 124,
   "id": "b73af15a-b7cf-41eb-b2da-fc947e5cee86",
   "metadata": {},
   "outputs": [],
   "source": [
    "anzahl_Zulassung_Ort1 = df_gesamt[df_gesamt['Herstellernummer_Fahrzeug'] == 1]['Gemeinden'].value_counts()\n",
    "anzahl_Zulassung_Ort2 = df_gesamt[df_gesamt['Herstellernummer_Fahrzeug'] == 2]['Gemeinden'].value_counts()\n",
    "#print(anzahl_Zulassung_Ort1.head(),anzahl_Zulassung_Ort2.head())"
   ]
  },
  {
   "cell_type": "code",
   "execution_count": 125,
   "id": "5a71ca7c-87f8-4168-9ccb-bc8d2a91a209",
   "metadata": {},
   "outputs": [
    {
     "data": {
      "image/png": "[encoded data removed]",
      "text/plain": [
       "<Figure size 1200x600 with 2 Axes>"
      ]
     },
     "metadata": {},
     "output_type": "display_data"
    }
   ],
   "source": [
    "# Top-N parameters\n",
    "N = 10\n",
    "\n",
    "# only extracting top 10 values for OEM1\n",
    "top_N_OEM1 = anzahl_Zulassung_Ort1.nlargest(N)\n",
    "\n",
    "# only extracting top 10 values for OEM2\n",
    "top_N_OEM2 = anzahl_Zulassung_Ort2.nlargest(N)\n",
    "\n",
    "# figure with 2 subplots\n",
    "fig, (ax1, ax2) = plt.subplots(1, 2, figsize=(12, 6))\n",
    "\n",
    "# bar diagram for OEM1\n",
    "ax1.bar(top_N_OEM1.index, top_N_OEM1.values, color='skyblue')\n",
    "ax1.set_title('Top ten car registration locations of vehicles \\nwith premature rust spots by OEM1')\n",
    "ax1.set_xlabel('locations')\n",
    "ax1.set_ylabel('number of registrations')\n",
    "ax1.tick_params(axis='x', rotation=45)  # Drehe die x-Achsen-Beschriftungen für bessere Lesbarkeit\n",
    "\n",
    "# bar diagram for OEM2\n",
    "ax2.bar(top_N_OEM2.index, top_N_OEM2.values, color='lightgreen')\n",
    "ax2.set_title('Top ten car registration locations of vehicles \\nwith premature rust spots by OEM2')\n",
    "ax2.set_xlabel('locations')\n",
    "ax2.set_ylabel('number of registrations')\n",
    "ax2.tick_params(axis='x', rotation=45)  # Drehe die x-Achsen-Beschriftungen für bessere Lesbarkeit\n",
    "\n",
    "# display diagram\n",
    "plt.tight_layout()\n",
    "plt.show()"
   ]
  }
 ],
 "metadata": {
  "kernelspec": {
   "display_name": "Python 3 (ipykernel)",
   "language": "python",
   "name": "python3"
  },
  "language_info": {
   "codemirror_mode": {
    "name": "ipython",
    "version": 3
   },
   "file_extension": ".py",
   "mimetype": "text/x-python",
   "name": "python",
   "nbconvert_exporter": "python",
   "pygments_lexer": "ipython3",
   "version": "3.12.4"
  }
 },
 "nbformat": 4,
 "nbformat_minor": 5
}
