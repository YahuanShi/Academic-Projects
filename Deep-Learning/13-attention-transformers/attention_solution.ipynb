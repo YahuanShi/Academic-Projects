{
 "cells": [
  {
   "cell_type": "markdown",
   "metadata": {
    "id": "IIJ3mjOB5xfx"
   },
   "source": [
    "# DL2 - Sheet 02: Attention\n",
    "\n"
   ]
  },
  {
   "cell_type": "markdown",
   "metadata": {
    "id": "qylqS4zZg4a7"
   },
   "source": [
    "\n",
    "# Intro: Transformers for Sequence Classification\n",
    "\n",
    "In this weeks notebook we will implement our own Transformer model from scratch. Typical Transformers (we focus here on the encoding of sentences for the purpose of sentiment classification, the decoder used in sequence2sequences Transformers has a very similar structure) can be broken down into the following components:\n",
    "\n",
    "\n",
    "\n",
    "1.   Embedding: An embedding layer that transforms word tokens into vector representations.\n",
    "2.  Encoder: The encoder block consists of several multi-headed attention blocks\n",
    "\n",
    "    2.1.   Attention block 1\n",
    "\n",
    "    2.2.   Attention block 2\n",
    "\n",
    "    ...\n",
    "\n",
    "    2.L.   Attention block L\n",
    "\n",
    "3. Pooling: The final output of the encoder computes one vector representation for each token. In order to summarize this information for classification.\n",
    "\n",
    "4. Classification: A standard MLP-layer is used for classification and outputs probabilites for the most likely predicted class.\n"
   ]
  },
  {
   "cell_type": "markdown",
   "metadata": {
    "id": "4uKBFg887DiO"
   },
   "source": [
    "## Preparation: From sentences to tokens\n",
    "\n",
    "First we will use hugginface's tokenizer to go from words to indices in the vocabulary. In the following we will focus on the distilBERT model:\n"
   ]
  },
  {
   "cell_type": "code",
   "execution_count": 2,
   "metadata": {
    "colab": {
     "base_uri": "https://localhost:8080/",
     "height": 148,
     "referenced_widgets": [
      "00480063bbe44e3bb1c9df60c9c523bb",
      "802de42781b349cb81818bf641101267",
      "7580e8a9b5df4326b4c86a9e1ed4f907",
      "8e45bedcbcb44b868a09ae2869869ff7",
      "5a676367bf2e411fa50ad5774a81c44c",
      "4e6569685ab940288647d9e5edb20c34",
      "d0fcbf18cba74f0c92226c21f0e4918c",
      "ac88fcd57ecf4218be9df66a657afd93",
      "dfb2388fd5f04908b376b4926b67a9c5",
      "4fb46a7e3feb40e9b125a7ccc046c2c6",
      "790cf14452f7485781c9c67b8036637f",
      "d2f55b306c804547afe0c1c9628acddd",
      "0c02776fb44c47719af7a28a4544dd9e",
      "4d3812febe874846a54136c9fda4fb8f",
      "63f2c6d9126c4eb29147d1412bd1b005",
      "b2cabbeec128483b8723c8aedbf72814",
      "2cc57489165a4f8e8e95e0dcd9bc4432",
      "bf244f6c9a2b461eab469db8dece7750",
      "460e7d0af9af422b8cae0a132f8ea5f3",
      "ef55c5b49f8940c6b8d36edcfce89fa6",
      "c5b72f9ec01c4d5a933e3b9c76293686",
      "893c0a3f2cde43bdaec95719563ab370",
      "6b2012e6bf1b4addaf36d8dba2748d02",
      "f46afca9fbc34b29a90c654a9c10e405",
      "9471d7292ab3483a8a91e57bf367c3be",
      "8b7e0d9f11a241e78d5ccc60b2e0771f",
      "161bbf0b2fe846c2b9c55699d61e6c14",
      "414ce33c926d48a894618daa7899bf83",
      "267104257ee84ad2a8bb16318700fbd9",
      "4c0ca33eeed245fe8b24d0acdff5ef22",
      "db34d15a24f64f6f957e72daf5f1225c",
      "e91158b58de143c39db4bb38376c3484",
      "19810242fd194f9c89e5b7d2e7e75e73"
     ]
    },
    "id": "dog9jZDt7SuB",
    "outputId": "f3538002-0f84-42dc-90a8-96d0240adc96"
   },
   "outputs": [
    {
     "name": "stdout",
     "output_type": "stream",
     "text": [
      "{'input_ids': tensor([[ 101, 2023, 2001, 2028, 1997, 1996, 2190, 5691, 1045, 2031, 2412, 2464,\n",
      "         1012,  102]]), 'attention_mask': tensor([[1, 1, 1, 1, 1, 1, 1, 1, 1, 1, 1, 1, 1, 1]])}\n"
     ]
    }
   ],
   "source": [
    "from transformers import AutoTokenizer\n",
    "tokenizer = AutoTokenizer.from_pretrained(\"distilbert-base-uncased\")\n",
    "sentence = \"This was one of the best movies I have ever seen.\"\n",
    "inputs = tokenizer(sentence, return_tensors = 'pt')\n",
    "print(inputs)"
   ]
  },
  {
   "cell_type": "code",
   "execution_count": 3,
   "metadata": {
    "colab": {
     "base_uri": "https://localhost:8080/"
    },
    "id": "-Lzoe-QSslj7",
    "outputId": "3402e775-d4e4-4f34-dab3-339ecea1e093"
   },
   "outputs": [],
   "source": [
    "# Download pretrained weights\n",
    "# ! wget https://tubcloud.tu-berlin.de/s/GfEoq4r8Sgb2727/download/distilbert.pt"
   ]
  },
  {
   "cell_type": "code",
   "execution_count": 4,
   "metadata": {
    "id": "t7-hhXPY7FY2"
   },
   "outputs": [],
   "source": [
    "from torch import nn\n",
    "import torch\n",
    "import math\n",
    "import torch\n",
    "\n",
    "class Config(object):\n",
    "    def __init__(self):\n",
    "        self.n_heads = 12\n",
    "        self.n_layers = 6\n",
    "        self.pad_token_id = 0\n",
    "        self.dim = 768\n",
    "        self.hidden_dim = 3072\n",
    "        self.max_position_embeddings = 512\n",
    "        self.vocab_size = 30522\n",
    "        self.eps = 1e-12\n",
    "\n",
    "        self.attention_head_size = int(self.dim / self.n_heads)\n",
    "        self.all_head_size = self.n_heads * self.attention_head_size\n",
    "\n",
    "        self.n_classes = 2        \n",
    "        self.device = 'cpu'\n",
    "\n",
    "config = Config()"
   ]
  },
  {
   "cell_type": "markdown",
   "metadata": {
    "id": "cr0TwrwBqT0P"
   },
   "source": [
    "# 1. Embedding Layer (5p)\n",
    "First, you will have to implement the Embedding layer. \n",
    "\n",
    "\n",
    "1.   forward: compute the output embeddings from the input_embeds and position_embeds. (Think about how they are merged.)\n",
    "\n",
    "\n"
   ]
  },
  {
   "cell_type": "code",
   "execution_count": 5,
   "metadata": {
    "colab": {
     "base_uri": "https://localhost:8080/"
    },
    "id": "YmDPyUH27PUW",
    "outputId": "97677be3-84cf-473b-c6f5-029a2272118f"
   },
   "outputs": [
    {
     "data": {
      "text/plain": [
       "tensor([[[ 0.7850, -0.1792, -0.7408,  ..., -0.3442, -0.2749, -0.4575],\n",
       "         [ 0.3348, -0.6993,  0.9561,  ...,  0.2761, -1.1587,  0.7851],\n",
       "         [ 0.2848, -0.3849,  1.1479,  ...,  0.0363, -0.7349,  1.1516],\n",
       "         ...,\n",
       "         [ 0.0217, -0.4367,  0.5442,  ...,  0.3884, -0.7516,  0.6763],\n",
       "         [ 0.6787,  0.4753,  0.0463,  ...,  1.3417, -1.0327,  1.0803],\n",
       "         [-0.2996,  0.0238,  0.8504,  ..., -1.1545, -0.5847, -0.9615]]],\n",
       "       grad_fn=<NativeLayerNormBackward0>)"
      ]
     },
     "execution_count": 5,
     "metadata": {},
     "output_type": "execute_result"
    }
   ],
   "source": [
    "torch.manual_seed(0) # set seed for reproducible random initialization of weights\n",
    "\n",
    "class Embeddings(nn.Module):\n",
    "    def __init__(self, config):\n",
    "        super().__init__()\n",
    "        self.word_embeddings = nn.Embedding(config.vocab_size, config.dim, padding_idx=config.pad_token_id)\n",
    "        self.position_embeddings = nn.Embedding(config.max_position_embeddings, config.dim)\n",
    "        self.LayerNorm = nn.LayerNorm(config.dim, eps=config.eps)\n",
    "\n",
    "    def forward(self, input_ids: torch.Tensor) -> torch.Tensor:\n",
    "        \"\"\"\n",
    "        Parameters:\n",
    "            input_ids (torch.Tensor):\n",
    "                torch.tensor(bs, max_seq_length) The token ids to embed.\n",
    "        Returns: torch.tensor(bs, max_seq_length, dim) The embedded tokens (plus position embeddings)\n",
    "        \"\"\"\n",
    " \n",
    "        # Embedding the input ids\n",
    "        input_embeds = self.word_embeddings(input_ids)  # (bs, max_seq_length, dim)\n",
    "        seq_length = input_embeds.size(1)\n",
    "\n",
    "        # Creating and embedding the position ids  \n",
    "        position_ids = torch.arange(seq_length, dtype=torch.long, device=input_ids.device)  # (max_seq_length)\n",
    "        position_ids = position_ids.unsqueeze(0).expand_as(input_ids)  # (bs, max_seq_length)\n",
    "        position_embeddings = self.position_embeddings(position_ids)  # (bs, max_seq_length, dim)\n",
    "\n",
    "        # Compute the output embeddings\n",
    "        \n",
    "        # 1. START YOUR CODE HERE #\n",
    "        embeddings = input_embeds + position_embeddings  # (bs, max_seq_length, dim)\n",
    "        # 1. START YOUR CODE HERE #\n",
    "        \n",
    "        embeddings = self.LayerNorm(embeddings)  # (bs, max_seq_length, dim)\n",
    "        return embeddings\n",
    "\n",
    "embedding_layer = Embeddings(config)\n",
    "# Test if your embedding layer computes an output\n",
    "embeddings = embedding_layer(inputs['input_ids'])\n",
    "\n",
    "embeddings"
   ]
  },
  {
   "cell_type": "code",
   "execution_count": 6,
   "metadata": {
    "colab": {
     "base_uri": "https://localhost:8080/",
     "height": 171,
     "referenced_widgets": [
      "11550a90f27b4396a7538347a98270fc",
      "c5388c121f0746f6848e839504c76877",
      "49f5a540c9a147e0a2b8b240dbb89ef9",
      "1fd8d0894c6c42bc9b320a1210883338",
      "57a291e47f6d41b88a468f75223bd45a",
      "0d5b2fb01b614ec1a661e6f9f3814091",
      "a60e9b79a80d4ed7a9753fccae7bee36",
      "7345c8b54eba41ee87f3e05a0f355bbe",
      "0fd25b828fef4283b4efbfbc05ae0832",
      "850e4b43f1f944bfb6d5c85e04a97745",
      "02116a2c6914430e86885433083816fa"
     ]
    },
    "id": "3DmFw3GlsyRS",
    "outputId": "093ddc64-5d33-4961-8bd0-ddabd84a12c7"
   },
   "outputs": [
    {
     "name": "stdout",
     "output_type": "stream",
     "text": [
      "tensor([[[True, True, True,  ..., True, True, True],\n",
      "         [True, True, True,  ..., True, True, True],\n",
      "         [True, True, True,  ..., True, True, True],\n",
      "         ...,\n",
      "         [True, True, True,  ..., True, True, True],\n",
      "         [True, True, True,  ..., True, True, True],\n",
      "         [True, True, True,  ..., True, True, True]]])\n"
     ]
    }
   ],
   "source": [
    "# SOLUTION / Control\n",
    "from solution import test_embedding\n",
    "test_embedding(embedding_layer, inputs['input_ids'])"
   ]
  },
  {
   "cell_type": "markdown",
   "metadata": {
    "id": "tX9Hr4HyuyYX"
   },
   "source": [
    "# 2. Attention Block (20 points)\n",
    "The next step is writing the attention block. It mainly consits of the self-attention function (that you have analyzed in the first part of the exercise sheet), a layer normalization followed by an additional projection layer.\n",
    "\n",
    "Please add the missing code:\n",
    "\n",
    "\n",
    "1.   \\_\\_init\\_\\_: Add the Linear projections for the query, key and value functions. \n",
    "2.   forward: Write the main self-attention function\n",
    "\n",
    "\n"
   ]
  },
  {
   "cell_type": "code",
   "execution_count": 7,
   "metadata": {
    "colab": {
     "base_uri": "https://localhost:8080/"
    },
    "id": "aQU3ZBanto79",
    "outputId": "1b24373e-1b53-4ab7-b169-2ae185c6f9bb",
    "scrolled": true
   },
   "outputs": [
    {
     "data": {
      "text/plain": [
       "(tensor([[[ 0.7114, -0.0722, -0.5230,  ..., -0.1903, -0.7819, -0.5930],\n",
       "          [ 0.2216, -0.9576,  0.9970,  ..., -0.0926, -1.1536,  0.8901],\n",
       "          [ 0.4497, -0.6879,  1.1513,  ...,  0.0209, -0.9052,  1.1951],\n",
       "          ...,\n",
       "          [-0.1305, -0.3480,  0.5797,  ...,  0.3765, -0.8779,  0.5787],\n",
       "          [ 0.6187,  0.2542,  0.1652,  ...,  1.0826, -1.0824,  0.9224],\n",
       "          [-0.1873,  0.0490,  0.7358,  ..., -1.2114, -0.6134, -0.7558]]],\n",
       "        grad_fn=<NativeLayerNormBackward0>),\n",
       " tensor([[[[0.0434, 0.0909, 0.0583,  ..., 0.1567, 0.0598, 0.0668],\n",
       "           [0.0969, 0.0588, 0.0794,  ..., 0.0579, 0.0654, 0.0741],\n",
       "           [0.0529, 0.0764, 0.0608,  ..., 0.0522, 0.0904, 0.0868],\n",
       "           ...,\n",
       "           [0.0657, 0.0971, 0.1063,  ..., 0.0665, 0.0505, 0.0848],\n",
       "           [0.0883, 0.0417, 0.1146,  ..., 0.1033, 0.0529, 0.0934],\n",
       "           [0.1194, 0.0599, 0.0607,  ..., 0.0505, 0.0614, 0.0591]],\n",
       " \n",
       "          [[0.0197, 0.0776, 0.0725,  ..., 0.0774, 0.0452, 0.1007],\n",
       "           [0.0580, 0.0531, 0.1805,  ..., 0.0595, 0.0481, 0.0488],\n",
       "           [0.0740, 0.0582, 0.0836,  ..., 0.0834, 0.0513, 0.0613],\n",
       "           ...,\n",
       "           [0.0609, 0.0808, 0.0940,  ..., 0.0750, 0.0579, 0.0563],\n",
       "           [0.0940, 0.0579, 0.0625,  ..., 0.0605, 0.0566, 0.0800],\n",
       "           [0.0347, 0.1090, 0.0651,  ..., 0.0415, 0.0822, 0.0602]],\n",
       " \n",
       "          [[0.0713, 0.0696, 0.0610,  ..., 0.0518, 0.0681, 0.0424],\n",
       "           [0.0995, 0.0449, 0.0531,  ..., 0.0194, 0.0455, 0.0827],\n",
       "           [0.0792, 0.0897, 0.0594,  ..., 0.0341, 0.0447, 0.1238],\n",
       "           ...,\n",
       "           [0.0578, 0.1115, 0.0490,  ..., 0.0912, 0.0793, 0.0916],\n",
       "           [0.1088, 0.0735, 0.0675,  ..., 0.0452, 0.0388, 0.0921],\n",
       "           [0.0817, 0.0562, 0.0701,  ..., 0.0554, 0.0796, 0.0604]],\n",
       " \n",
       "          ...,\n",
       " \n",
       "          [[0.0477, 0.0677, 0.0459,  ..., 0.0571, 0.0909, 0.0790],\n",
       "           [0.0645, 0.0570, 0.0538,  ..., 0.1012, 0.0618, 0.0555],\n",
       "           [0.0779, 0.0998, 0.0554,  ..., 0.0543, 0.0790, 0.0684],\n",
       "           ...,\n",
       "           [0.0735, 0.0531, 0.0597,  ..., 0.0728, 0.0636, 0.0572],\n",
       "           [0.0682, 0.0776, 0.0640,  ..., 0.0703, 0.0635, 0.0671],\n",
       "           [0.0599, 0.0946, 0.0948,  ..., 0.1572, 0.0878, 0.0454]],\n",
       " \n",
       "          [[0.0749, 0.0834, 0.0690,  ..., 0.0588, 0.0469, 0.0702],\n",
       "           [0.0808, 0.0887, 0.0401,  ..., 0.1106, 0.0904, 0.0474],\n",
       "           [0.0630, 0.0525, 0.0656,  ..., 0.0826, 0.0535, 0.0649],\n",
       "           ...,\n",
       "           [0.0954, 0.0685, 0.0830,  ..., 0.0772, 0.0390, 0.0527],\n",
       "           [0.0751, 0.1311, 0.0592,  ..., 0.0547, 0.0957, 0.0692],\n",
       "           [0.0841, 0.0517, 0.0462,  ..., 0.0726, 0.0990, 0.0743]],\n",
       " \n",
       "          [[0.0448, 0.0504, 0.0980,  ..., 0.0628, 0.0405, 0.0326],\n",
       "           [0.0600, 0.0585, 0.0775,  ..., 0.0950, 0.0999, 0.0700],\n",
       "           [0.0575, 0.1256, 0.0897,  ..., 0.0512, 0.0349, 0.1047],\n",
       "           ...,\n",
       "           [0.0649, 0.0609, 0.0928,  ..., 0.0484, 0.0931, 0.0536],\n",
       "           [0.0668, 0.0944, 0.0297,  ..., 0.0597, 0.0402, 0.0861],\n",
       "           [0.0919, 0.0231, 0.0281,  ..., 0.0641, 0.0864, 0.0764]]]],\n",
       "        grad_fn=<SoftmaxBackward0>))"
      ]
     },
     "execution_count": 7,
     "metadata": {},
     "output_type": "execute_result"
    }
   ],
   "source": [
    "torch.manual_seed(0)\n",
    "\n",
    "class AttentionBlock(nn.Module):    \n",
    "    def __init__(self, config):\n",
    "        super().__init__()\n",
    "        self.config = config\n",
    "\n",
    "        # self-attention components\n",
    "        \n",
    "        # 1. START YOUR CODE HERE #\n",
    "        self.q_lin = nn.Linear(config.dim, config.all_head_size)\n",
    "        self.k_lin = nn.Linear(config.dim, config.all_head_size)\n",
    "        self.v_lin = nn.Linear(config.dim, config.all_head_size)\n",
    "        # 1. END YOUR CODE HERE\n",
    "        \n",
    "        self.out_lin = nn.Linear(in_features=config.dim, out_features=config.dim, bias=True)\n",
    "        self.sa_layer_norm = nn.LayerNorm(normalized_shape=config.dim, eps=config.eps) \n",
    "        \n",
    "        # feed-forward network\n",
    "        self.lin1 = nn.Linear(in_features=config.dim, out_features=3072, bias=True)\n",
    "        self.lin2 = nn.Linear(in_features=3072, out_features=config.dim, bias=True)\n",
    "        self.output_layer_norm = nn.LayerNorm(normalized_shape=config.dim, eps=config.eps)\n",
    "        \n",
    "        \n",
    "    def forward(self, hidden_states):\n",
    "\n",
    "        def shape(x):\n",
    "            \"\"\" separate heads \"\"\"\n",
    "            return x.view(1, -1, 12, 64).transpose(1, 2)\n",
    "\n",
    "        def unshape(x):\n",
    "            \"\"\" group heads \"\"\"\n",
    "            return x.transpose(1, 2).contiguous().view(1, -1, 12 * 64)\n",
    "\n",
    "        bs=hidden_states.shape[0]\n",
    "        n_nodes= hidden_states.shape[1] \n",
    "\n",
    "        query=key=value=hidden_states\n",
    "        q = self.q_lin(query)\n",
    "        k = self.k_lin(key)\n",
    "        v = self.v_lin(value)\n",
    "\n",
    "        # Separating the heads\n",
    "        q = shape(q)  # (bs, n_heads, q_length, dim_per_head)\n",
    "        k = shape(k)  # (bs, n_heads, k_length, dim_per_head)\n",
    "        v = shape(v)  # (bs, n_heads, k_length, dim_per_head)\n",
    "        \n",
    "        # Normalizing the query-tensor\n",
    "        q = q / math.sqrt(q.shape[-1]) \n",
    "\n",
    "        \n",
    "        # 2. START YOUR CODE HERE #\n",
    "        \n",
    "        # Compute attention scores \n",
    "        scores = torch.matmul(q, k.transpose(2, 3))\n",
    "\n",
    "        # Transform the scores into probability distribution via softmax\n",
    "        weights = nn.Softmax(dim=-1)(scores)  # (bs, n_heads, q_length, k_length)\n",
    "\n",
    "        # Compute the weighted representation of the value-tensor (aka context)\n",
    "        context = torch.matmul(weights, v)  # (bs, n_heads, q_length, dim_per_head)\n",
    "\n",
    "        \n",
    "        # 2. END YOUR CODE HERE #\n",
    "        \n",
    "        # Merging the heads again \n",
    "        context = unshape(context)  # (bs, q_length, dim)\n",
    "\n",
    "        # Additional projection of the context to get the output of the self-attention block\n",
    "        sa_output = self.out_lin(context) \n",
    "        sa_output = self.sa_layer_norm(sa_output + hidden_states)\n",
    "\n",
    "        # Feed-forward network to compute the attention block output\n",
    "        x = self.lin1(sa_output)\n",
    "        x = nn.functional.gelu(x)\n",
    "        ffn_output = self.lin2(x)\n",
    "        ffn_output = self.output_layer_norm(ffn_output + sa_output)\n",
    "\n",
    "        return  ffn_output, weights \n",
    "      \n",
    "block = AttentionBlock(config)\n",
    "# Test if your attention block computes an output\n",
    "block_output = block(embeddings)\n",
    "\n",
    "block_output"
   ]
  },
  {
   "cell_type": "code",
   "execution_count": 8,
   "metadata": {},
   "outputs": [
    {
     "name": "stdout",
     "output_type": "stream",
     "text": [
      "tensor([[[True, True, True,  ..., True, True, True],\n",
      "         [True, True, True,  ..., True, True, True],\n",
      "         [True, True, True,  ..., True, True, True],\n",
      "         ...,\n",
      "         [True, True, True,  ..., True, True, True],\n",
      "         [True, True, True,  ..., True, True, True],\n",
      "         [True, True, True,  ..., True, True, True]]])\n"
     ]
    }
   ],
   "source": [
    "# SOLUTION / Control\n",
    "from solution import test_block\n",
    "test_block(config, block, embeddings)"
   ]
  },
  {
   "cell_type": "markdown",
   "metadata": {
    "id": "bcCPG7i54bme"
   },
   "source": [
    "# 3. Building the model (15 points)\n",
    "\n",
    "Now, we can finally put it all together. For this, please, write the following missing code:\n",
    "\n",
    "\n",
    "1.   \\_\\_init\\_\\_: Add the attention layers (the encoder) to the model\n",
    "2.   forward: Add the missing code for sequentially looping through the attention layers\n",
    "3. forward: Add the classifier, which consists of [1. pre_classifier, 2. ReLU activation, 3. classifier] and returns the logit scores\n",
    "\n",
    "\n"
   ]
  },
  {
   "cell_type": "code",
   "execution_count": 9,
   "metadata": {
    "id": "gRF7FjRc4Am_"
   },
   "outputs": [],
   "source": [
    "torch.manual_seed(0)\n",
    "\n",
    "class DistillBertAttention(nn.Module):\n",
    "    def __init__(self, config):\n",
    "        super().__init__()\n",
    "        self.config = config\n",
    "        self.n_layers=config.n_layers\n",
    "\n",
    "        # embedding\n",
    "        self.embeddings = Embeddings(config)\n",
    "        \n",
    "        # encoder\n",
    "        # 1. START YOUR CODE HERE #\n",
    "        self.attention_layers = torch.nn.Sequential(*[AttentionBlock(config) for i in range(config.n_layers)])\n",
    "        # 1. END YOUR CODE HERE #\n",
    "        \n",
    "        # classification\n",
    "        self.pre_classifier =  nn.Linear(in_features=config.dim, out_features=config.dim, bias=True)\n",
    "        self.classifier =  nn.Linear(in_features=config.dim, out_features=config.n_classes, bias=True)\n",
    "\n",
    "        self.attention_probs = {i: [] for i in range(config.n_layers)}\n",
    "\n",
    "    def forward(self, input_ids):\n",
    "        \"\"\"\n",
    "        Parameters:\n",
    "            input_ids (torch.Tensor): torch.tensor(bs, max_seq_length) The token ids to embed.\n",
    "        Returns: torch.tensor(bs, n_classes) The computed logit scores for each class.\n",
    "        \"\"\"\n",
    "\n",
    "        # Computing the embeddings\n",
    "        hidden_states =  self.embeddings(input_ids=input_ids).to(self.config.device)\n",
    "\n",
    "        # Iteratively going through the attention layers\n",
    "        encoder_input = hidden_states\n",
    "        # 2. START YOUR CODE HERE #\n",
    "        for i,block in enumerate(self.attention_layers):\n",
    "            \n",
    "            output, attention_probs = block(encoder_input)\n",
    "\n",
    "            self.attention_probs[i] = attention_probs\n",
    "            encoder_input = output\n",
    "\n",
    "        # 2. END YOUR CODE HERE #\n",
    "            \n",
    "        # Pooling by selection the [CLS] token\n",
    "        pooled_output = output[:, 0]  # (bs, dim)\n",
    "        \n",
    "        # Classification\n",
    "        # 3. START YOUR CODE HERE #\n",
    "        pooled_output = self.pre_classifier(pooled_output)  # (bs, dim)\n",
    "        pooled_output = nn.ReLU()(pooled_output)  # (bs, dim)\n",
    "        logits = self.classifier(pooled_output)\n",
    "        # 3. END YOUR CODE HERE #\n",
    "\n",
    "        return logits\n",
    "\n",
    "model = DistillBertAttention(config)\n",
    "state_dict = torch.load('distilbert.pt')\n",
    "_ = model.load_state_dict(state_dict)\n",
    "_ = model.eval()\n"
   ]
  },
  {
   "cell_type": "code",
   "execution_count": 10,
   "metadata": {
    "colab": {
     "base_uri": "https://localhost:8080/"
    },
    "id": "nShWppdO5gO8",
    "outputId": "ea7ff636-5e08-4e97-c482-cee539f27e7f"
   },
   "outputs": [],
   "source": [
    "# Predict your output\n",
    "logits = model(inputs['input_ids'])"
   ]
  },
  {
   "cell_type": "code",
   "execution_count": 11,
   "metadata": {
    "colab": {
     "base_uri": "https://localhost:8080/"
    },
    "id": "jwE2HM5_8DFg",
    "outputId": "fcb1327e-e851-4e23-9af3-40ae26e7c1ad"
   },
   "outputs": [
    {
     "name": "stdout",
     "output_type": "stream",
     "text": [
      "tensor([[True, True]])\n"
     ]
    }
   ],
   "source": [
    "# SOLUTION / Control\n",
    "from solution import test_model\n",
    "test_model(model,inputs['input_ids'])"
   ]
  },
  {
   "cell_type": "markdown",
   "metadata": {
    "id": "265U1cxLzy_s"
   },
   "source": [
    "# 4. Visualize the attention weights (10 points)\n",
    "\n",
    "Let's now look at what tokens the model selects in its self-attention blocks.\n",
    "\n",
    "1.   Use the tokenizer to map the 'input_ids' back to 'tokens'.\n",
    "2.   Extract attention probabilities for every layer by averaging over the attention heads in each layer. You should get a matrix of size [n_layers x seq_length x seq_length]\n",
    "3. For each layer plot the resulting attention matrix. "
   ]
  },
  {
   "cell_type": "code",
   "execution_count": 12,
   "metadata": {
    "id": "YBWOrB0e1qeS",
    "scrolled": true
   },
   "outputs": [
    {
     "data": {
      "image/png": "[encoded data removed]",
      "text/plain": [
       "<Figure size 432x288 with 2 Axes>"
      ]
     },
     "metadata": {
      "needs_background": "light"
     },
     "output_type": "display_data"
    },
    {
     "data": {
      "image/png": "[encoded data removed]",
      "text/plain": [
       "<Figure size 432x288 with 2 Axes>"
      ]
     },
     "metadata": {
      "needs_background": "light"
     },
     "output_type": "display_data"
    },
    {
     "data": {
      "image/png": "[encoded data removed]",
      "text/plain": [
       "<Figure size 432x288 with 2 Axes>"
      ]
     },
     "metadata": {
      "needs_background": "light"
     },
     "output_type": "display_data"
    },
    {
     "data": {
      "image/png": "[encoded data removed]",
      "text/plain": [
       "<Figure size 432x288 with 2 Axes>"
      ]
     },
     "metadata": {
      "needs_background": "light"
     },
     "output_type": "display_data"
    },
    {
     "data": {
      "image/png": "[encoded data removed]",
      "text/plain": [
       "<Figure size 432x288 with 2 Axes>"
      ]
     },
     "metadata": {
      "needs_background": "light"
     },
     "output_type": "display_data"
    },
    {
     "data": {
      "image/png": "[encoded data removed]",
      "text/plain": [
       "<Figure size 432x288 with 2 Axes>"
      ]
     },
     "metadata": {
      "needs_background": "light"
     },
     "output_type": "display_data"
    }
   ],
   "source": [
    "import numpy as np\n",
    "import matplotlib.pyplot as plt\n",
    "\n",
    "# YOUR CODE HERE #\n",
    "\n",
    "subtokens = tokenizer.convert_ids_to_tokens(list(inputs['input_ids'].squeeze()))\n",
    "A = np.array([model.attention_probs[i].detach().cpu().numpy().squeeze() for i in range(config.n_layers)])\n",
    "A_avg = A.mean(1)\n",
    "\n",
    "for i in range(config.n_layers):\n",
    "    f, ax  = plt.subplots(1,1)\n",
    "    h = ax.imshow(A_avg[i], cmap='Reds', vmin=0, vmax=1)\n",
    "    ax.set_xticks(range(len(subtokens)))\n",
    "    ax.set_xticklabels(subtokens, rotation=45)\n",
    "\n",
    "    ax.set_yticks(range(len(subtokens)))\n",
    "    ax.set_yticklabels(subtokens)\n",
    "\n",
    "    ax.set_title('layer {}'.format(i))\n",
    "    plt.colorbar(h)\n",
    "    plt.show()"
   ]
  },
  {
   "cell_type": "code",
   "execution_count": 13,
   "metadata": {
    "id": "DcwFk43h5gf2",
    "scrolled": true
   },
   "outputs": [
    {
     "data": {
      "image/png": "[encoded data removed]",
      "text/plain": [
       "<Figure size 432x288 with 2 Axes>"
      ]
     },
     "metadata": {
      "needs_background": "light"
     },
     "output_type": "display_data"
    },
    {
     "data": {
      "image/png": "[encoded data removed]",
      "text/plain": [
       "<Figure size 432x288 with 2 Axes>"
      ]
     },
     "metadata": {
      "needs_background": "light"
     },
     "output_type": "display_data"
    },
    {
     "data": {
      "image/png": "[encoded data removed]",
      "text/plain": [
       "<Figure size 432x288 with 2 Axes>"
      ]
     },
     "metadata": {
      "needs_background": "light"
     },
     "output_type": "display_data"
    },
    {
     "data": {
      "image/png": "[encoded data removed]",
      "text/plain": [
       "<Figure size 432x288 with 2 Axes>"
      ]
     },
     "metadata": {
      "needs_background": "light"
     },
     "output_type": "display_data"
    },
    {
     "data": {
      "image/png": "[encoded data removed]",
      "text/plain": [
       "<Figure size 432x288 with 2 Axes>"
      ]
     },
     "metadata": {
      "needs_background": "light"
     },
     "output_type": "display_data"
    },
    {
     "data": {
      "image/png": "[encoded data removed]",
      "text/plain": [
       "<Figure size 432x288 with 2 Axes>"
      ]
     },
     "metadata": {
      "needs_background": "light"
     },
     "output_type": "display_data"
    }
   ],
   "source": [
    "from solution import plot_attention\n",
    "plot_attention(config, tokenizer, model, inputs['input_ids'])"
   ]
  },
  {
   "cell_type": "code",
   "execution_count": null,
   "metadata": {},
   "outputs": [],
   "source": []
  }
 ],
 "metadata": {
  "colab": {
   "provenance": []
  },
  "kernelspec": {
   "display_name": "Python 3 (ipykernel)",
   "language": "python",
   "name": "python3"
  },
  "language_info": {
   "codemirror_mode": {
    "name": "ipython",
    "version": 3
   },
   "file_extension": ".py",
   "mimetype": "text/x-python",
   "name": "python",
   "nbconvert_exporter": "python",
   "pygments_lexer": "ipython3",
   "version": "3.9.15"
  },
  "widgets": {
   "application/vnd.jupyter.widget-state+json": {
    "00480063bbe44e3bb1c9df60c9c523bb": {
     "model_module": "@jupyter-widgets/controls",
     "model_module_version": "1.5.0",
     "model_name": "HBoxModel",
     "state": {
      "_dom_classes": [],
      "_model_module": "@jupyter-widgets/controls",
      "_model_module_version": "1.5.0",
      "_model_name": "HBoxModel",
      "_view_count": null,
      "_view_module": "@jupyter-widgets/controls",
      "_view_module_version": "1.5.0",
      "_view_name": "HBoxView",
      "box_style": "",
      "children": [
       "IPY_MODEL_802de42781b349cb81818bf641101267",
       "IPY_MODEL_7580e8a9b5df4326b4c86a9e1ed4f907",
       "IPY_MODEL_8e45bedcbcb44b868a09ae2869869ff7"
      ],
      "layout": "IPY_MODEL_5a676367bf2e411fa50ad5774a81c44c"
     }
    },
    "02116a2c6914430e86885433083816fa": {
     "model_module": "@jupyter-widgets/controls",
     "model_module_version": "1.5.0",
     "model_name": "DescriptionStyleModel",
     "state": {
      "_model_module": "@jupyter-widgets/controls",
      "_model_module_version": "1.5.0",
      "_model_name": "DescriptionStyleModel",
      "_view_count": null,
      "_view_module": "@jupyter-widgets/base",
      "_view_module_version": "1.2.0",
      "_view_name": "StyleView",
      "description_width": ""
     }
    },
    "0c02776fb44c47719af7a28a4544dd9e": {
     "model_module": "@jupyter-widgets/controls",
     "model_module_version": "1.5.0",
     "model_name": "HTMLModel",
     "state": {
      "_dom_classes": [],
      "_model_module": "@jupyter-widgets/controls",
      "_model_module_version": "1.5.0",
      "_model_name": "HTMLModel",
      "_view_count": null,
      "_view_module": "@jupyter-widgets/controls",
      "_view_module_version": "1.5.0",
      "_view_name": "HTMLView",
      "description": "",
      "description_tooltip": null,
      "layout": "IPY_MODEL_2cc57489165a4f8e8e95e0dcd9bc4432",
      "placeholder": "​",
      "style": "IPY_MODEL_bf244f6c9a2b461eab469db8dece7750",
      "value": "Downloading (…)lve/main/config.json: 100%"
     }
    },
    "0d5b2fb01b614ec1a661e6f9f3814091": {
     "model_module": "@jupyter-widgets/base",
     "model_module_version": "1.2.0",
     "model_name": "LayoutModel",
     "state": {
      "_model_module": "@jupyter-widgets/base",
      "_model_module_version": "1.2.0",
      "_model_name": "LayoutModel",
      "_view_count": null,
      "_view_module": "@jupyter-widgets/base",
      "_view_module_version": "1.2.0",
      "_view_name": "LayoutView",
      "align_content": null,
      "align_items": null,
      "align_self": null,
      "border": null,
      "bottom": null,
      "display": null,
      "flex": null,
      "flex_flow": null,
      "grid_area": null,
      "grid_auto_columns": null,
      "grid_auto_flow": null,
      "grid_auto_rows": null,
      "grid_column": null,
      "grid_gap": null,
      "grid_row": null,
      "grid_template_areas": null,
      "grid_template_columns": null,
      "grid_template_rows": null,
      "height": null,
      "justify_content": null,
      "justify_items": null,
      "left": null,
      "margin": null,
      "max_height": null,
      "max_width": null,
      "min_height": null,
      "min_width": null,
      "object_fit": null,
      "object_position": null,
      "order": null,
      "overflow": null,
      "overflow_x": null,
      "overflow_y": null,
      "padding": null,
      "right": null,
      "top": null,
      "visibility": null,
      "width": null
     }
    },
    "0fd25b828fef4283b4efbfbc05ae0832": {
     "model_module": "@jupyter-widgets/controls",
     "model_module_version": "1.5.0",
     "model_name": "ProgressStyleModel",
     "state": {
      "_model_module": "@jupyter-widgets/controls",
      "_model_module_version": "1.5.0",
      "_model_name": "ProgressStyleModel",
      "_view_count": null,
      "_view_module": "@jupyter-widgets/base",
      "_view_module_version": "1.2.0",
      "_view_name": "StyleView",
      "bar_color": null,
      "description_width": ""
     }
    },
    "11550a90f27b4396a7538347a98270fc": {
     "model_module": "@jupyter-widgets/controls",
     "model_module_version": "1.5.0",
     "model_name": "HBoxModel",
     "state": {
      "_dom_classes": [],
      "_model_module": "@jupyter-widgets/controls",
      "_model_module_version": "1.5.0",
      "_model_name": "HBoxModel",
      "_view_count": null,
      "_view_module": "@jupyter-widgets/controls",
      "_view_module_version": "1.5.0",
      "_view_name": "HBoxView",
      "box_style": "",
      "children": [
       "IPY_MODEL_c5388c121f0746f6848e839504c76877",
       "IPY_MODEL_49f5a540c9a147e0a2b8b240dbb89ef9",
       "IPY_MODEL_1fd8d0894c6c42bc9b320a1210883338"
      ],
      "layout": "IPY_MODEL_57a291e47f6d41b88a468f75223bd45a"
     }
    },
    "161bbf0b2fe846c2b9c55699d61e6c14": {
     "model_module": "@jupyter-widgets/base",
     "model_module_version": "1.2.0",
     "model_name": "LayoutModel",
     "state": {
      "_model_module": "@jupyter-widgets/base",
      "_model_module_version": "1.2.0",
      "_model_name": "LayoutModel",
      "_view_count": null,
      "_view_module": "@jupyter-widgets/base",
      "_view_module_version": "1.2.0",
      "_view_name": "LayoutView",
      "align_content": null,
      "align_items": null,
      "align_self": null,
      "border": null,
      "bottom": null,
      "display": null,
      "flex": null,
      "flex_flow": null,
      "grid_area": null,
      "grid_auto_columns": null,
      "grid_auto_flow": null,
      "grid_auto_rows": null,
      "grid_column": null,
      "grid_gap": null,
      "grid_row": null,
      "grid_template_areas": null,
      "grid_template_columns": null,
      "grid_template_rows": null,
      "height": null,
      "justify_content": null,
      "justify_items": null,
      "left": null,
      "margin": null,
      "max_height": null,
      "max_width": null,
      "min_height": null,
      "min_width": null,
      "object_fit": null,
      "object_position": null,
      "order": null,
      "overflow": null,
      "overflow_x": null,
      "overflow_y": null,
      "padding": null,
      "right": null,
      "top": null,
      "visibility": null,
      "width": null
     }
    },
    "19810242fd194f9c89e5b7d2e7e75e73": {
     "model_module": "@jupyter-widgets/controls",
     "model_module_version": "1.5.0",
     "model_name": "DescriptionStyleModel",
     "state": {
      "_model_module": "@jupyter-widgets/controls",
      "_model_module_version": "1.5.0",
      "_model_name": "DescriptionStyleModel",
      "_view_count": null,
      "_view_module": "@jupyter-widgets/base",
      "_view_module_version": "1.2.0",
      "_view_name": "StyleView",
      "description_width": ""
     }
    },
    "1fd8d0894c6c42bc9b320a1210883338": {
     "model_module": "@jupyter-widgets/controls",
     "model_module_version": "1.5.0",
     "model_name": "HTMLModel",
     "state": {
      "_dom_classes": [],
      "_model_module": "@jupyter-widgets/controls",
      "_model_module_version": "1.5.0",
      "_model_name": "HTMLModel",
      "_view_count": null,
      "_view_module": "@jupyter-widgets/controls",
      "_view_module_version": "1.5.0",
      "_view_name": "HTMLView",
      "description": "",
      "description_tooltip": null,
      "layout": "IPY_MODEL_850e4b43f1f944bfb6d5c85e04a97745",
      "placeholder": "​",
      "style": "IPY_MODEL_02116a2c6914430e86885433083816fa",
      "value": " 268M/268M [00:03&lt;00:00, 50.6MB/s]"
     }
    },
    "267104257ee84ad2a8bb16318700fbd9": {
     "model_module": "@jupyter-widgets/controls",
     "model_module_version": "1.5.0",
     "model_name": "DescriptionStyleModel",
     "state": {
      "_model_module": "@jupyter-widgets/controls",
      "_model_module_version": "1.5.0",
      "_model_name": "DescriptionStyleModel",
      "_view_count": null,
      "_view_module": "@jupyter-widgets/base",
      "_view_module_version": "1.2.0",
      "_view_name": "StyleView",
      "description_width": ""
     }
    },
    "2cc57489165a4f8e8e95e0dcd9bc4432": {
     "model_module": "@jupyter-widgets/base",
     "model_module_version": "1.2.0",
     "model_name": "LayoutModel",
     "state": {
      "_model_module": "@jupyter-widgets/base",
      "_model_module_version": "1.2.0",
      "_model_name": "LayoutModel",
      "_view_count": null,
      "_view_module": "@jupyter-widgets/base",
      "_view_module_version": "1.2.0",
      "_view_name": "LayoutView",
      "align_content": null,
      "align_items": null,
      "align_self": null,
      "border": null,
      "bottom": null,
      "display": null,
      "flex": null,
      "flex_flow": null,
      "grid_area": null,
      "grid_auto_columns": null,
      "grid_auto_flow": null,
      "grid_auto_rows": null,
      "grid_column": null,
      "grid_gap": null,
      "grid_row": null,
      "grid_template_areas": null,
      "grid_template_columns": null,
      "grid_template_rows": null,
      "height": null,
      "justify_content": null,
      "justify_items": null,
      "left": null,
      "margin": null,
      "max_height": null,
      "max_width": null,
      "min_height": null,
      "min_width": null,
      "object_fit": null,
      "object_position": null,
      "order": null,
      "overflow": null,
      "overflow_x": null,
      "overflow_y": null,
      "padding": null,
      "right": null,
      "top": null,
      "visibility": null,
      "width": null
     }
    },
    "414ce33c926d48a894618daa7899bf83": {
     "model_module": "@jupyter-widgets/base",
     "model_module_version": "1.2.0",
     "model_name": "LayoutModel",
     "state": {
      "_model_module": "@jupyter-widgets/base",
      "_model_module_version": "1.2.0",
      "_model_name": "LayoutModel",
      "_view_count": null,
      "_view_module": "@jupyter-widgets/base",
      "_view_module_version": "1.2.0",
      "_view_name": "LayoutView",
      "align_content": null,
      "align_items": null,
      "align_self": null,
      "border": null,
      "bottom": null,
      "display": null,
      "flex": null,
      "flex_flow": null,
      "grid_area": null,
      "grid_auto_columns": null,
      "grid_auto_flow": null,
      "grid_auto_rows": null,
      "grid_column": null,
      "grid_gap": null,
      "grid_row": null,
      "grid_template_areas": null,
      "grid_template_columns": null,
      "grid_template_rows": null,
      "height": null,
      "justify_content": null,
      "justify_items": null,
      "left": null,
      "margin": null,
      "max_height": null,
      "max_width": null,
      "min_height": null,
      "min_width": null,
      "object_fit": null,
      "object_position": null,
      "order": null,
      "overflow": null,
      "overflow_x": null,
      "overflow_y": null,
      "padding": null,
      "right": null,
      "top": null,
      "visibility": null,
      "width": null
     }
    },
    "460e7d0af9af422b8cae0a132f8ea5f3": {
     "model_module": "@jupyter-widgets/base",
     "model_module_version": "1.2.0",
     "model_name": "LayoutModel",
     "state": {
      "_model_module": "@jupyter-widgets/base",
      "_model_module_version": "1.2.0",
      "_model_name": "LayoutModel",
      "_view_count": null,
      "_view_module": "@jupyter-widgets/base",
      "_view_module_version": "1.2.0",
      "_view_name": "LayoutView",
      "align_content": null,
      "align_items": null,
      "align_self": null,
      "border": null,
      "bottom": null,
      "display": null,
      "flex": null,
      "flex_flow": null,
      "grid_area": null,
      "grid_auto_columns": null,
      "grid_auto_flow": null,
      "grid_auto_rows": null,
      "grid_column": null,
      "grid_gap": null,
      "grid_row": null,
      "grid_template_areas": null,
      "grid_template_columns": null,
      "grid_template_rows": null,
      "height": null,
      "justify_content": null,
      "justify_items": null,
      "left": null,
      "margin": null,
      "max_height": null,
      "max_width": null,
      "min_height": null,
      "min_width": null,
      "object_fit": null,
      "object_position": null,
      "order": null,
      "overflow": null,
      "overflow_x": null,
      "overflow_y": null,
      "padding": null,
      "right": null,
      "top": null,
      "visibility": null,
      "width": null
     }
    },
    "49f5a540c9a147e0a2b8b240dbb89ef9": {
     "model_module": "@jupyter-widgets/controls",
     "model_module_version": "1.5.0",
     "model_name": "FloatProgressModel",
     "state": {
      "_dom_classes": [],
      "_model_module": "@jupyter-widgets/controls",
      "_model_module_version": "1.5.0",
      "_model_name": "FloatProgressModel",
      "_view_count": null,
      "_view_module": "@jupyter-widgets/controls",
      "_view_module_version": "1.5.0",
      "_view_name": "ProgressView",
      "bar_style": "success",
      "description": "",
      "description_tooltip": null,
      "layout": "IPY_MODEL_7345c8b54eba41ee87f3e05a0f355bbe",
      "max": 267844284,
      "min": 0,
      "orientation": "horizontal",
      "style": "IPY_MODEL_0fd25b828fef4283b4efbfbc05ae0832",
      "value": 267844284
     }
    },
    "4c0ca33eeed245fe8b24d0acdff5ef22": {
     "model_module": "@jupyter-widgets/base",
     "model_module_version": "1.2.0",
     "model_name": "LayoutModel",
     "state": {
      "_model_module": "@jupyter-widgets/base",
      "_model_module_version": "1.2.0",
      "_model_name": "LayoutModel",
      "_view_count": null,
      "_view_module": "@jupyter-widgets/base",
      "_view_module_version": "1.2.0",
      "_view_name": "LayoutView",
      "align_content": null,
      "align_items": null,
      "align_self": null,
      "border": null,
      "bottom": null,
      "display": null,
      "flex": null,
      "flex_flow": null,
      "grid_area": null,
      "grid_auto_columns": null,
      "grid_auto_flow": null,
      "grid_auto_rows": null,
      "grid_column": null,
      "grid_gap": null,
      "grid_row": null,
      "grid_template_areas": null,
      "grid_template_columns": null,
      "grid_template_rows": null,
      "height": null,
      "justify_content": null,
      "justify_items": null,
      "left": null,
      "margin": null,
      "max_height": null,
      "max_width": null,
      "min_height": null,
      "min_width": null,
      "object_fit": null,
      "object_position": null,
      "order": null,
      "overflow": null,
      "overflow_x": null,
      "overflow_y": null,
      "padding": null,
      "right": null,
      "top": null,
      "visibility": null,
      "width": null
     }
    },
    "4d3812febe874846a54136c9fda4fb8f": {
     "model_module": "@jupyter-widgets/controls",
     "model_module_version": "1.5.0",
     "model_name": "FloatProgressModel",
     "state": {
      "_dom_classes": [],
      "_model_module": "@jupyter-widgets/controls",
      "_model_module_version": "1.5.0",
      "_model_name": "FloatProgressModel",
      "_view_count": null,
      "_view_module": "@jupyter-widgets/controls",
      "_view_module_version": "1.5.0",
      "_view_name": "ProgressView",
      "bar_style": "success",
      "description": "",
      "description_tooltip": null,
      "layout": "IPY_MODEL_460e7d0af9af422b8cae0a132f8ea5f3",
      "max": 629,
      "min": 0,
      "orientation": "horizontal",
      "style": "IPY_MODEL_ef55c5b49f8940c6b8d36edcfce89fa6",
      "value": 629
     }
    },
    "4e6569685ab940288647d9e5edb20c34": {
     "model_module": "@jupyter-widgets/base",
     "model_module_version": "1.2.0",
     "model_name": "LayoutModel",
     "state": {
      "_model_module": "@jupyter-widgets/base",
      "_model_module_version": "1.2.0",
      "_model_name": "LayoutModel",
      "_view_count": null,
      "_view_module": "@jupyter-widgets/base",
      "_view_module_version": "1.2.0",
      "_view_name": "LayoutView",
      "align_content": null,
      "align_items": null,
      "align_self": null,
      "border": null,
      "bottom": null,
      "display": null,
      "flex": null,
      "flex_flow": null,
      "grid_area": null,
      "grid_auto_columns": null,
      "grid_auto_flow": null,
      "grid_auto_rows": null,
      "grid_column": null,
      "grid_gap": null,
      "grid_row": null,
      "grid_template_areas": null,
      "grid_template_columns": null,
      "grid_template_rows": null,
      "height": null,
      "justify_content": null,
      "justify_items": null,
      "left": null,
      "margin": null,
      "max_height": null,
      "max_width": null,
      "min_height": null,
      "min_width": null,
      "object_fit": null,
      "object_position": null,
      "order": null,
      "overflow": null,
      "overflow_x": null,
      "overflow_y": null,
      "padding": null,
      "right": null,
      "top": null,
      "visibility": null,
      "width": null
     }
    },
    "4fb46a7e3feb40e9b125a7ccc046c2c6": {
     "model_module": "@jupyter-widgets/base",
     "model_module_version": "1.2.0",
     "model_name": "LayoutModel",
     "state": {
      "_model_module": "@jupyter-widgets/base",
      "_model_module_version": "1.2.0",
      "_model_name": "LayoutModel",
      "_view_count": null,
      "_view_module": "@jupyter-widgets/base",
      "_view_module_version": "1.2.0",
      "_view_name": "LayoutView",
      "align_content": null,
      "align_items": null,
      "align_self": null,
      "border": null,
      "bottom": null,
      "display": null,
      "flex": null,
      "flex_flow": null,
      "grid_area": null,
      "grid_auto_columns": null,
      "grid_auto_flow": null,
      "grid_auto_rows": null,
      "grid_column": null,
      "grid_gap": null,
      "grid_row": null,
      "grid_template_areas": null,
      "grid_template_columns": null,
      "grid_template_rows": null,
      "height": null,
      "justify_content": null,
      "justify_items": null,
      "left": null,
      "margin": null,
      "max_height": null,
      "max_width": null,
      "min_height": null,
      "min_width": null,
      "object_fit": null,
      "object_position": null,
      "order": null,
      "overflow": null,
      "overflow_x": null,
      "overflow_y": null,
      "padding": null,
      "right": null,
      "top": null,
      "visibility": null,
      "width": null
     }
    },
    "57a291e47f6d41b88a468f75223bd45a": {
     "model_module": "@jupyter-widgets/base",
     "model_module_version": "1.2.0",
     "model_name": "LayoutModel",
     "state": {
      "_model_module": "@jupyter-widgets/base",
      "_model_module_version": "1.2.0",
      "_model_name": "LayoutModel",
      "_view_count": null,
      "_view_module": "@jupyter-widgets/base",
      "_view_module_version": "1.2.0",
      "_view_name": "LayoutView",
      "align_content": null,
      "align_items": null,
      "align_self": null,
      "border": null,
      "bottom": null,
      "display": null,
      "flex": null,
      "flex_flow": null,
      "grid_area": null,
      "grid_auto_columns": null,
      "grid_auto_flow": null,
      "grid_auto_rows": null,
      "grid_column": null,
      "grid_gap": null,
      "grid_row": null,
      "grid_template_areas": null,
      "grid_template_columns": null,
      "grid_template_rows": null,
      "height": null,
      "justify_content": null,
      "justify_items": null,
      "left": null,
      "margin": null,
      "max_height": null,
      "max_width": null,
      "min_height": null,
      "min_width": null,
      "object_fit": null,
      "object_position": null,
      "order": null,
      "overflow": null,
      "overflow_x": null,
      "overflow_y": null,
      "padding": null,
      "right": null,
      "top": null,
      "visibility": null,
      "width": null
     }
    },
    "5a676367bf2e411fa50ad5774a81c44c": {
     "model_module": "@jupyter-widgets/base",
     "model_module_version": "1.2.0",
     "model_name": "LayoutModel",
     "state": {
      "_model_module": "@jupyter-widgets/base",
      "_model_module_version": "1.2.0",
      "_model_name": "LayoutModel",
      "_view_count": null,
      "_view_module": "@jupyter-widgets/base",
      "_view_module_version": "1.2.0",
      "_view_name": "LayoutView",
      "align_content": null,
      "align_items": null,
      "align_self": null,
      "border": null,
      "bottom": null,
      "display": null,
      "flex": null,
      "flex_flow": null,
      "grid_area": null,
      "grid_auto_columns": null,
      "grid_auto_flow": null,
      "grid_auto_rows": null,
      "grid_column": null,
      "grid_gap": null,
      "grid_row": null,
      "grid_template_areas": null,
      "grid_template_columns": null,
      "grid_template_rows": null,
      "height": null,
      "justify_content": null,
      "justify_items": null,
      "left": null,
      "margin": null,
      "max_height": null,
      "max_width": null,
      "min_height": null,
      "min_width": null,
      "object_fit": null,
      "object_position": null,
      "order": null,
      "overflow": null,
      "overflow_x": null,
      "overflow_y": null,
      "padding": null,
      "right": null,
      "top": null,
      "visibility": null,
      "width": null
     }
    },
    "63f2c6d9126c4eb29147d1412bd1b005": {
     "model_module": "@jupyter-widgets/controls",
     "model_module_version": "1.5.0",
     "model_name": "HTMLModel",
     "state": {
      "_dom_classes": [],
      "_model_module": "@jupyter-widgets/controls",
      "_model_module_version": "1.5.0",
      "_model_name": "HTMLModel",
      "_view_count": null,
      "_view_module": "@jupyter-widgets/controls",
      "_view_module_version": "1.5.0",
      "_view_name": "HTMLView",
      "description": "",
      "description_tooltip": null,
      "layout": "IPY_MODEL_c5b72f9ec01c4d5a933e3b9c76293686",
      "placeholder": "​",
      "style": "IPY_MODEL_893c0a3f2cde43bdaec95719563ab370",
      "value": " 629/629 [00:00&lt;00:00, 17.4kB/s]"
     }
    },
    "6b2012e6bf1b4addaf36d8dba2748d02": {
     "model_module": "@jupyter-widgets/controls",
     "model_module_version": "1.5.0",
     "model_name": "HBoxModel",
     "state": {
      "_dom_classes": [],
      "_model_module": "@jupyter-widgets/controls",
      "_model_module_version": "1.5.0",
      "_model_name": "HBoxModel",
      "_view_count": null,
      "_view_module": "@jupyter-widgets/controls",
      "_view_module_version": "1.5.0",
      "_view_name": "HBoxView",
      "box_style": "",
      "children": [
       "IPY_MODEL_f46afca9fbc34b29a90c654a9c10e405",
       "IPY_MODEL_9471d7292ab3483a8a91e57bf367c3be",
       "IPY_MODEL_8b7e0d9f11a241e78d5ccc60b2e0771f"
      ],
      "layout": "IPY_MODEL_161bbf0b2fe846c2b9c55699d61e6c14"
     }
    },
    "7345c8b54eba41ee87f3e05a0f355bbe": {
     "model_module": "@jupyter-widgets/base",
     "model_module_version": "1.2.0",
     "model_name": "LayoutModel",
     "state": {
      "_model_module": "@jupyter-widgets/base",
      "_model_module_version": "1.2.0",
      "_model_name": "LayoutModel",
      "_view_count": null,
      "_view_module": "@jupyter-widgets/base",
      "_view_module_version": "1.2.0",
      "_view_name": "LayoutView",
      "align_content": null,
      "align_items": null,
      "align_self": null,
      "border": null,
      "bottom": null,
      "display": null,
      "flex": null,
      "flex_flow": null,
      "grid_area": null,
      "grid_auto_columns": null,
      "grid_auto_flow": null,
      "grid_auto_rows": null,
      "grid_column": null,
      "grid_gap": null,
      "grid_row": null,
      "grid_template_areas": null,
      "grid_template_columns": null,
      "grid_template_rows": null,
      "height": null,
      "justify_content": null,
      "justify_items": null,
      "left": null,
      "margin": null,
      "max_height": null,
      "max_width": null,
      "min_height": null,
      "min_width": null,
      "object_fit": null,
      "object_position": null,
      "order": null,
      "overflow": null,
      "overflow_x": null,
      "overflow_y": null,
      "padding": null,
      "right": null,
      "top": null,
      "visibility": null,
      "width": null
     }
    },
    "7580e8a9b5df4326b4c86a9e1ed4f907": {
     "model_module": "@jupyter-widgets/controls",
     "model_module_version": "1.5.0",
     "model_name": "FloatProgressModel",
     "state": {
      "_dom_classes": [],
      "_model_module": "@jupyter-widgets/controls",
      "_model_module_version": "1.5.0",
      "_model_name": "FloatProgressModel",
      "_view_count": null,
      "_view_module": "@jupyter-widgets/controls",
      "_view_module_version": "1.5.0",
      "_view_name": "ProgressView",
      "bar_style": "success",
      "description": "",
      "description_tooltip": null,
      "layout": "IPY_MODEL_ac88fcd57ecf4218be9df66a657afd93",
      "max": 48,
      "min": 0,
      "orientation": "horizontal",
      "style": "IPY_MODEL_dfb2388fd5f04908b376b4926b67a9c5",
      "value": 48
     }
    },
    "790cf14452f7485781c9c67b8036637f": {
     "model_module": "@jupyter-widgets/controls",
     "model_module_version": "1.5.0",
     "model_name": "DescriptionStyleModel",
     "state": {
      "_model_module": "@jupyter-widgets/controls",
      "_model_module_version": "1.5.0",
      "_model_name": "DescriptionStyleModel",
      "_view_count": null,
      "_view_module": "@jupyter-widgets/base",
      "_view_module_version": "1.2.0",
      "_view_name": "StyleView",
      "description_width": ""
     }
    },
    "802de42781b349cb81818bf641101267": {
     "model_module": "@jupyter-widgets/controls",
     "model_module_version": "1.5.0",
     "model_name": "HTMLModel",
     "state": {
      "_dom_classes": [],
      "_model_module": "@jupyter-widgets/controls",
      "_model_module_version": "1.5.0",
      "_model_name": "HTMLModel",
      "_view_count": null,
      "_view_module": "@jupyter-widgets/controls",
      "_view_module_version": "1.5.0",
      "_view_name": "HTMLView",
      "description": "",
      "description_tooltip": null,
      "layout": "IPY_MODEL_4e6569685ab940288647d9e5edb20c34",
      "placeholder": "​",
      "style": "IPY_MODEL_d0fcbf18cba74f0c92226c21f0e4918c",
      "value": "Downloading (…)okenizer_config.json: 100%"
     }
    },
    "850e4b43f1f944bfb6d5c85e04a97745": {
     "model_module": "@jupyter-widgets/base",
     "model_module_version": "1.2.0",
     "model_name": "LayoutModel",
     "state": {
      "_model_module": "@jupyter-widgets/base",
      "_model_module_version": "1.2.0",
      "_model_name": "LayoutModel",
      "_view_count": null,
      "_view_module": "@jupyter-widgets/base",
      "_view_module_version": "1.2.0",
      "_view_name": "LayoutView",
      "align_content": null,
      "align_items": null,
      "align_self": null,
      "border": null,
      "bottom": null,
      "display": null,
      "flex": null,
      "flex_flow": null,
      "grid_area": null,
      "grid_auto_columns": null,
      "grid_auto_flow": null,
      "grid_auto_rows": null,
      "grid_column": null,
      "grid_gap": null,
      "grid_row": null,
      "grid_template_areas": null,
      "grid_template_columns": null,
      "grid_template_rows": null,
      "height": null,
      "justify_content": null,
      "justify_items": null,
      "left": null,
      "margin": null,
      "max_height": null,
      "max_width": null,
      "min_height": null,
      "min_width": null,
      "object_fit": null,
      "object_position": null,
      "order": null,
      "overflow": null,
      "overflow_x": null,
      "overflow_y": null,
      "padding": null,
      "right": null,
      "top": null,
      "visibility": null,
      "width": null
     }
    },
    "893c0a3f2cde43bdaec95719563ab370": {
     "model_module": "@jupyter-widgets/controls",
     "model_module_version": "1.5.0",
     "model_name": "DescriptionStyleModel",
     "state": {
      "_model_module": "@jupyter-widgets/controls",
      "_model_module_version": "1.5.0",
      "_model_name": "DescriptionStyleModel",
      "_view_count": null,
      "_view_module": "@jupyter-widgets/base",
      "_view_module_version": "1.2.0",
      "_view_name": "StyleView",
      "description_width": ""
     }
    },
    "8b7e0d9f11a241e78d5ccc60b2e0771f": {
     "model_module": "@jupyter-widgets/controls",
     "model_module_version": "1.5.0",
     "model_name": "HTMLModel",
     "state": {
      "_dom_classes": [],
      "_model_module": "@jupyter-widgets/controls",
      "_model_module_version": "1.5.0",
      "_model_name": "HTMLModel",
      "_view_count": null,
      "_view_module": "@jupyter-widgets/controls",
      "_view_module_version": "1.5.0",
      "_view_name": "HTMLView",
      "description": "",
      "description_tooltip": null,
      "layout": "IPY_MODEL_e91158b58de143c39db4bb38376c3484",
      "placeholder": "​",
      "style": "IPY_MODEL_19810242fd194f9c89e5b7d2e7e75e73",
      "value": " 232k/232k [00:00&lt;00:00, 6.24MB/s]"
     }
    },
    "8e45bedcbcb44b868a09ae2869869ff7": {
     "model_module": "@jupyter-widgets/controls",
     "model_module_version": "1.5.0",
     "model_name": "HTMLModel",
     "state": {
      "_dom_classes": [],
      "_model_module": "@jupyter-widgets/controls",
      "_model_module_version": "1.5.0",
      "_model_name": "HTMLModel",
      "_view_count": null,
      "_view_module": "@jupyter-widgets/controls",
      "_view_module_version": "1.5.0",
      "_view_name": "HTMLView",
      "description": "",
      "description_tooltip": null,
      "layout": "IPY_MODEL_4fb46a7e3feb40e9b125a7ccc046c2c6",
      "placeholder": "​",
      "style": "IPY_MODEL_790cf14452f7485781c9c67b8036637f",
      "value": " 48.0/48.0 [00:00&lt;00:00, 1.26kB/s]"
     }
    },
    "9471d7292ab3483a8a91e57bf367c3be": {
     "model_module": "@jupyter-widgets/controls",
     "model_module_version": "1.5.0",
     "model_name": "FloatProgressModel",
     "state": {
      "_dom_classes": [],
      "_model_module": "@jupyter-widgets/controls",
      "_model_module_version": "1.5.0",
      "_model_name": "FloatProgressModel",
      "_view_count": null,
      "_view_module": "@jupyter-widgets/controls",
      "_view_module_version": "1.5.0",
      "_view_name": "ProgressView",
      "bar_style": "success",
      "description": "",
      "description_tooltip": null,
      "layout": "IPY_MODEL_4c0ca33eeed245fe8b24d0acdff5ef22",
      "max": 231508,
      "min": 0,
      "orientation": "horizontal",
      "style": "IPY_MODEL_db34d15a24f64f6f957e72daf5f1225c",
      "value": 231508
     }
    },
    "a60e9b79a80d4ed7a9753fccae7bee36": {
     "model_module": "@jupyter-widgets/controls",
     "model_module_version": "1.5.0",
     "model_name": "DescriptionStyleModel",
     "state": {
      "_model_module": "@jupyter-widgets/controls",
      "_model_module_version": "1.5.0",
      "_model_name": "DescriptionStyleModel",
      "_view_count": null,
      "_view_module": "@jupyter-widgets/base",
      "_view_module_version": "1.2.0",
      "_view_name": "StyleView",
      "description_width": ""
     }
    },
    "ac88fcd57ecf4218be9df66a657afd93": {
     "model_module": "@jupyter-widgets/base",
     "model_module_version": "1.2.0",
     "model_name": "LayoutModel",
     "state": {
      "_model_module": "@jupyter-widgets/base",
      "_model_module_version": "1.2.0",
      "_model_name": "LayoutModel",
      "_view_count": null,
      "_view_module": "@jupyter-widgets/base",
      "_view_module_version": "1.2.0",
      "_view_name": "LayoutView",
      "align_content": null,
      "align_items": null,
      "align_self": null,
      "border": null,
      "bottom": null,
      "display": null,
      "flex": null,
      "flex_flow": null,
      "grid_area": null,
      "grid_auto_columns": null,
      "grid_auto_flow": null,
      "grid_auto_rows": null,
      "grid_column": null,
      "grid_gap": null,
      "grid_row": null,
      "grid_template_areas": null,
      "grid_template_columns": null,
      "grid_template_rows": null,
      "height": null,
      "justify_content": null,
      "justify_items": null,
      "left": null,
      "margin": null,
      "max_height": null,
      "max_width": null,
      "min_height": null,
      "min_width": null,
      "object_fit": null,
      "object_position": null,
      "order": null,
      "overflow": null,
      "overflow_x": null,
      "overflow_y": null,
      "padding": null,
      "right": null,
      "top": null,
      "visibility": null,
      "width": null
     }
    },
    "b2cabbeec128483b8723c8aedbf72814": {
     "model_module": "@jupyter-widgets/base",
     "model_module_version": "1.2.0",
     "model_name": "LayoutModel",
     "state": {
      "_model_module": "@jupyter-widgets/base",
      "_model_module_version": "1.2.0",
      "_model_name": "LayoutModel",
      "_view_count": null,
      "_view_module": "@jupyter-widgets/base",
      "_view_module_version": "1.2.0",
      "_view_name": "LayoutView",
      "align_content": null,
      "align_items": null,
      "align_self": null,
      "border": null,
      "bottom": null,
      "display": null,
      "flex": null,
      "flex_flow": null,
      "grid_area": null,
      "grid_auto_columns": null,
      "grid_auto_flow": null,
      "grid_auto_rows": null,
      "grid_column": null,
      "grid_gap": null,
      "grid_row": null,
      "grid_template_areas": null,
      "grid_template_columns": null,
      "grid_template_rows": null,
      "height": null,
      "justify_content": null,
      "justify_items": null,
      "left": null,
      "margin": null,
      "max_height": null,
      "max_width": null,
      "min_height": null,
      "min_width": null,
      "object_fit": null,
      "object_position": null,
      "order": null,
      "overflow": null,
      "overflow_x": null,
      "overflow_y": null,
      "padding": null,
      "right": null,
      "top": null,
      "visibility": null,
      "width": null
     }
    },
    "bf244f6c9a2b461eab469db8dece7750": {
     "model_module": "@jupyter-widgets/controls",
     "model_module_version": "1.5.0",
     "model_name": "DescriptionStyleModel",
     "state": {
      "_model_module": "@jupyter-widgets/controls",
      "_model_module_version": "1.5.0",
      "_model_name": "DescriptionStyleModel",
      "_view_count": null,
      "_view_module": "@jupyter-widgets/base",
      "_view_module_version": "1.2.0",
      "_view_name": "StyleView",
      "description_width": ""
     }
    },
    "c5388c121f0746f6848e839504c76877": {
     "model_module": "@jupyter-widgets/controls",
     "model_module_version": "1.5.0",
     "model_name": "HTMLModel",
     "state": {
      "_dom_classes": [],
      "_model_module": "@jupyter-widgets/controls",
      "_model_module_version": "1.5.0",
      "_model_name": "HTMLModel",
      "_view_count": null,
      "_view_module": "@jupyter-widgets/controls",
      "_view_module_version": "1.5.0",
      "_view_name": "HTMLView",
      "description": "",
      "description_tooltip": null,
      "layout": "IPY_MODEL_0d5b2fb01b614ec1a661e6f9f3814091",
      "placeholder": "​",
      "style": "IPY_MODEL_a60e9b79a80d4ed7a9753fccae7bee36",
      "value": "Downloading pytorch_model.bin: 100%"
     }
    },
    "c5b72f9ec01c4d5a933e3b9c76293686": {
     "model_module": "@jupyter-widgets/base",
     "model_module_version": "1.2.0",
     "model_name": "LayoutModel",
     "state": {
      "_model_module": "@jupyter-widgets/base",
      "_model_module_version": "1.2.0",
      "_model_name": "LayoutModel",
      "_view_count": null,
      "_view_module": "@jupyter-widgets/base",
      "_view_module_version": "1.2.0",
      "_view_name": "LayoutView",
      "align_content": null,
      "align_items": null,
      "align_self": null,
      "border": null,
      "bottom": null,
      "display": null,
      "flex": null,
      "flex_flow": null,
      "grid_area": null,
      "grid_auto_columns": null,
      "grid_auto_flow": null,
      "grid_auto_rows": null,
      "grid_column": null,
      "grid_gap": null,
      "grid_row": null,
      "grid_template_areas": null,
      "grid_template_columns": null,
      "grid_template_rows": null,
      "height": null,
      "justify_content": null,
      "justify_items": null,
      "left": null,
      "margin": null,
      "max_height": null,
      "max_width": null,
      "min_height": null,
      "min_width": null,
      "object_fit": null,
      "object_position": null,
      "order": null,
      "overflow": null,
      "overflow_x": null,
      "overflow_y": null,
      "padding": null,
      "right": null,
      "top": null,
      "visibility": null,
      "width": null
     }
    },
    "d0fcbf18cba74f0c92226c21f0e4918c": {
     "model_module": "@jupyter-widgets/controls",
     "model_module_version": "1.5.0",
     "model_name": "DescriptionStyleModel",
     "state": {
      "_model_module": "@jupyter-widgets/controls",
      "_model_module_version": "1.5.0",
      "_model_name": "DescriptionStyleModel",
      "_view_count": null,
      "_view_module": "@jupyter-widgets/base",
      "_view_module_version": "1.2.0",
      "_view_name": "StyleView",
      "description_width": ""
     }
    },
    "d2f55b306c804547afe0c1c9628acddd": {
     "model_module": "@jupyter-widgets/controls",
     "model_module_version": "1.5.0",
     "model_name": "HBoxModel",
     "state": {
      "_dom_classes": [],
      "_model_module": "@jupyter-widgets/controls",
      "_model_module_version": "1.5.0",
      "_model_name": "HBoxModel",
      "_view_count": null,
      "_view_module": "@jupyter-widgets/controls",
      "_view_module_version": "1.5.0",
      "_view_name": "HBoxView",
      "box_style": "",
      "children": [
       "IPY_MODEL_0c02776fb44c47719af7a28a4544dd9e",
       "IPY_MODEL_4d3812febe874846a54136c9fda4fb8f",
       "IPY_MODEL_63f2c6d9126c4eb29147d1412bd1b005"
      ],
      "layout": "IPY_MODEL_b2cabbeec128483b8723c8aedbf72814"
     }
    },
    "db34d15a24f64f6f957e72daf5f1225c": {
     "model_module": "@jupyter-widgets/controls",
     "model_module_version": "1.5.0",
     "model_name": "ProgressStyleModel",
     "state": {
      "_model_module": "@jupyter-widgets/controls",
      "_model_module_version": "1.5.0",
      "_model_name": "ProgressStyleModel",
      "_view_count": null,
      "_view_module": "@jupyter-widgets/base",
      "_view_module_version": "1.2.0",
      "_view_name": "StyleView",
      "bar_color": null,
      "description_width": ""
     }
    },
    "dfb2388fd5f04908b376b4926b67a9c5": {
     "model_module": "@jupyter-widgets/controls",
     "model_module_version": "1.5.0",
     "model_name": "ProgressStyleModel",
     "state": {
      "_model_module": "@jupyter-widgets/controls",
      "_model_module_version": "1.5.0",
      "_model_name": "ProgressStyleModel",
      "_view_count": null,
      "_view_module": "@jupyter-widgets/base",
      "_view_module_version": "1.2.0",
      "_view_name": "StyleView",
      "bar_color": null,
      "description_width": ""
     }
    },
    "e91158b58de143c39db4bb38376c3484": {
     "model_module": "@jupyter-widgets/base",
     "model_module_version": "1.2.0",
     "model_name": "LayoutModel",
     "state": {
      "_model_module": "@jupyter-widgets/base",
      "_model_module_version": "1.2.0",
      "_model_name": "LayoutModel",
      "_view_count": null,
      "_view_module": "@jupyter-widgets/base",
      "_view_module_version": "1.2.0",
      "_view_name": "LayoutView",
      "align_content": null,
      "align_items": null,
      "align_self": null,
      "border": null,
      "bottom": null,
      "display": null,
      "flex": null,
      "flex_flow": null,
      "grid_area": null,
      "grid_auto_columns": null,
      "grid_auto_flow": null,
      "grid_auto_rows": null,
      "grid_column": null,
      "grid_gap": null,
      "grid_row": null,
      "grid_template_areas": null,
      "grid_template_columns": null,
      "grid_template_rows": null,
      "height": null,
      "justify_content": null,
      "justify_items": null,
      "left": null,
      "margin": null,
      "max_height": null,
      "max_width": null,
      "min_height": null,
      "min_width": null,
      "object_fit": null,
      "object_position": null,
      "order": null,
      "overflow": null,
      "overflow_x": null,
      "overflow_y": null,
      "padding": null,
      "right": null,
      "top": null,
      "visibility": null,
      "width": null
     }
    },
    "ef55c5b49f8940c6b8d36edcfce89fa6": {
     "model_module": "@jupyter-widgets/controls",
     "model_module_version": "1.5.0",
     "model_name": "ProgressStyleModel",
     "state": {
      "_model_module": "@jupyter-widgets/controls",
      "_model_module_version": "1.5.0",
      "_model_name": "ProgressStyleModel",
      "_view_count": null,
      "_view_module": "@jupyter-widgets/base",
      "_view_module_version": "1.2.0",
      "_view_name": "StyleView",
      "bar_color": null,
      "description_width": ""
     }
    },
    "f46afca9fbc34b29a90c654a9c10e405": {
     "model_module": "@jupyter-widgets/controls",
     "model_module_version": "1.5.0",
     "model_name": "HTMLModel",
     "state": {
      "_dom_classes": [],
      "_model_module": "@jupyter-widgets/controls",
      "_model_module_version": "1.5.0",
      "_model_name": "HTMLModel",
      "_view_count": null,
      "_view_module": "@jupyter-widgets/controls",
      "_view_module_version": "1.5.0",
      "_view_name": "HTMLView",
      "description": "",
      "description_tooltip": null,
      "layout": "IPY_MODEL_414ce33c926d48a894618daa7899bf83",
      "placeholder": "​",
      "style": "IPY_MODEL_267104257ee84ad2a8bb16318700fbd9",
      "value": "Downloading (…)solve/main/vocab.txt: 100%"
     }
    }
   }
  }
 },
 "nbformat": 4,
 "nbformat_minor": 1
}
